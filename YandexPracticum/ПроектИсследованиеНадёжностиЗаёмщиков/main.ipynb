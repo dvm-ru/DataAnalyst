{
 "cells": [
  {
   "cell_type": "markdown",
   "id": "386f2ae7",
   "metadata": {
    "deletable": false,
    "editable": false,
    "id": "386f2ae7"
   },
   "source": [
    "# Исследование надежности заемщиков\n"
   ]
  },
  {
   "cell_type": "markdown",
   "id": "dfa6aeb9",
   "metadata": {},
   "source": [
    "## Описание проекта"
   ]
  },
  {
   "cell_type": "markdown",
   "id": "7524c7ac",
   "metadata": {},
   "source": [
    "Заказчик — кредитный отдел банка.\\\n",
    "Нужно разобраться, влияет ли семейное положение и количество детей клиента на факт погашения кредита в срок.\\\n",
    "Результаты исследования будут учтены при построении модели кредитного скоринга — специальной системы,\\\n",
    "которая оценивает способность потенциального заёмщика вернуть кредит банку."
   ]
  },
  {
   "cell_type": "markdown",
   "id": "7f18589d",
   "metadata": {},
   "source": [
    "### Данные"
   ]
  },
  {
   "cell_type": "markdown",
   "id": "e127bd56",
   "metadata": {},
   "source": [
    "Входные данные от банка — статистика о платёжеспособности клиентов."
   ]
  },
  {
   "cell_type": "markdown",
   "id": "5b8ba870",
   "metadata": {},
   "source": [
    "**Описание данных**\n",
    "- children — количество детей в семье\n",
    "- days_employed — общий трудовой стаж в днях\n",
    "- dob_years — возраст клиента в годах\n",
    "- education — уроaвень образования клиента\n",
    "- education_id — идентификатор уровня образования\n",
    "- family_status — семейное положение\n",
    "- family_status_id — идентификатор семейного положения\n",
    "- gender — пол клиента\n",
    "- income_type — тип занятости\n",
    "- debt — имел ли задолженность по возврату кредитов\n",
    "- total_income — ежемесячный доход\n",
    "- purpose — цель получения кредита"
   ]
  },
  {
   "cell_type": "markdown",
   "id": "c9f850af",
   "metadata": {},
   "source": [
    "### Задача"
   ]
  },
  {
   "cell_type": "markdown",
   "id": "724a8054",
   "metadata": {},
   "source": [
    "Нужно разобраться, влияет ли семейное положение и количество детей клиента на факт погашения кредита в срок."
   ]
  },
  {
   "cell_type": "markdown",
   "id": "018682a8",
   "metadata": {},
   "source": [
    "Потребуется:\n",
    "- изучить общую информацию о полученных данных, проанализировать какие данные количественные/качественные\n",
    "- выявить и обработать пропущенные значения для каждого столбца,\n",
    "- выявить и обработать аномальные значения,\n",
    "- для удобства проведения анализа:\n",
    "    - заменить некоторые типы данных на необходимые типы данных\n",
    "    - категоризировать данные\n",
    "- выявить и обработать явные и неявные дубликаты"
   ]
  },
  {
   "cell_type": "markdown",
   "id": "4ab1de3d",
   "metadata": {},
   "source": [
    "Подтвердить или опровергнуть следующие гипотезы:\n",
    "- Есть ли зависимость между количеством детей и возвратом кредита в срок?\n",
    "- Есть ли зависимость между семейным положением и возвратом кредита в срок?\n",
    "- Есть ли зависимость между уровнем дохода и возвратом кредита в срок?\n",
    "- Как разные цели кредита влияют на его возврат в срок?"
   ]
  },
  {
   "cell_type": "markdown",
   "id": "46af5238",
   "metadata": {},
   "source": [
    "### Инструменты библиотеки и техники\n",
    "**Python, Pandas, предобработка данных, лемматизация**"
   ]
  },
  {
   "cell_type": "markdown",
   "id": "26613308",
   "metadata": {
    "deletable": false,
    "editable": false,
    "id": "26613308"
   },
   "source": [
    "## Откройте таблицу и изучите общую информацию о данных"
   ]
  },
  {
   "cell_type": "markdown",
   "id": "3c9f838e",
   "metadata": {
    "deletable": false,
    "editable": false,
    "id": "3c9f838e"
   },
   "source": [
    "**Задание 1. Импортируйте библиотеку pandas. Считайте данные из csv-файла в датафрейм и сохраните в переменную `data`. Путь к файлу:**\n",
    "\n",
    "`/datasets/data.csv`"
   ]
  },
  {
   "cell_type": "code",
   "execution_count": 1,
   "id": "77a68a90",
   "metadata": {
    "deletable": false,
    "id": "77a68a90"
   },
   "outputs": [],
   "source": [
    "import pandas as pd\n",
    "\n",
    "try:\n",
    "    data = pd.read_csv('/datasets/data.csv')\n",
    "except:\n",
    "    data = pd.read_csv('https://code.s3.yandex.net/datasets/data.csv')"
   ]
  },
  {
   "cell_type": "markdown",
   "id": "45365635",
   "metadata": {
    "deletable": false,
    "editable": false,
    "id": "45365635"
   },
   "source": [
    "**Задание 2. Выведите первые 20 строчек датафрейма `data` на экран.**"
   ]
  },
  {
   "cell_type": "code",
   "execution_count": 2,
   "id": "b0451a9a",
   "metadata": {
    "deletable": false,
    "id": "b0451a9a",
    "outputId": "1a8f3ef2-d323-4ec2-ddf7-89670b5944c4"
   },
   "outputs": [
    {
     "data": {
      "text/html": [
       "<div>\n",
       "<style scoped>\n",
       "    .dataframe tbody tr th:only-of-type {\n",
       "        vertical-align: middle;\n",
       "    }\n",
       "\n",
       "    .dataframe tbody tr th {\n",
       "        vertical-align: top;\n",
       "    }\n",
       "\n",
       "    .dataframe thead th {\n",
       "        text-align: right;\n",
       "    }\n",
       "</style>\n",
       "<table border=\"1\" class=\"dataframe\">\n",
       "  <thead>\n",
       "    <tr style=\"text-align: right;\">\n",
       "      <th></th>\n",
       "      <th>children</th>\n",
       "      <th>days_employed</th>\n",
       "      <th>dob_years</th>\n",
       "      <th>education</th>\n",
       "      <th>education_id</th>\n",
       "      <th>family_status</th>\n",
       "      <th>family_status_id</th>\n",
       "      <th>gender</th>\n",
       "      <th>income_type</th>\n",
       "      <th>debt</th>\n",
       "      <th>total_income</th>\n",
       "      <th>purpose</th>\n",
       "    </tr>\n",
       "  </thead>\n",
       "  <tbody>\n",
       "    <tr>\n",
       "      <th>0</th>\n",
       "      <td>1</td>\n",
       "      <td>-8437.673028</td>\n",
       "      <td>42</td>\n",
       "      <td>высшее</td>\n",
       "      <td>0</td>\n",
       "      <td>женат / замужем</td>\n",
       "      <td>0</td>\n",
       "      <td>F</td>\n",
       "      <td>сотрудник</td>\n",
       "      <td>0</td>\n",
       "      <td>253875.639453</td>\n",
       "      <td>покупка жилья</td>\n",
       "    </tr>\n",
       "    <tr>\n",
       "      <th>1</th>\n",
       "      <td>1</td>\n",
       "      <td>-4024.803754</td>\n",
       "      <td>36</td>\n",
       "      <td>среднее</td>\n",
       "      <td>1</td>\n",
       "      <td>женат / замужем</td>\n",
       "      <td>0</td>\n",
       "      <td>F</td>\n",
       "      <td>сотрудник</td>\n",
       "      <td>0</td>\n",
       "      <td>112080.014102</td>\n",
       "      <td>приобретение автомобиля</td>\n",
       "    </tr>\n",
       "    <tr>\n",
       "      <th>2</th>\n",
       "      <td>0</td>\n",
       "      <td>-5623.422610</td>\n",
       "      <td>33</td>\n",
       "      <td>Среднее</td>\n",
       "      <td>1</td>\n",
       "      <td>женат / замужем</td>\n",
       "      <td>0</td>\n",
       "      <td>M</td>\n",
       "      <td>сотрудник</td>\n",
       "      <td>0</td>\n",
       "      <td>145885.952297</td>\n",
       "      <td>покупка жилья</td>\n",
       "    </tr>\n",
       "    <tr>\n",
       "      <th>3</th>\n",
       "      <td>3</td>\n",
       "      <td>-4124.747207</td>\n",
       "      <td>32</td>\n",
       "      <td>среднее</td>\n",
       "      <td>1</td>\n",
       "      <td>женат / замужем</td>\n",
       "      <td>0</td>\n",
       "      <td>M</td>\n",
       "      <td>сотрудник</td>\n",
       "      <td>0</td>\n",
       "      <td>267628.550329</td>\n",
       "      <td>дополнительное образование</td>\n",
       "    </tr>\n",
       "    <tr>\n",
       "      <th>4</th>\n",
       "      <td>0</td>\n",
       "      <td>340266.072047</td>\n",
       "      <td>53</td>\n",
       "      <td>среднее</td>\n",
       "      <td>1</td>\n",
       "      <td>гражданский брак</td>\n",
       "      <td>1</td>\n",
       "      <td>F</td>\n",
       "      <td>пенсионер</td>\n",
       "      <td>0</td>\n",
       "      <td>158616.077870</td>\n",
       "      <td>сыграть свадьбу</td>\n",
       "    </tr>\n",
       "    <tr>\n",
       "      <th>5</th>\n",
       "      <td>0</td>\n",
       "      <td>-926.185831</td>\n",
       "      <td>27</td>\n",
       "      <td>высшее</td>\n",
       "      <td>0</td>\n",
       "      <td>гражданский брак</td>\n",
       "      <td>1</td>\n",
       "      <td>M</td>\n",
       "      <td>компаньон</td>\n",
       "      <td>0</td>\n",
       "      <td>255763.565419</td>\n",
       "      <td>покупка жилья</td>\n",
       "    </tr>\n",
       "    <tr>\n",
       "      <th>6</th>\n",
       "      <td>0</td>\n",
       "      <td>-2879.202052</td>\n",
       "      <td>43</td>\n",
       "      <td>высшее</td>\n",
       "      <td>0</td>\n",
       "      <td>женат / замужем</td>\n",
       "      <td>0</td>\n",
       "      <td>F</td>\n",
       "      <td>компаньон</td>\n",
       "      <td>0</td>\n",
       "      <td>240525.971920</td>\n",
       "      <td>операции с жильем</td>\n",
       "    </tr>\n",
       "    <tr>\n",
       "      <th>7</th>\n",
       "      <td>0</td>\n",
       "      <td>-152.779569</td>\n",
       "      <td>50</td>\n",
       "      <td>СРЕДНЕЕ</td>\n",
       "      <td>1</td>\n",
       "      <td>женат / замужем</td>\n",
       "      <td>0</td>\n",
       "      <td>M</td>\n",
       "      <td>сотрудник</td>\n",
       "      <td>0</td>\n",
       "      <td>135823.934197</td>\n",
       "      <td>образование</td>\n",
       "    </tr>\n",
       "    <tr>\n",
       "      <th>8</th>\n",
       "      <td>2</td>\n",
       "      <td>-6929.865299</td>\n",
       "      <td>35</td>\n",
       "      <td>ВЫСШЕЕ</td>\n",
       "      <td>0</td>\n",
       "      <td>гражданский брак</td>\n",
       "      <td>1</td>\n",
       "      <td>F</td>\n",
       "      <td>сотрудник</td>\n",
       "      <td>0</td>\n",
       "      <td>95856.832424</td>\n",
       "      <td>на проведение свадьбы</td>\n",
       "    </tr>\n",
       "    <tr>\n",
       "      <th>9</th>\n",
       "      <td>0</td>\n",
       "      <td>-2188.756445</td>\n",
       "      <td>41</td>\n",
       "      <td>среднее</td>\n",
       "      <td>1</td>\n",
       "      <td>женат / замужем</td>\n",
       "      <td>0</td>\n",
       "      <td>M</td>\n",
       "      <td>сотрудник</td>\n",
       "      <td>0</td>\n",
       "      <td>144425.938277</td>\n",
       "      <td>покупка жилья для семьи</td>\n",
       "    </tr>\n",
       "    <tr>\n",
       "      <th>10</th>\n",
       "      <td>2</td>\n",
       "      <td>-4171.483647</td>\n",
       "      <td>36</td>\n",
       "      <td>высшее</td>\n",
       "      <td>0</td>\n",
       "      <td>женат / замужем</td>\n",
       "      <td>0</td>\n",
       "      <td>M</td>\n",
       "      <td>компаньон</td>\n",
       "      <td>0</td>\n",
       "      <td>113943.491460</td>\n",
       "      <td>покупка недвижимости</td>\n",
       "    </tr>\n",
       "    <tr>\n",
       "      <th>11</th>\n",
       "      <td>0</td>\n",
       "      <td>-792.701887</td>\n",
       "      <td>40</td>\n",
       "      <td>среднее</td>\n",
       "      <td>1</td>\n",
       "      <td>женат / замужем</td>\n",
       "      <td>0</td>\n",
       "      <td>F</td>\n",
       "      <td>сотрудник</td>\n",
       "      <td>0</td>\n",
       "      <td>77069.234271</td>\n",
       "      <td>покупка коммерческой недвижимости</td>\n",
       "    </tr>\n",
       "    <tr>\n",
       "      <th>12</th>\n",
       "      <td>0</td>\n",
       "      <td>NaN</td>\n",
       "      <td>65</td>\n",
       "      <td>среднее</td>\n",
       "      <td>1</td>\n",
       "      <td>гражданский брак</td>\n",
       "      <td>1</td>\n",
       "      <td>M</td>\n",
       "      <td>пенсионер</td>\n",
       "      <td>0</td>\n",
       "      <td>NaN</td>\n",
       "      <td>сыграть свадьбу</td>\n",
       "    </tr>\n",
       "    <tr>\n",
       "      <th>13</th>\n",
       "      <td>0</td>\n",
       "      <td>-1846.641941</td>\n",
       "      <td>54</td>\n",
       "      <td>неоконченное высшее</td>\n",
       "      <td>2</td>\n",
       "      <td>женат / замужем</td>\n",
       "      <td>0</td>\n",
       "      <td>F</td>\n",
       "      <td>сотрудник</td>\n",
       "      <td>0</td>\n",
       "      <td>130458.228857</td>\n",
       "      <td>приобретение автомобиля</td>\n",
       "    </tr>\n",
       "    <tr>\n",
       "      <th>14</th>\n",
       "      <td>0</td>\n",
       "      <td>-1844.956182</td>\n",
       "      <td>56</td>\n",
       "      <td>высшее</td>\n",
       "      <td>0</td>\n",
       "      <td>гражданский брак</td>\n",
       "      <td>1</td>\n",
       "      <td>F</td>\n",
       "      <td>компаньон</td>\n",
       "      <td>1</td>\n",
       "      <td>165127.911772</td>\n",
       "      <td>покупка жилой недвижимости</td>\n",
       "    </tr>\n",
       "    <tr>\n",
       "      <th>15</th>\n",
       "      <td>1</td>\n",
       "      <td>-972.364419</td>\n",
       "      <td>26</td>\n",
       "      <td>среднее</td>\n",
       "      <td>1</td>\n",
       "      <td>женат / замужем</td>\n",
       "      <td>0</td>\n",
       "      <td>F</td>\n",
       "      <td>сотрудник</td>\n",
       "      <td>0</td>\n",
       "      <td>116820.904450</td>\n",
       "      <td>строительство собственной недвижимости</td>\n",
       "    </tr>\n",
       "    <tr>\n",
       "      <th>16</th>\n",
       "      <td>0</td>\n",
       "      <td>-1719.934226</td>\n",
       "      <td>35</td>\n",
       "      <td>среднее</td>\n",
       "      <td>1</td>\n",
       "      <td>женат / замужем</td>\n",
       "      <td>0</td>\n",
       "      <td>F</td>\n",
       "      <td>сотрудник</td>\n",
       "      <td>0</td>\n",
       "      <td>289202.704229</td>\n",
       "      <td>недвижимость</td>\n",
       "    </tr>\n",
       "    <tr>\n",
       "      <th>17</th>\n",
       "      <td>0</td>\n",
       "      <td>-2369.999720</td>\n",
       "      <td>33</td>\n",
       "      <td>высшее</td>\n",
       "      <td>0</td>\n",
       "      <td>гражданский брак</td>\n",
       "      <td>1</td>\n",
       "      <td>M</td>\n",
       "      <td>сотрудник</td>\n",
       "      <td>0</td>\n",
       "      <td>90410.586745</td>\n",
       "      <td>строительство недвижимости</td>\n",
       "    </tr>\n",
       "    <tr>\n",
       "      <th>18</th>\n",
       "      <td>0</td>\n",
       "      <td>400281.136913</td>\n",
       "      <td>53</td>\n",
       "      <td>среднее</td>\n",
       "      <td>1</td>\n",
       "      <td>вдовец / вдова</td>\n",
       "      <td>2</td>\n",
       "      <td>F</td>\n",
       "      <td>пенсионер</td>\n",
       "      <td>0</td>\n",
       "      <td>56823.777243</td>\n",
       "      <td>на покупку подержанного автомобиля</td>\n",
       "    </tr>\n",
       "    <tr>\n",
       "      <th>19</th>\n",
       "      <td>0</td>\n",
       "      <td>-10038.818549</td>\n",
       "      <td>48</td>\n",
       "      <td>СРЕДНЕЕ</td>\n",
       "      <td>1</td>\n",
       "      <td>в разводе</td>\n",
       "      <td>3</td>\n",
       "      <td>F</td>\n",
       "      <td>сотрудник</td>\n",
       "      <td>0</td>\n",
       "      <td>242831.107982</td>\n",
       "      <td>на покупку своего автомобиля</td>\n",
       "    </tr>\n",
       "  </tbody>\n",
       "</table>\n",
       "</div>"
      ],
      "text/plain": [
       "    children  days_employed  dob_years            education  education_id  \\\n",
       "0          1   -8437.673028         42               высшее             0   \n",
       "1          1   -4024.803754         36              среднее             1   \n",
       "2          0   -5623.422610         33              Среднее             1   \n",
       "3          3   -4124.747207         32              среднее             1   \n",
       "4          0  340266.072047         53              среднее             1   \n",
       "5          0    -926.185831         27               высшее             0   \n",
       "6          0   -2879.202052         43               высшее             0   \n",
       "7          0    -152.779569         50              СРЕДНЕЕ             1   \n",
       "8          2   -6929.865299         35               ВЫСШЕЕ             0   \n",
       "9          0   -2188.756445         41              среднее             1   \n",
       "10         2   -4171.483647         36               высшее             0   \n",
       "11         0    -792.701887         40              среднее             1   \n",
       "12         0            NaN         65              среднее             1   \n",
       "13         0   -1846.641941         54  неоконченное высшее             2   \n",
       "14         0   -1844.956182         56               высшее             0   \n",
       "15         1    -972.364419         26              среднее             1   \n",
       "16         0   -1719.934226         35              среднее             1   \n",
       "17         0   -2369.999720         33               высшее             0   \n",
       "18         0  400281.136913         53              среднее             1   \n",
       "19         0  -10038.818549         48              СРЕДНЕЕ             1   \n",
       "\n",
       "       family_status  family_status_id gender income_type  debt  \\\n",
       "0    женат / замужем                 0      F   сотрудник     0   \n",
       "1    женат / замужем                 0      F   сотрудник     0   \n",
       "2    женат / замужем                 0      M   сотрудник     0   \n",
       "3    женат / замужем                 0      M   сотрудник     0   \n",
       "4   гражданский брак                 1      F   пенсионер     0   \n",
       "5   гражданский брак                 1      M   компаньон     0   \n",
       "6    женат / замужем                 0      F   компаньон     0   \n",
       "7    женат / замужем                 0      M   сотрудник     0   \n",
       "8   гражданский брак                 1      F   сотрудник     0   \n",
       "9    женат / замужем                 0      M   сотрудник     0   \n",
       "10   женат / замужем                 0      M   компаньон     0   \n",
       "11   женат / замужем                 0      F   сотрудник     0   \n",
       "12  гражданский брак                 1      M   пенсионер     0   \n",
       "13   женат / замужем                 0      F   сотрудник     0   \n",
       "14  гражданский брак                 1      F   компаньон     1   \n",
       "15   женат / замужем                 0      F   сотрудник     0   \n",
       "16   женат / замужем                 0      F   сотрудник     0   \n",
       "17  гражданский брак                 1      M   сотрудник     0   \n",
       "18    вдовец / вдова                 2      F   пенсионер     0   \n",
       "19         в разводе                 3      F   сотрудник     0   \n",
       "\n",
       "     total_income                                 purpose  \n",
       "0   253875.639453                           покупка жилья  \n",
       "1   112080.014102                 приобретение автомобиля  \n",
       "2   145885.952297                           покупка жилья  \n",
       "3   267628.550329              дополнительное образование  \n",
       "4   158616.077870                         сыграть свадьбу  \n",
       "5   255763.565419                           покупка жилья  \n",
       "6   240525.971920                       операции с жильем  \n",
       "7   135823.934197                             образование  \n",
       "8    95856.832424                   на проведение свадьбы  \n",
       "9   144425.938277                 покупка жилья для семьи  \n",
       "10  113943.491460                    покупка недвижимости  \n",
       "11   77069.234271       покупка коммерческой недвижимости  \n",
       "12            NaN                         сыграть свадьбу  \n",
       "13  130458.228857                 приобретение автомобиля  \n",
       "14  165127.911772              покупка жилой недвижимости  \n",
       "15  116820.904450  строительство собственной недвижимости  \n",
       "16  289202.704229                            недвижимость  \n",
       "17   90410.586745              строительство недвижимости  \n",
       "18   56823.777243      на покупку подержанного автомобиля  \n",
       "19  242831.107982            на покупку своего автомобиля  "
      ]
     },
     "execution_count": 2,
     "metadata": {},
     "output_type": "execute_result"
    }
   ],
   "source": [
    "data.head(20)"
   ]
  },
  {
   "cell_type": "markdown",
   "id": "0ed8f27f",
   "metadata": {
    "deletable": false,
    "editable": false,
    "id": "0ed8f27f"
   },
   "source": [
    "**Задание 3. Выведите основную информацию о датафрейме с помощью метода `info()`.**"
   ]
  },
  {
   "cell_type": "code",
   "execution_count": 3,
   "id": "ab3f863b",
   "metadata": {
    "deletable": false,
    "id": "ab3f863b",
    "outputId": "15376089-8dad-46c9-b520-c05248d43158"
   },
   "outputs": [
    {
     "name": "stdout",
     "output_type": "stream",
     "text": [
      "<class 'pandas.core.frame.DataFrame'>\n",
      "RangeIndex: 21525 entries, 0 to 21524\n",
      "Data columns (total 12 columns):\n",
      " #   Column            Non-Null Count  Dtype  \n",
      "---  ------            --------------  -----  \n",
      " 0   children          21525 non-null  int64  \n",
      " 1   days_employed     19351 non-null  float64\n",
      " 2   dob_years         21525 non-null  int64  \n",
      " 3   education         21525 non-null  object \n",
      " 4   education_id      21525 non-null  int64  \n",
      " 5   family_status     21525 non-null  object \n",
      " 6   family_status_id  21525 non-null  int64  \n",
      " 7   gender            21525 non-null  object \n",
      " 8   income_type       21525 non-null  object \n",
      " 9   debt              21525 non-null  int64  \n",
      " 10  total_income      19351 non-null  float64\n",
      " 11  purpose           21525 non-null  object \n",
      "dtypes: float64(2), int64(5), object(5)\n",
      "memory usage: 2.0+ MB\n"
     ]
    }
   ],
   "source": [
    "data.info()"
   ]
  },
  {
   "cell_type": "markdown",
   "id": "60e3e22d",
   "metadata": {
    "deletable": false,
    "editable": false,
    "id": "60e3e22d"
   },
   "source": [
    "## Предобработка данных"
   ]
  },
  {
   "cell_type": "markdown",
   "id": "03dc170c",
   "metadata": {
    "deletable": false,
    "editable": false,
    "id": "03dc170c"
   },
   "source": [
    "### Удаление пропусков"
   ]
  },
  {
   "cell_type": "markdown",
   "id": "a4f54eef",
   "metadata": {
    "deletable": false,
    "editable": false,
    "id": "a4f54eef"
   },
   "source": [
    "**Задание 4. Выведите количество пропущенных значений для каждого столбца. Используйте комбинацию двух методов.**"
   ]
  },
  {
   "cell_type": "code",
   "execution_count": 4,
   "id": "2dc372b2",
   "metadata": {
    "deletable": false,
    "id": "2dc372b2",
    "outputId": "81f4d817-781c-465c-ed15-91ce4446810d"
   },
   "outputs": [
    {
     "data": {
      "text/plain": [
       "children               0\n",
       "days_employed       2174\n",
       "dob_years              0\n",
       "education              0\n",
       "education_id           0\n",
       "family_status          0\n",
       "family_status_id       0\n",
       "gender                 0\n",
       "income_type            0\n",
       "debt                   0\n",
       "total_income        2174\n",
       "purpose                0\n",
       "dtype: int64"
      ]
     },
     "execution_count": 4,
     "metadata": {},
     "output_type": "execute_result"
    }
   ],
   "source": [
    "data.isna().sum()"
   ]
  },
  {
   "cell_type": "markdown",
   "id": "14f011b1",
   "metadata": {
    "deletable": false,
    "editable": false,
    "id": "14f011b1"
   },
   "source": [
    "**Задание 5. В двух столбцах есть пропущенные значения. Один из них — `days_employed`. Пропуски в этом столбце вы обработаете на следующем этапе. Другой столбец с пропущенными значениями — `total_income` — хранит данные о доходах. На сумму дохода сильнее всего влияет тип занятости, поэтому заполнить пропуски в этом столбце нужно медианным значением по каждому типу из столбца `income_type`. Например, у человека с типом занятости `сотрудник` пропуск в столбце `total_income` должен быть заполнен медианным доходом среди всех записей с тем же типом.**"
   ]
  },
  {
   "cell_type": "code",
   "execution_count": 5,
   "id": "bdabfb6e",
   "metadata": {
    "deletable": false,
    "id": "bdabfb6e"
   },
   "outputs": [],
   "source": [
    "for t in data['income_type'].unique():\n",
    "    data.loc[(data['income_type'] == t) & (data['total_income'].isna()), 'total_income'] = \\\n",
    "    data.loc[(data['income_type'] == t), 'total_income'].median()"
   ]
  },
  {
   "cell_type": "markdown",
   "id": "5be34059",
   "metadata": {
    "deletable": false,
    "editable": false,
    "id": "5be34059"
   },
   "source": [
    "### Обработка аномальных значений"
   ]
  },
  {
   "cell_type": "markdown",
   "id": "a87606cb",
   "metadata": {
    "deletable": false,
    "editable": false,
    "id": "a87606cb"
   },
   "source": [
    "**Задание 6. В данных могут встречаться артефакты (аномалии) — значения, которые не отражают действительность и появились по какой-то ошибке. таким артефактом будет отрицательное количество дней трудового стажа в столбце `days_employed`. Для реальных данных это нормально. Обработайте значения в этом столбце: замените все отрицательные значения положительными с помощью метода `abs()`.**"
   ]
  },
  {
   "cell_type": "code",
   "execution_count": 6,
   "id": "020c46cc",
   "metadata": {
    "deletable": false,
    "id": "020c46cc"
   },
   "outputs": [],
   "source": [
    "data['days_employed'] = data['days_employed'].abs()"
   ]
  },
  {
   "cell_type": "markdown",
   "id": "45538a3a",
   "metadata": {
    "deletable": false,
    "editable": false,
    "id": "45538a3a"
   },
   "source": [
    "**Задание 7. Для каждого типа занятости выведите медианное значение трудового стажа `days_employed` в днях.**"
   ]
  },
  {
   "cell_type": "code",
   "execution_count": 7,
   "id": "cd3e6328",
   "metadata": {
    "deletable": false,
    "id": "cd3e6328",
    "outputId": "801ef80e-522b-4668-f34e-565af7432bcf"
   },
   "outputs": [
    {
     "data": {
      "text/plain": [
       "income_type\n",
       "безработный        366413.652744\n",
       "в декрете            3296.759962\n",
       "госслужащий          2689.368353\n",
       "компаньон            1547.382223\n",
       "пенсионер          365213.306266\n",
       "предприниматель       520.848083\n",
       "сотрудник            1574.202821\n",
       "студент               578.751554\n",
       "Name: days_employed, dtype: float64"
      ]
     },
     "execution_count": 7,
     "metadata": {},
     "output_type": "execute_result"
    }
   ],
   "source": [
    "data.groupby('income_type')['days_employed'].agg('median')"
   ]
  },
  {
   "cell_type": "markdown",
   "id": "90c5f058",
   "metadata": {
    "deletable": false,
    "editable": false,
    "id": "90c5f058"
   },
   "source": [
    "У двух типов (безработные и пенсионеры) получатся аномально большие значения. Исправить такие значения сложно, поэтому оставьте их как есть."
   ]
  },
  {
   "cell_type": "markdown",
   "id": "9652e50d",
   "metadata": {
    "deletable": false,
    "editable": false,
    "id": "9652e50d"
   },
   "source": [
    "**Задание 8. Выведите перечень уникальных значений столбца `children`.**"
   ]
  },
  {
   "cell_type": "code",
   "execution_count": 8,
   "id": "dbb37b8e",
   "metadata": {
    "deletable": false,
    "id": "dbb37b8e",
    "outputId": "6975b15c-7f95-4697-d16d-a0c79b657b03"
   },
   "outputs": [
    {
     "data": {
      "text/plain": [
       "array([ 1,  0,  3,  2, -1,  4, 20,  5])"
      ]
     },
     "execution_count": 8,
     "metadata": {},
     "output_type": "execute_result"
    }
   ],
   "source": [
    "data['children'].unique()"
   ]
  },
  {
   "cell_type": "markdown",
   "id": "2b8b0715",
   "metadata": {
    "deletable": false,
    "editable": false,
    "id": "2b8b0715"
   },
   "source": [
    "**Задание 9. В столбце `children` есть два аномальных значения. Удалите строки, в которых встречаются такие аномальные значения из датафрейма `data`.**"
   ]
  },
  {
   "cell_type": "code",
   "execution_count": 9,
   "id": "20009df8",
   "metadata": {
    "deletable": false,
    "id": "20009df8"
   },
   "outputs": [],
   "source": [
    "data = data[(data['children'] != -1) & (data['children'] != 20)]"
   ]
  },
  {
   "cell_type": "markdown",
   "id": "8c6ac9f1",
   "metadata": {
    "deletable": false,
    "editable": false,
    "id": "8c6ac9f1"
   },
   "source": [
    "**Задание 10. Ещё раз выведите перечень уникальных значений столбца `children`, чтобы убедиться, что артефакты удалены.**"
   ]
  },
  {
   "cell_type": "code",
   "execution_count": 10,
   "id": "07337b81",
   "metadata": {
    "deletable": false,
    "id": "07337b81",
    "outputId": "b2097101-d49d-44d9-901b-32a65c9463d1"
   },
   "outputs": [
    {
     "data": {
      "text/plain": [
       "array([1, 0, 3, 2, 4, 5])"
      ]
     },
     "execution_count": 10,
     "metadata": {},
     "output_type": "execute_result"
    }
   ],
   "source": [
    "data['children'].unique()"
   ]
  },
  {
   "cell_type": "markdown",
   "id": "ee3f52d4",
   "metadata": {
    "deletable": false,
    "editable": false,
    "id": "ee3f52d4"
   },
   "source": [
    "### Удаление пропусков (продолжение)"
   ]
  },
  {
   "cell_type": "markdown",
   "id": "a700b0e4",
   "metadata": {
    "deletable": false,
    "editable": false,
    "id": "a700b0e4"
   },
   "source": [
    "**Задание 11. Заполните пропуски в столбце `days_employed` медианными значениями по каждого типа занятости `income_type`.**"
   ]
  },
  {
   "cell_type": "code",
   "execution_count": 11,
   "id": "61946b83",
   "metadata": {
    "deletable": false,
    "id": "61946b83"
   },
   "outputs": [],
   "source": [
    "for t in data['income_type'].unique():\n",
    "    data.loc[(data['income_type'] == t) & (data['days_employed'].isna()), 'days_employed'] = \\\n",
    "    data.loc[(data['income_type'] == t), 'days_employed'].median()"
   ]
  },
  {
   "cell_type": "markdown",
   "id": "550dcd9b",
   "metadata": {
    "deletable": false,
    "editable": false,
    "id": "550dcd9b"
   },
   "source": [
    "**Задание 12. Убедитесь, что все пропуски заполнены. Проверьте себя и ещё раз выведите количество пропущенных значений для каждого столбца с помощью двух методов.**"
   ]
  },
  {
   "cell_type": "code",
   "execution_count": 12,
   "id": "937c7014",
   "metadata": {
    "deletable": false,
    "id": "937c7014",
    "outputId": "8da1e4e1-358e-4e87-98c9-f261bce0a7b2"
   },
   "outputs": [
    {
     "data": {
      "text/plain": [
       "children            0\n",
       "days_employed       0\n",
       "dob_years           0\n",
       "education           0\n",
       "education_id        0\n",
       "family_status       0\n",
       "family_status_id    0\n",
       "gender              0\n",
       "income_type         0\n",
       "debt                0\n",
       "total_income        0\n",
       "purpose             0\n",
       "dtype: int64"
      ]
     },
     "execution_count": 12,
     "metadata": {},
     "output_type": "execute_result"
    }
   ],
   "source": [
    "data.isna().sum()"
   ]
  },
  {
   "cell_type": "markdown",
   "id": "d522e295",
   "metadata": {
    "deletable": false,
    "editable": false,
    "id": "d522e295"
   },
   "source": [
    "### Изменение типов данных"
   ]
  },
  {
   "cell_type": "markdown",
   "id": "c229c581",
   "metadata": {
    "deletable": false,
    "editable": false,
    "id": "c229c581"
   },
   "source": [
    "**Задание 13. Замените вещественный тип данных в столбце `total_income` на целочисленный с помощью метода `astype()`.**"
   ]
  },
  {
   "cell_type": "code",
   "execution_count": 13,
   "id": "31036462",
   "metadata": {
    "deletable": false,
    "id": "31036462"
   },
   "outputs": [],
   "source": [
    "data['total_income'] = data['total_income'].astype(int)"
   ]
  },
  {
   "cell_type": "markdown",
   "id": "b8e3d1d9",
   "metadata": {
    "deletable": false,
    "editable": false,
    "id": "b8e3d1d9"
   },
   "source": [
    "### Обработка дубликатов"
   ]
  },
  {
   "cell_type": "markdown",
   "id": "9be53c49",
   "metadata": {
    "deletable": false,
    "editable": false,
    "id": "9be53c49"
   },
   "source": [
    "**Задание 14. Обработайте неявные дубликаты в столбце `education`. В этом столбце есть одни и те же значения, но записанные по-разному: с использованием заглавных и строчных букв. Приведите их к нижнему регистру.**"
   ]
  },
  {
   "cell_type": "code",
   "execution_count": 14,
   "id": "d89e73e1",
   "metadata": {
    "deletable": false,
    "id": "d89e73e1"
   },
   "outputs": [],
   "source": [
    "data['education'] = data['education'].str.lower()"
   ]
  },
  {
   "cell_type": "markdown",
   "id": "01d4500e",
   "metadata": {
    "deletable": false,
    "editable": false,
    "id": "01d4500e"
   },
   "source": [
    "**Задание 15. Выведите на экран количество строк-дубликатов в данных. Если такие строки присутствуют, удалите их.**"
   ]
  },
  {
   "cell_type": "code",
   "execution_count": 15,
   "id": "e10efb23",
   "metadata": {
    "deletable": false,
    "id": "e10efb23",
    "outputId": "9684deba-1934-42d1-99e1-cda61740f822"
   },
   "outputs": [
    {
     "data": {
      "text/plain": [
       "71"
      ]
     },
     "execution_count": 15,
     "metadata": {},
     "output_type": "execute_result"
    }
   ],
   "source": [
    "data.duplicated().sum()"
   ]
  },
  {
   "cell_type": "code",
   "execution_count": 16,
   "id": "df853f20",
   "metadata": {
    "deletable": false,
    "id": "df853f20"
   },
   "outputs": [],
   "source": [
    "data = data.drop_duplicates()"
   ]
  },
  {
   "cell_type": "markdown",
   "id": "627be38f",
   "metadata": {
    "deletable": false,
    "editable": false,
    "id": "627be38f"
   },
   "source": [
    "### Категоризация данных"
   ]
  },
  {
   "cell_type": "markdown",
   "id": "4684c3e0",
   "metadata": {
    "deletable": false,
    "editable": false,
    "id": "4684c3e0"
   },
   "source": [
    "**Задание 16. На основании диапазонов, указанных ниже, создайте в датафрейме `data` столбец `total_income_category` с категориями:**\n",
    "\n",
    "- 0–30000 — `'E'`;\n",
    "- 30001–50000 — `'D'`;\n",
    "- 50001–200000 — `'C'`;\n",
    "- 200001–1000000 — `'B'`;\n",
    "- 1000001 и выше — `'A'`.\n",
    "\n",
    "\n",
    "**Например, кредитополучателю с доходом 25000 нужно назначить категорию `'E'`, а клиенту, получающему 235000, — `'B'`. Используйте собственную функцию с именем `categorize_income()` и метод `apply()`.**"
   ]
  },
  {
   "cell_type": "code",
   "execution_count": 17,
   "id": "78965238",
   "metadata": {
    "deletable": false,
    "id": "78965238"
   },
   "outputs": [],
   "source": [
    "def categorize_income(income):\n",
    "    try:\n",
    "        if 0 <= income <= 30000:\n",
    "            return 'E'\n",
    "        elif 30001 <= income <= 50000:\n",
    "            return 'D'\n",
    "        elif 50001 <= income <= 200000:\n",
    "            return 'C'\n",
    "        elif 200001 <= income <= 1000000:\n",
    "            return 'B'\n",
    "        elif income >= 1000001:\n",
    "            return 'A'\n",
    "    except:\n",
    "        pass"
   ]
  },
  {
   "cell_type": "code",
   "execution_count": 18,
   "id": "0980ada1",
   "metadata": {
    "deletable": false,
    "id": "0980ada1"
   },
   "outputs": [],
   "source": [
    "data['total_income_category'] = data['total_income'].apply(categorize_income)"
   ]
  },
  {
   "cell_type": "markdown",
   "id": "9917bba0",
   "metadata": {
    "deletable": false,
    "editable": false,
    "id": "9917bba0"
   },
   "source": [
    "**Задание 17. Выведите на экран перечень уникальных целей взятия кредита из столбца `purpose`.**"
   ]
  },
  {
   "cell_type": "code",
   "execution_count": 19,
   "id": "ee07b65e",
   "metadata": {
    "deletable": false,
    "id": "ee07b65e",
    "outputId": "673c12d9-7d7e-4ae0-9812-c622c89dd244"
   },
   "outputs": [
    {
     "data": {
      "text/plain": [
       "array(['покупка жилья', 'приобретение автомобиля',\n",
       "       'дополнительное образование', 'сыграть свадьбу',\n",
       "       'операции с жильем', 'образование', 'на проведение свадьбы',\n",
       "       'покупка жилья для семьи', 'покупка недвижимости',\n",
       "       'покупка коммерческой недвижимости', 'покупка жилой недвижимости',\n",
       "       'строительство собственной недвижимости', 'недвижимость',\n",
       "       'строительство недвижимости', 'на покупку подержанного автомобиля',\n",
       "       'на покупку своего автомобиля',\n",
       "       'операции с коммерческой недвижимостью',\n",
       "       'строительство жилой недвижимости', 'жилье',\n",
       "       'операции со своей недвижимостью', 'автомобили',\n",
       "       'заняться образованием', 'сделка с подержанным автомобилем',\n",
       "       'получение образования', 'автомобиль', 'свадьба',\n",
       "       'получение дополнительного образования', 'покупка своего жилья',\n",
       "       'операции с недвижимостью', 'получение высшего образования',\n",
       "       'свой автомобиль', 'сделка с автомобилем',\n",
       "       'профильное образование', 'высшее образование',\n",
       "       'покупка жилья для сдачи', 'на покупку автомобиля', 'ремонт жилью',\n",
       "       'заняться высшим образованием'], dtype=object)"
      ]
     },
     "execution_count": 19,
     "metadata": {},
     "output_type": "execute_result"
    }
   ],
   "source": [
    "data['purpose'].unique()"
   ]
  },
  {
   "cell_type": "markdown",
   "id": "52b79d56",
   "metadata": {
    "deletable": false,
    "editable": false,
    "id": "52b79d56"
   },
   "source": [
    "**Задание 18. Создайте функцию, которая на основании данных из столбца `purpose` сформирует новый столбец `purpose_category`, в который войдут следующие категории:**\n",
    "\n",
    "- `'операции с автомобилем'`,\n",
    "- `'операции с недвижимостью'`,\n",
    "- `'проведение свадьбы'`,\n",
    "- `'получение образования'`.\n",
    "\n",
    "**Например, если в столбце `purpose` находится подстрока `'на покупку автомобиля'`, то в столбце `purpose_category` должна появиться строка `'операции с автомобилем'`.**\n",
    "\n",
    "**Используйте собственную функцию с именем `categorize_purpose()` и метод `apply()`. Изучите данные в столбце `purpose` и определите, какие подстроки помогут вам правильно определить категорию.**"
   ]
  },
  {
   "cell_type": "code",
   "execution_count": 20,
   "id": "be41da5d",
   "metadata": {
    "deletable": false,
    "id": "be41da5d"
   },
   "outputs": [],
   "source": [
    "def categorize_purpose(row):\n",
    "    try:\n",
    "        if 'автом' in row:\n",
    "            return 'операции с автомобилем'\n",
    "        elif 'жил' in row or 'недвиж' in row:\n",
    "            return 'операции с недвижимостью'\n",
    "        elif 'свад' in row:\n",
    "            return 'проведение свадьбы'\n",
    "        elif 'образов' in row:\n",
    "            return 'получение образования'\n",
    "    except:\n",
    "        return 'нет категории'"
   ]
  },
  {
   "cell_type": "code",
   "execution_count": 21,
   "id": "94c4a19a",
   "metadata": {
    "deletable": false,
    "id": "94c4a19a"
   },
   "outputs": [],
   "source": [
    "data['purpose_category'] = data['purpose'].apply(categorize_purpose)"
   ]
  },
  {
   "cell_type": "markdown",
   "id": "3d596c34",
   "metadata": {
    "deletable": false,
    "editable": false,
    "id": "3d596c34"
   },
   "source": [
    "### Шаг 3. Исследуйте данные и ответьте на вопросы"
   ]
  },
  {
   "cell_type": "markdown",
   "id": "3f5fa0ca",
   "metadata": {},
   "source": [
    "Для выявления зависимостей воспользуемся показателями из описательной статистики для количественного описания данных:\n",
    "\n",
    "- общее кол.во строк ('count'),\n",
    "- сумма значений строк ('sum'),\n",
    "- среднее ('mean'),\n",
    "\n",
    "в разрезе интересуемого сегмента данных."
   ]
  },
  {
   "cell_type": "markdown",
   "id": "648db036",
   "metadata": {
    "deletable": false,
    "editable": false,
    "id": "648db036"
   },
   "source": [
    "#### 3.1 Есть ли зависимость между количеством детей и возвратом кредита в срок?"
   ]
  },
  {
   "cell_type": "markdown",
   "id": "8d1d7115",
   "metadata": {},
   "source": [
    "Сгруппируем данные по столбцу 'children' и найдем показатели каждого полученного сегмента."
   ]
  },
  {
   "cell_type": "code",
   "execution_count": 22,
   "id": "7fcff25e",
   "metadata": {
    "deletable": false,
    "id": "7fcff25e"
   },
   "outputs": [
    {
     "data": {
      "text/html": [
       "<div>\n",
       "<style scoped>\n",
       "    .dataframe tbody tr th:only-of-type {\n",
       "        vertical-align: middle;\n",
       "    }\n",
       "\n",
       "    .dataframe tbody tr th {\n",
       "        vertical-align: top;\n",
       "    }\n",
       "\n",
       "    .dataframe thead tr th {\n",
       "        text-align: left;\n",
       "    }\n",
       "\n",
       "    .dataframe thead tr:last-of-type th {\n",
       "        text-align: right;\n",
       "    }\n",
       "</style>\n",
       "<table border=\"1\" class=\"dataframe\">\n",
       "  <thead>\n",
       "    <tr>\n",
       "      <th></th>\n",
       "      <th colspan=\"3\" halign=\"left\">debt</th>\n",
       "    </tr>\n",
       "    <tr>\n",
       "      <th></th>\n",
       "      <th>Общее кол.-во строк</th>\n",
       "      <th>Сумма значений</th>\n",
       "      <th>Среднее</th>\n",
       "    </tr>\n",
       "    <tr>\n",
       "      <th>children</th>\n",
       "      <th></th>\n",
       "      <th></th>\n",
       "      <th></th>\n",
       "    </tr>\n",
       "  </thead>\n",
       "  <tbody>\n",
       "    <tr>\n",
       "      <th>0</th>\n",
       "      <td>14091</td>\n",
       "      <td>1063</td>\n",
       "      <td>0.075438</td>\n",
       "    </tr>\n",
       "    <tr>\n",
       "      <th>1</th>\n",
       "      <td>4808</td>\n",
       "      <td>444</td>\n",
       "      <td>0.092346</td>\n",
       "    </tr>\n",
       "    <tr>\n",
       "      <th>2</th>\n",
       "      <td>2052</td>\n",
       "      <td>194</td>\n",
       "      <td>0.094542</td>\n",
       "    </tr>\n",
       "    <tr>\n",
       "      <th>3</th>\n",
       "      <td>330</td>\n",
       "      <td>27</td>\n",
       "      <td>0.081818</td>\n",
       "    </tr>\n",
       "    <tr>\n",
       "      <th>4</th>\n",
       "      <td>41</td>\n",
       "      <td>4</td>\n",
       "      <td>0.097561</td>\n",
       "    </tr>\n",
       "    <tr>\n",
       "      <th>5</th>\n",
       "      <td>9</td>\n",
       "      <td>0</td>\n",
       "      <td>0.000000</td>\n",
       "    </tr>\n",
       "  </tbody>\n",
       "</table>\n",
       "</div>"
      ],
      "text/plain": [
       "                        debt                         \n",
       "         Общее кол.-во строк Сумма значений   Среднее\n",
       "children                                             \n",
       "0                      14091           1063  0.075438\n",
       "1                       4808            444  0.092346\n",
       "2                       2052            194  0.094542\n",
       "3                        330             27  0.081818\n",
       "4                         41              4  0.097561\n",
       "5                          9              0  0.000000"
      ]
     },
     "execution_count": 22,
     "metadata": {},
     "output_type": "execute_result"
    }
   ],
   "source": [
    "data_grouped = data.groupby('children').agg({'debt':['count','sum', 'mean']})\n",
    "dict_to_rename = dict(zip(data_grouped.columns.levels[1], ['Общее кол.-во строк', 'Сумма значений','Среднее']))\n",
    "data_grouped = data_grouped.rename(columns=dict_to_rename, level=1)\n",
    "data_grouped"
   ]
  },
  {
   "cell_type": "markdown",
   "id": "2eb9088e",
   "metadata": {
    "deletable": false,
    "id": "2eb9088e"
   },
   "source": [
    "**Вывод:**\n",
    "\n",
    "Гипотеза подтвердилась:\n",
    "> Имеется зависимость между количеством детей и возвратом кредита в срок:\n",
    ">\n",
    "> с увеличением количества детей мы видим увеличение количества просроченных задолженностей.\n",
    "\n",
    "У бездетных просрочка оплаты ниже, чем у людей с детьми.\n",
    "\n",
    "Люди с 3-мя детьми чаще платят в срок, чем люди с одним ребенком, двумя или четырьмя детьми.\n",
    "\n",
    "Не выявлено ни одной задолженности для семей с 5-ю детьми, соответственно, доля задолженности равняется нулю.\n",
    "С учетом этого, рекомендуется исследование на более широкой выборке.\n"
   ]
  },
  {
   "cell_type": "markdown",
   "id": "74c9b3a7",
   "metadata": {
    "deletable": false,
    "editable": false,
    "id": "74c9b3a7"
   },
   "source": [
    "#### 3.2 Есть ли зависимость между семейным положением и возвратом кредита в срок?"
   ]
  },
  {
   "cell_type": "markdown",
   "id": "8aa8edb7",
   "metadata": {},
   "source": [
    "Сгруппируем данные по столбцу 'family_status' и найдем показатели каждого полученного сегмента."
   ]
  },
  {
   "cell_type": "code",
   "execution_count": 23,
   "id": "8098ab3b",
   "metadata": {
    "deletable": false,
    "id": "8098ab3b"
   },
   "outputs": [
    {
     "data": {
      "text/html": [
       "<div>\n",
       "<style scoped>\n",
       "    .dataframe tbody tr th:only-of-type {\n",
       "        vertical-align: middle;\n",
       "    }\n",
       "\n",
       "    .dataframe tbody tr th {\n",
       "        vertical-align: top;\n",
       "    }\n",
       "\n",
       "    .dataframe thead tr th {\n",
       "        text-align: left;\n",
       "    }\n",
       "\n",
       "    .dataframe thead tr:last-of-type th {\n",
       "        text-align: right;\n",
       "    }\n",
       "</style>\n",
       "<table border=\"1\" class=\"dataframe\">\n",
       "  <thead>\n",
       "    <tr>\n",
       "      <th></th>\n",
       "      <th colspan=\"6\" halign=\"left\">debt</th>\n",
       "    </tr>\n",
       "    <tr>\n",
       "      <th></th>\n",
       "      <th>Общее кол.-во строк</th>\n",
       "      <th>Сумма значений</th>\n",
       "      <th>Минимум</th>\n",
       "      <th>Максимум</th>\n",
       "      <th>Медиана</th>\n",
       "      <th>Среднее</th>\n",
       "    </tr>\n",
       "    <tr>\n",
       "      <th>family_status</th>\n",
       "      <th></th>\n",
       "      <th></th>\n",
       "      <th></th>\n",
       "      <th></th>\n",
       "      <th></th>\n",
       "      <th></th>\n",
       "    </tr>\n",
       "  </thead>\n",
       "  <tbody>\n",
       "    <tr>\n",
       "      <th>Не женат / не замужем</th>\n",
       "      <td>2796</td>\n",
       "      <td>273</td>\n",
       "      <td>0</td>\n",
       "      <td>1</td>\n",
       "      <td>0</td>\n",
       "      <td>0.10</td>\n",
       "    </tr>\n",
       "    <tr>\n",
       "      <th>в разводе</th>\n",
       "      <td>1189</td>\n",
       "      <td>84</td>\n",
       "      <td>0</td>\n",
       "      <td>1</td>\n",
       "      <td>0</td>\n",
       "      <td>0.07</td>\n",
       "    </tr>\n",
       "    <tr>\n",
       "      <th>вдовец / вдова</th>\n",
       "      <td>951</td>\n",
       "      <td>63</td>\n",
       "      <td>0</td>\n",
       "      <td>1</td>\n",
       "      <td>0</td>\n",
       "      <td>0.07</td>\n",
       "    </tr>\n",
       "    <tr>\n",
       "      <th>гражданский брак</th>\n",
       "      <td>4134</td>\n",
       "      <td>385</td>\n",
       "      <td>0</td>\n",
       "      <td>1</td>\n",
       "      <td>0</td>\n",
       "      <td>0.09</td>\n",
       "    </tr>\n",
       "    <tr>\n",
       "      <th>женат / замужем</th>\n",
       "      <td>12261</td>\n",
       "      <td>927</td>\n",
       "      <td>0</td>\n",
       "      <td>1</td>\n",
       "      <td>0</td>\n",
       "      <td>0.08</td>\n",
       "    </tr>\n",
       "  </tbody>\n",
       "</table>\n",
       "</div>"
      ],
      "text/plain": [
       "                                     debt                                  \\\n",
       "                      Общее кол.-во строк Сумма значений Минимум Максимум   \n",
       "family_status                                                               \n",
       "Не женат / не замужем                2796            273       0        1   \n",
       "в разводе                            1189             84       0        1   \n",
       "вдовец / вдова                        951             63       0        1   \n",
       "гражданский брак                     4134            385       0        1   \n",
       "женат / замужем                     12261            927       0        1   \n",
       "\n",
       "                                       \n",
       "                      Медиана Среднее  \n",
       "family_status                          \n",
       "Не женат / не замужем       0    0.10  \n",
       "в разводе                   0    0.07  \n",
       "вдовец / вдова              0    0.07  \n",
       "гражданский брак            0    0.09  \n",
       "женат / замужем             0    0.08  "
      ]
     },
     "execution_count": 23,
     "metadata": {},
     "output_type": "execute_result"
    }
   ],
   "source": [
    "data_grouped = data.groupby('family_status').agg({'debt':['count','sum', 'min', 'max', 'median', 'mean']}).round(2)\n",
    "dict_to_rename = dict(zip(data_grouped.columns.levels[1], ['Общее кол.-во строк', 'Сумма значений', 'Минимум', 'Максимум', 'Медиана', 'Среднее']))\n",
    "data_grouped = data_grouped.rename(columns=dict_to_rename, level=1)\n",
    "data_grouped"
   ]
  },
  {
   "cell_type": "markdown",
   "id": "c389ca63",
   "metadata": {
    "deletable": false,
    "id": "c389ca63"
   },
   "source": [
    "**Вывод:**\n",
    "\n",
    "> Имеется зависимость между семейным положением и возвратом кредита\n",
    "\n",
    "Те кто развелись или овдовели чаще платят в срок, чем люди в браке.\n",
    "\n",
    "Люди не в браке и не бывавшие в браке имеют больший процент невозвратов в срок."
   ]
  },
  {
   "cell_type": "markdown",
   "id": "9529de68",
   "metadata": {
    "deletable": false,
    "editable": false,
    "id": "9529de68"
   },
   "source": [
    "#### 3.3 Есть ли зависимость между уровнем дохода и возвратом кредита в срок?"
   ]
  },
  {
   "cell_type": "markdown",
   "id": "6be0ed65",
   "metadata": {},
   "source": [
    "Сгруппируем данные по столбцу 'total_income_category' и найдем показатели каждого полученного сегмента."
   ]
  },
  {
   "cell_type": "code",
   "execution_count": 24,
   "id": "0bcad5c1",
   "metadata": {
    "scrolled": false
   },
   "outputs": [
    {
     "data": {
      "text/html": [
       "<div>\n",
       "<style scoped>\n",
       "    .dataframe tbody tr th:only-of-type {\n",
       "        vertical-align: middle;\n",
       "    }\n",
       "\n",
       "    .dataframe tbody tr th {\n",
       "        vertical-align: top;\n",
       "    }\n",
       "\n",
       "    .dataframe thead tr th {\n",
       "        text-align: left;\n",
       "    }\n",
       "\n",
       "    .dataframe thead tr:last-of-type th {\n",
       "        text-align: right;\n",
       "    }\n",
       "</style>\n",
       "<table border=\"1\" class=\"dataframe\">\n",
       "  <thead>\n",
       "    <tr>\n",
       "      <th></th>\n",
       "      <th colspan=\"3\" halign=\"left\">debt</th>\n",
       "    </tr>\n",
       "    <tr>\n",
       "      <th></th>\n",
       "      <th>Общее кол.-во строк</th>\n",
       "      <th>Сумма значений</th>\n",
       "      <th>Среднее</th>\n",
       "    </tr>\n",
       "    <tr>\n",
       "      <th>total_income_category</th>\n",
       "      <th></th>\n",
       "      <th></th>\n",
       "      <th></th>\n",
       "    </tr>\n",
       "  </thead>\n",
       "  <tbody>\n",
       "    <tr>\n",
       "      <th>A</th>\n",
       "      <td>25</td>\n",
       "      <td>2</td>\n",
       "      <td>0.080000</td>\n",
       "    </tr>\n",
       "    <tr>\n",
       "      <th>B</th>\n",
       "      <td>5014</td>\n",
       "      <td>354</td>\n",
       "      <td>0.070602</td>\n",
       "    </tr>\n",
       "    <tr>\n",
       "      <th>C</th>\n",
       "      <td>15921</td>\n",
       "      <td>1353</td>\n",
       "      <td>0.084982</td>\n",
       "    </tr>\n",
       "    <tr>\n",
       "      <th>D</th>\n",
       "      <td>349</td>\n",
       "      <td>21</td>\n",
       "      <td>0.060172</td>\n",
       "    </tr>\n",
       "    <tr>\n",
       "      <th>E</th>\n",
       "      <td>22</td>\n",
       "      <td>2</td>\n",
       "      <td>0.090909</td>\n",
       "    </tr>\n",
       "  </tbody>\n",
       "</table>\n",
       "</div>"
      ],
      "text/plain": [
       "                                     debt                         \n",
       "                      Общее кол.-во строк Сумма значений   Среднее\n",
       "total_income_category                                             \n",
       "A                                      25              2  0.080000\n",
       "B                                    5014            354  0.070602\n",
       "C                                   15921           1353  0.084982\n",
       "D                                     349             21  0.060172\n",
       "E                                      22              2  0.090909"
      ]
     },
     "execution_count": 24,
     "metadata": {},
     "output_type": "execute_result"
    }
   ],
   "source": [
    "data['total_income_category'] = data['total_income'].apply(categorize_income)\n",
    "\n",
    "data_grouped = data.groupby('total_income_category').agg({'debt':['count','sum', 'mean']})\n",
    "dict_to_rename = dict(zip(data_grouped.columns.levels[1], ['Общее кол.-во строк', 'Сумма значений', 'Среднее']))\n",
    "data_grouped = data_grouped.rename(columns=dict_to_rename, level=1)\n",
    "data_grouped"
   ]
  },
  {
   "cell_type": "markdown",
   "id": "16806fce",
   "metadata": {
    "deletable": false,
    "id": "8787f44a"
   },
   "source": [
    "Оценим репрезентативность выборки по количеству участников каждого сегмента: A, B, C, D, E.\n",
    "\n",
    "Всего участников: 25 + 5041 + 15921 + 349 + 22 = 21358\n",
    "На один сегмент количество участников должно стремиться к среднему: 21358 / 5 = 4271.6\n",
    "\n",
    "В этой связи, не берем в расчет категории A, D, E так как они представлены менее 10% от репрезентативной выборки:\n",
    "(25 / 4271.6) или (350 / 4271.6) или (22/ 4271.6) < 10%.\n",
    "\n",
    "По другому, интерпретировать этот результат можно как - среди участников выделяются только два значимых сегмента:\n",
    "- до 200000 (это участники из категорий C, D, E)\n",
    "- 200001 и более (A, B)\n",
    "\n",
    "Таким образом, вывод будем делать на основе на категории B и C."
   ]
  },
  {
   "cell_type": "markdown",
   "id": "6dd14b57",
   "metadata": {
    "deletable": false,
    "id": "6dd14b57"
   },
   "source": [
    "**Вывод:** \n",
    "\n",
    "> Имеется зависимость между уровнем дохода и возвратом кредита в срок:\\\n",
    "> наибольший риск стать должниками у категории C, а наименьший у категории B."
   ]
  },
  {
   "cell_type": "markdown",
   "id": "1dcc9b12",
   "metadata": {
    "deletable": false,
    "editable": false,
    "id": "1dcc9b12"
   },
   "source": [
    "#### 3.4 Как разные цели кредита влияют на его возврат в срок?"
   ]
  },
  {
   "cell_type": "markdown",
   "id": "6929218b",
   "metadata": {},
   "source": [
    "Сгруппируем данные по столбцу 'purpose_category' и найдем показатели каждого полученного сегмента."
   ]
  },
  {
   "cell_type": "code",
   "execution_count": 25,
   "id": "c602bc8b",
   "metadata": {
    "deletable": false,
    "id": "c602bc8b"
   },
   "outputs": [
    {
     "data": {
      "text/html": [
       "<div>\n",
       "<style scoped>\n",
       "    .dataframe tbody tr th:only-of-type {\n",
       "        vertical-align: middle;\n",
       "    }\n",
       "\n",
       "    .dataframe tbody tr th {\n",
       "        vertical-align: top;\n",
       "    }\n",
       "\n",
       "    .dataframe thead tr th {\n",
       "        text-align: left;\n",
       "    }\n",
       "\n",
       "    .dataframe thead tr:last-of-type th {\n",
       "        text-align: right;\n",
       "    }\n",
       "</style>\n",
       "<table border=\"1\" class=\"dataframe\">\n",
       "  <thead>\n",
       "    <tr>\n",
       "      <th></th>\n",
       "      <th colspan=\"3\" halign=\"left\">debt</th>\n",
       "    </tr>\n",
       "    <tr>\n",
       "      <th></th>\n",
       "      <th>Общее кол.-во строк</th>\n",
       "      <th>Сумма значений</th>\n",
       "      <th>Среднее</th>\n",
       "    </tr>\n",
       "    <tr>\n",
       "      <th>purpose_category</th>\n",
       "      <th></th>\n",
       "      <th></th>\n",
       "      <th></th>\n",
       "    </tr>\n",
       "  </thead>\n",
       "  <tbody>\n",
       "    <tr>\n",
       "      <th>операции с автомобилем</th>\n",
       "      <td>4279</td>\n",
       "      <td>400</td>\n",
       "      <td>0.093480</td>\n",
       "    </tr>\n",
       "    <tr>\n",
       "      <th>операции с недвижимостью</th>\n",
       "      <td>10751</td>\n",
       "      <td>780</td>\n",
       "      <td>0.072551</td>\n",
       "    </tr>\n",
       "    <tr>\n",
       "      <th>получение образования</th>\n",
       "      <td>3988</td>\n",
       "      <td>369</td>\n",
       "      <td>0.092528</td>\n",
       "    </tr>\n",
       "    <tr>\n",
       "      <th>проведение свадьбы</th>\n",
       "      <td>2313</td>\n",
       "      <td>183</td>\n",
       "      <td>0.079118</td>\n",
       "    </tr>\n",
       "  </tbody>\n",
       "</table>\n",
       "</div>"
      ],
      "text/plain": [
       "                                        debt                         \n",
       "                         Общее кол.-во строк Сумма значений   Среднее\n",
       "purpose_category                                                     \n",
       "операции с автомобилем                  4279            400  0.093480\n",
       "операции с недвижимостью               10751            780  0.072551\n",
       "получение образования                   3988            369  0.092528\n",
       "проведение свадьбы                      2313            183  0.079118"
      ]
     },
     "execution_count": 25,
     "metadata": {},
     "output_type": "execute_result"
    }
   ],
   "source": [
    "data_grouped = data.groupby('purpose_category').agg({'debt':['count','sum', 'mean']})\n",
    "dict_to_rename = dict(zip(data_grouped.columns.levels[1], ['Общее кол.-во строк', 'Сумма значений', 'Среднее']))\n",
    "data_grouped = data_grouped.rename(columns=dict_to_rename, level=1)\n",
    "data_grouped"
   ]
  },
  {
   "cell_type": "markdown",
   "id": "cf05ed63",
   "metadata": {
    "deletable": false,
    "id": "cf05ed63"
   },
   "source": [
    "**Вывод:** \n",
    "\n",
    "> Цель кредита влияет на его возврат в срок\n",
    "\n",
    "Чаще задолженность возникает по кредитам на \"операции с автомобилем\" и \"получение образования\".\n",
    "\n",
    "Меньше задолженность возникает по кредитам \"проведение свадьбы\" и \"операции с недвижимостью\"\n",
    "\n"
   ]
  },
  {
   "cell_type": "markdown",
   "id": "46c1f10b",
   "metadata": {
    "deletable": false,
    "editable": false,
    "id": "46c1f10b"
   },
   "source": [
    "#### 3.5 Приведите возможные причины появления пропусков в исходных данных."
   ]
  },
  {
   "cell_type": "markdown",
   "id": "3f1b70c7",
   "metadata": {},
   "source": [
    "В данных могут встречаться артефакты (аномалии) — значения, которые не отражают действительность и появились по какой-то ошибке.\n",
    "\n",
    "Причинами ошибок могут быть:\n",
    "- неверный ввод данных,\n",
    "- сокрытие информации,\n",
    "- повреждение файла данных при сохранении,\n",
    "- технические проблемы.\n",
    "\n",
    "На практике пропуски в данных — повод поговорить с разработчиками. Лучше остановить исследование, узнать причину пропусков и устранить её. И тогда исследовать уже данные без пропущенных значений.\n",
    "\n",
    "Как мы убедились выше (п.2.1 Задание 4.), пропуски наблюдаются в столбцах 'days_employed' и 'total_income' в 2174 строках.\n",
    "\n",
    "Убедимся, что для одних и тех же строк, одновременно отсутствуют данные по обоим столбцам:"
   ]
  },
  {
   "cell_type": "code",
   "execution_count": 26,
   "id": "48366178",
   "metadata": {},
   "outputs": [
    {
     "name": "stdout",
     "output_type": "stream",
     "text": [
      "<class 'pandas.core.frame.DataFrame'>\n",
      "Int64Index: 2174 entries, 12 to 21510\n",
      "Data columns (total 12 columns):\n",
      " #   Column            Non-Null Count  Dtype  \n",
      "---  ------            --------------  -----  \n",
      " 0   children          2174 non-null   int64  \n",
      " 1   days_employed     0 non-null      float64\n",
      " 2   dob_years         2174 non-null   int64  \n",
      " 3   education         2174 non-null   object \n",
      " 4   education_id      2174 non-null   int64  \n",
      " 5   family_status     2174 non-null   object \n",
      " 6   family_status_id  2174 non-null   int64  \n",
      " 7   gender            2174 non-null   object \n",
      " 8   income_type       2174 non-null   object \n",
      " 9   debt              2174 non-null   int64  \n",
      " 10  total_income      0 non-null      float64\n",
      " 11  purpose           2174 non-null   object \n",
      "dtypes: float64(2), int64(5), object(5)\n",
      "memory usage: 220.8+ KB\n"
     ]
    }
   ],
   "source": [
    "import pandas as pd\n",
    "\n",
    "try:\n",
    "    data = pd.read_csv('/datasets/data.csv')\n",
    "except:\n",
    "    data = pd.read_csv('https://code.s3.yandex.net/datasets/data.csv')\n",
    "    \n",
    "data[(data['days_employed'].isna() == True) & (data['total_income'].isna() == True)].info()"
   ]
  },
  {
   "cell_type": "markdown",
   "id": "3697d2a9",
   "metadata": {
    "deletable": false,
    "id": "3697d2a9"
   },
   "source": [
    "**Ответ:**\n",
    "\n",
    "Предположение подтвердилось: если в строке отсутствуют данные в столбце 'days_employed', то одновременно отсутствуют данные и по 'total_income'.\n",
    "\n",
    "Таким образом, это системный сбой, нужно сообщить разработчикам выявленную закономерность.\n"
   ]
  },
  {
   "cell_type": "markdown",
   "id": "3137d257",
   "metadata": {
    "deletable": false,
    "editable": false,
    "id": "3137d257"
   },
   "source": [
    "#### 3.6 Объясните, почему заполнить пропуски медианным значением — лучшее решение для количественных переменных."
   ]
  },
  {
   "cell_type": "markdown",
   "id": "cf40012a",
   "metadata": {
    "deletable": false,
    "id": "cf40012a"
   },
   "source": [
    "**Ответ:**\n",
    "\n",
    "Среднее арифметическое — это сумма всех значений, поделённая на количество значений.\n",
    "Среднее арифметическое отражает ситуацию некорректно, так как не учитывает разброс данных.\n",
    "\n",
    "Медиана — это такое число в выборке, что ровно половина элементов больше него, а другая половина — меньше.\n",
    "На нее не влияют случайные выбросы и шум.\n",
    "К тому же, если данные имеют нормальное распределение и их количество велико, то медиана будет равняться среднему значению.\n",
    "\n",
    "В этой связи, медианное значение лучше всего отражает выборку в целом, в случае, если есть незаполненные данные."
   ]
  },
  {
   "cell_type": "markdown",
   "id": "57bc304e",
   "metadata": {
    "deletable": false,
    "editable": false,
    "id": "57bc304e"
   },
   "source": [
    "### Шаг 4: общий вывод."
   ]
  },
  {
   "cell_type": "markdown",
   "id": "1ab75d1c",
   "metadata": {
    "deletable": false,
    "id": "1ab75d1c"
   },
   "source": [
    "Входные данные от банка — статистика о платёжеспособности клиентов.\n",
    "\n",
    "Все выявленные аномальные значения столбца 'days_employed' (содержали отрицательное количество дней трудового стажа) были обработаны и заменены на положительные с помощью метода abs().\n",
    "\n",
    "Пропуски значений были найдены в двух столбцах 'days_employed' и 'total_income' в 2174 строках.\n",
    "Причем, если в строке отсутствуют данные в столбце 'days_employed', то одновременно отсутствуют данные и по 'total_income'.\n",
    "Либо это человеческий фактор, либо техническая ошибка, - в любом случае стоит более внимательно проанализировать эту закономерность,\n",
    "и принять меры, чтобы избежать пропущенных значений при сборе данных в будущем.\n",
    "\n",
    "Для заполнения пропущенных значений были использованы медианные значения, так как медиана менее чувствительна к выбросам, чем среднее значение.\n",
    "Так как на сумму дохода 'total_income' сильнее всего влияет тип занятости,\n",
    "поэтому в этом столбце пропуски были заполнены медианным значением по каждому типу из столбца 'income_type'.\n",
    "\n",
    "После привидения строковых значений столбца 'education' к нижнему регистру были выявлены и удалены 71 строка неявных дубликатов.\n",
    "Дубликаты строковых значений столбца 'education' - это следствие заполнения произвольным строковым значением.\n",
    "В этой связи, при сборе данных в будущем рекомендуется ограничивать выбор пользователя из списка возможных значений."
   ]
  },
  {
   "cell_type": "markdown",
   "id": "44294b6f",
   "metadata": {},
   "source": [
    "Для возможности делать статистические выводы потребовалось дополнительно категоризировать данные.\n",
    "\n",
    "Среди участников выделены два значимых сегмента по по уровню доходов:\n",
    "- до 200000 \n",
    "- 200001 и более\n",
    "\n",
    "И четыре по целям кредита:\n",
    "- ‘операции с автомобилем’,\n",
    "- ‘операции с недвижимостью’,\n",
    "- ‘проведение свадьбы’,\n",
    "- ‘получение образования’."
   ]
  },
  {
   "cell_type": "markdown",
   "id": "319a6222",
   "metadata": {},
   "source": [
    "Для оценки способности потенциального заёмщика вернуть кредит банку проведены исследования гипотез:\n",
    "\n",
    "1. Зависимость между наличием детей и возвратом кредита в срок.\n",
    "\n",
    "Гипотеза подтвердилась, с увеличением количества детей мы видим увеличение количества просроченных задолженностей.\n",
    "\n",
    "- У бездетных просрочка оплаты ниже, чем у людей с детьми.\n",
    "- Люди с 3-мя детьми чаще платят в срок, чем люди с одним ребенком, двумя или четырьмя детьми.\n",
    "- Не выявлено ни одной задолженности для семей с 5-ю детьми, соответственно, доля задолженности равняется нулю.\n",
    "С учетом этого, рекомендуется исследование на более широкой выборке.\n",
    "\n",
    "2. Зависимость между семейным положением и возвратом кредита в срок\n",
    "\n",
    "Имеется зависимость:\n",
    "- Те кто развелись или овдовели чаще платят в срок, чем люди в браке.\n",
    "- Люди не в браке и не бывавшие в браке имеют больший процент невозвратов в срок.\n",
    "\n",
    "3. Зависимость между уровнем дохода и возвратом кредита в срок.\n",
    "\n",
    "Имеется зависимость, - наибольший риск стать должниками у участников с уровнем доходов до 200000, а наименьший у участников с уровнем доходов 200001 и более.\n",
    "\n",
    "4. Как разные цели кредита влияют на его возврат в срок\n",
    "- Чаще задолженность возникает по кредитам на \"операции с автомобилем\" и \"получение образования\".\n",
    "- Меньше задолженность возникает по кредитам \"проведение свадьбы\" и \"операции с недвижимостью\"."
   ]
  }
 ],
 "metadata": {
  "ExecuteTimeLog": [
   {
    "duration": 488,
    "start_time": "2023-07-20T12:54:54.672Z"
   },
   {
    "duration": 25,
    "start_time": "2023-07-20T12:54:59.286Z"
   },
   {
    "duration": 14,
    "start_time": "2023-07-20T12:55:07.750Z"
   },
   {
    "duration": 10,
    "start_time": "2023-07-20T12:55:13.802Z"
   },
   {
    "duration": 33,
    "start_time": "2023-07-20T12:56:51.095Z"
   },
   {
    "duration": 3,
    "start_time": "2023-07-20T12:56:57.496Z"
   },
   {
    "duration": 8,
    "start_time": "2023-07-20T12:57:00.994Z"
   },
   {
    "duration": 5,
    "start_time": "2023-07-20T12:57:03.429Z"
   },
   {
    "duration": 6,
    "start_time": "2023-07-20T12:57:06.922Z"
   },
   {
    "duration": 5,
    "start_time": "2023-07-20T12:57:08.942Z"
   },
   {
    "duration": 36,
    "start_time": "2023-07-20T12:57:22.923Z"
   },
   {
    "duration": 10,
    "start_time": "2023-07-20T12:57:25.319Z"
   },
   {
    "duration": 4,
    "start_time": "2023-07-20T12:57:29.905Z"
   },
   {
    "duration": 12,
    "start_time": "2023-07-20T12:57:32.140Z"
   },
   {
    "duration": 20,
    "start_time": "2023-07-20T12:57:41.321Z"
   },
   {
    "duration": 19,
    "start_time": "2023-07-20T12:57:45.013Z"
   },
   {
    "duration": 3,
    "start_time": "2023-07-20T12:57:53.154Z"
   },
   {
    "duration": 10,
    "start_time": "2023-07-20T12:57:56.143Z"
   },
   {
    "duration": 6,
    "start_time": "2023-07-20T12:57:58.083Z"
   },
   {
    "duration": 3,
    "start_time": "2023-07-20T12:58:04.005Z"
   },
   {
    "duration": 10,
    "start_time": "2023-07-20T12:58:04.800Z"
   },
   {
    "duration": 589,
    "start_time": "2023-07-20T13:13:04.575Z"
   },
   {
    "duration": 967,
    "start_time": "2023-07-20T13:59:13.015Z"
   },
   {
    "duration": 948,
    "start_time": "2023-07-20T14:48:14.119Z"
   },
   {
    "duration": 932,
    "start_time": "2023-07-20T14:48:45.652Z"
   },
   {
    "duration": 259,
    "start_time": "2023-07-20T14:51:01.470Z"
   },
   {
    "duration": 521,
    "start_time": "2023-07-20T14:52:17.587Z"
   },
   {
    "duration": 24,
    "start_time": "2023-07-20T14:52:18.339Z"
   },
   {
    "duration": 14,
    "start_time": "2023-07-20T14:52:19.207Z"
   },
   {
    "duration": 10,
    "start_time": "2023-07-20T14:52:20.874Z"
   },
   {
    "duration": 36,
    "start_time": "2023-07-20T14:52:21.823Z"
   },
   {
    "duration": 4,
    "start_time": "2023-07-20T14:52:23.035Z"
   },
   {
    "duration": 11,
    "start_time": "2023-07-20T14:52:23.861Z"
   },
   {
    "duration": 6,
    "start_time": "2023-07-20T14:52:25.906Z"
   },
   {
    "duration": 6,
    "start_time": "2023-07-20T14:52:26.779Z"
   },
   {
    "duration": 6,
    "start_time": "2023-07-20T14:52:27.635Z"
   },
   {
    "duration": 46,
    "start_time": "2023-07-20T14:52:28.878Z"
   },
   {
    "duration": 14,
    "start_time": "2023-07-20T14:52:29.668Z"
   },
   {
    "duration": 5,
    "start_time": "2023-07-20T14:52:30.970Z"
   },
   {
    "duration": 14,
    "start_time": "2023-07-20T14:52:32.270Z"
   },
   {
    "duration": 31,
    "start_time": "2023-07-20T14:52:33.534Z"
   },
   {
    "duration": 26,
    "start_time": "2023-07-20T14:52:34.004Z"
   },
   {
    "duration": 4,
    "start_time": "2023-07-20T14:52:35.425Z"
   },
   {
    "duration": 10,
    "start_time": "2023-07-20T14:52:35.900Z"
   },
   {
    "duration": 6,
    "start_time": "2023-07-20T14:52:36.894Z"
   },
   {
    "duration": 4,
    "start_time": "2023-07-20T14:52:37.859Z"
   },
   {
    "duration": 8,
    "start_time": "2023-07-20T14:52:38.410Z"
   },
   {
    "duration": 411,
    "start_time": "2023-07-20T14:52:41.409Z"
   },
   {
    "duration": 178,
    "start_time": "2023-07-20T14:52:48.815Z"
   },
   {
    "duration": 60,
    "start_time": "2023-07-21T07:47:22.993Z"
   },
   {
    "duration": 675,
    "start_time": "2023-07-21T07:47:49.627Z"
   },
   {
    "duration": 20,
    "start_time": "2023-07-21T07:47:50.305Z"
   },
   {
    "duration": 13,
    "start_time": "2023-07-21T07:47:50.391Z"
   },
   {
    "duration": 9,
    "start_time": "2023-07-21T07:47:51.093Z"
   },
   {
    "duration": 29,
    "start_time": "2023-07-21T07:47:51.453Z"
   },
   {
    "duration": 4,
    "start_time": "2023-07-21T07:47:51.975Z"
   },
   {
    "duration": 7,
    "start_time": "2023-07-21T07:47:52.342Z"
   },
   {
    "duration": 4,
    "start_time": "2023-07-21T07:47:52.879Z"
   },
   {
    "duration": 8,
    "start_time": "2023-07-21T07:47:53.236Z"
   },
   {
    "duration": 5,
    "start_time": "2023-07-21T07:47:53.615Z"
   },
   {
    "duration": 31,
    "start_time": "2023-07-21T07:47:54.169Z"
   },
   {
    "duration": 10,
    "start_time": "2023-07-21T07:47:54.529Z"
   },
   {
    "duration": 4,
    "start_time": "2023-07-21T07:47:55.078Z"
   },
   {
    "duration": 11,
    "start_time": "2023-07-21T07:47:55.644Z"
   },
   {
    "duration": 23,
    "start_time": "2023-07-21T07:47:55.999Z"
   },
   {
    "duration": 27,
    "start_time": "2023-07-21T07:47:56.182Z"
   },
   {
    "duration": 4,
    "start_time": "2023-07-21T07:47:56.742Z"
   },
   {
    "duration": 10,
    "start_time": "2023-07-21T07:47:56.938Z"
   },
   {
    "duration": 6,
    "start_time": "2023-07-21T07:47:57.331Z"
   },
   {
    "duration": 3,
    "start_time": "2023-07-21T07:47:57.707Z"
   },
   {
    "duration": 9,
    "start_time": "2023-07-21T07:47:57.909Z"
   },
   {
    "duration": 11,
    "start_time": "2023-07-21T07:48:00.022Z"
   },
   {
    "duration": 10,
    "start_time": "2023-07-21T07:48:23.101Z"
   },
   {
    "duration": 12,
    "start_time": "2023-07-21T07:48:31.975Z"
   },
   {
    "duration": 12,
    "start_time": "2023-07-21T07:48:55.336Z"
   },
   {
    "duration": 11,
    "start_time": "2023-07-21T07:49:08.316Z"
   },
   {
    "duration": 11,
    "start_time": "2023-07-21T07:49:17.991Z"
   },
   {
    "duration": 2715,
    "start_time": "2023-07-21T07:49:34.234Z"
   },
   {
    "duration": 10,
    "start_time": "2023-07-21T07:49:47.047Z"
   },
   {
    "duration": 14,
    "start_time": "2023-07-21T07:49:56.408Z"
   },
   {
    "duration": 10,
    "start_time": "2023-07-21T07:50:40.816Z"
   },
   {
    "duration": 9,
    "start_time": "2023-07-21T08:00:56.553Z"
   },
   {
    "duration": 11,
    "start_time": "2023-07-21T08:01:00.519Z"
   },
   {
    "duration": 9,
    "start_time": "2023-07-21T08:01:04.791Z"
   },
   {
    "duration": 17,
    "start_time": "2023-07-21T08:05:13.041Z"
   },
   {
    "duration": 14,
    "start_time": "2023-07-21T08:05:37.648Z"
   },
   {
    "duration": 13,
    "start_time": "2023-07-21T08:06:04.451Z"
   },
   {
    "duration": 6,
    "start_time": "2023-07-21T08:06:15.616Z"
   },
   {
    "duration": 11,
    "start_time": "2023-07-21T08:06:22.345Z"
   },
   {
    "duration": 13,
    "start_time": "2023-07-21T08:06:35.037Z"
   },
   {
    "duration": 14,
    "start_time": "2023-07-21T08:07:09.741Z"
   },
   {
    "duration": 14,
    "start_time": "2023-07-21T08:08:38.410Z"
   },
   {
    "duration": 9,
    "start_time": "2023-07-21T08:08:50.153Z"
   },
   {
    "duration": 8,
    "start_time": "2023-07-21T08:09:09.542Z"
   },
   {
    "duration": 15,
    "start_time": "2023-07-21T08:09:25.068Z"
   },
   {
    "duration": 22,
    "start_time": "2023-07-21T08:09:35.612Z"
   },
   {
    "duration": 16,
    "start_time": "2023-07-21T08:14:48.316Z"
   },
   {
    "duration": 17,
    "start_time": "2023-07-21T08:14:59.726Z"
   },
   {
    "duration": 16,
    "start_time": "2023-07-21T08:15:12.754Z"
   },
   {
    "duration": 16,
    "start_time": "2023-07-21T08:15:47.291Z"
   },
   {
    "duration": 15,
    "start_time": "2023-07-21T08:16:01.753Z"
   },
   {
    "duration": 14,
    "start_time": "2023-07-21T08:16:27.068Z"
   },
   {
    "duration": 19,
    "start_time": "2023-07-21T08:17:27.097Z"
   },
   {
    "duration": 15,
    "start_time": "2023-07-21T08:17:50.787Z"
   },
   {
    "duration": 19,
    "start_time": "2023-07-21T08:18:16.207Z"
   },
   {
    "duration": 17,
    "start_time": "2023-07-21T08:18:37.613Z"
   },
   {
    "duration": 17,
    "start_time": "2023-07-21T08:18:41.706Z"
   },
   {
    "duration": 1591,
    "start_time": "2023-07-21T08:18:52.652Z"
   },
   {
    "duration": 17,
    "start_time": "2023-07-21T08:19:10.657Z"
   },
   {
    "duration": 16,
    "start_time": "2023-07-21T08:19:14.612Z"
   },
   {
    "duration": 21,
    "start_time": "2023-07-21T08:19:23.015Z"
   },
   {
    "duration": 21,
    "start_time": "2023-07-21T08:19:26.709Z"
   },
   {
    "duration": 16,
    "start_time": "2023-07-21T08:19:40.111Z"
   },
   {
    "duration": 17,
    "start_time": "2023-07-21T08:20:13.063Z"
   },
   {
    "duration": 14,
    "start_time": "2023-07-21T08:20:30.919Z"
   },
   {
    "duration": 15,
    "start_time": "2023-07-21T08:20:53.823Z"
   },
   {
    "duration": 16,
    "start_time": "2023-07-21T08:21:02.469Z"
   },
   {
    "duration": 13,
    "start_time": "2023-07-21T08:21:11.510Z"
   },
   {
    "duration": 18,
    "start_time": "2023-07-21T08:25:44.335Z"
   },
   {
    "duration": 1814,
    "start_time": "2023-07-21T08:26:07.267Z"
   },
   {
    "duration": 458,
    "start_time": "2023-07-21T08:26:19.660Z"
   },
   {
    "duration": 18,
    "start_time": "2023-07-21T08:26:30.683Z"
   },
   {
    "duration": 17,
    "start_time": "2023-07-21T08:26:51.599Z"
   },
   {
    "duration": 19,
    "start_time": "2023-07-21T08:27:54.103Z"
   },
   {
    "duration": 16,
    "start_time": "2023-07-21T08:30:47.238Z"
   },
   {
    "duration": 18,
    "start_time": "2023-07-21T08:30:49.913Z"
   },
   {
    "duration": 69,
    "start_time": "2023-07-21T11:33:27.919Z"
   },
   {
    "duration": 6,
    "start_time": "2023-07-21T11:33:33.895Z"
   },
   {
    "duration": 536,
    "start_time": "2023-07-21T11:33:41.000Z"
   },
   {
    "duration": 28,
    "start_time": "2023-07-21T11:33:42.051Z"
   },
   {
    "duration": 114,
    "start_time": "2023-07-21T11:34:12.071Z"
   },
   {
    "duration": 174,
    "start_time": "2023-07-21T11:34:24.280Z"
   },
   {
    "duration": 1836,
    "start_time": "2023-07-21T11:36:05.738Z"
   },
   {
    "duration": 2147,
    "start_time": "2023-07-21T11:36:52.638Z"
   },
   {
    "duration": 1827,
    "start_time": "2023-07-21T11:37:47.681Z"
   },
   {
    "duration": 1885,
    "start_time": "2023-07-21T11:38:09.647Z"
   },
   {
    "duration": 70,
    "start_time": "2023-07-21T11:38:15.776Z"
   },
   {
    "duration": 2120,
    "start_time": "2023-07-21T11:38:18.773Z"
   },
   {
    "duration": 1838,
    "start_time": "2023-07-21T11:38:56.226Z"
   },
   {
    "duration": 7,
    "start_time": "2023-07-21T11:39:10.753Z"
   },
   {
    "duration": 10,
    "start_time": "2023-07-21T11:39:23.920Z"
   },
   {
    "duration": 14,
    "start_time": "2023-07-21T11:39:57.047Z"
   },
   {
    "duration": 3,
    "start_time": "2023-07-21T11:40:20.103Z"
   },
   {
    "duration": 3,
    "start_time": "2023-07-21T11:40:58.742Z"
   },
   {
    "duration": 3,
    "start_time": "2023-07-21T11:41:22.215Z"
   },
   {
    "duration": 3,
    "start_time": "2023-07-21T11:42:02.642Z"
   },
   {
    "duration": 69,
    "start_time": "2023-07-21T11:42:07.348Z"
   },
   {
    "duration": 4,
    "start_time": "2023-07-21T11:42:08.657Z"
   },
   {
    "duration": 4,
    "start_time": "2023-07-21T11:42:14.029Z"
   },
   {
    "duration": 4,
    "start_time": "2023-07-21T11:42:21.263Z"
   },
   {
    "duration": 71,
    "start_time": "2023-07-21T11:42:23.382Z"
   },
   {
    "duration": 3,
    "start_time": "2023-07-21T11:42:24.441Z"
   },
   {
    "duration": 10,
    "start_time": "2023-07-21T11:42:31.755Z"
   },
   {
    "duration": 14,
    "start_time": "2023-07-21T11:42:38.947Z"
   },
   {
    "duration": 69,
    "start_time": "2023-07-21T11:42:53.309Z"
   },
   {
    "duration": 6,
    "start_time": "2023-07-21T11:43:24.125Z"
   },
   {
    "duration": 5,
    "start_time": "2023-07-21T11:43:31.105Z"
   },
   {
    "duration": 12,
    "start_time": "2023-07-21T11:44:44.502Z"
   },
   {
    "duration": 9,
    "start_time": "2023-07-21T11:44:53.012Z"
   },
   {
    "duration": 8,
    "start_time": "2023-07-21T11:45:01.367Z"
   },
   {
    "duration": 70,
    "start_time": "2023-07-21T11:45:06.776Z"
   },
   {
    "duration": 9,
    "start_time": "2023-07-21T11:45:07.807Z"
   },
   {
    "duration": 12,
    "start_time": "2023-07-21T11:46:05.484Z"
   },
   {
    "duration": 15,
    "start_time": "2023-07-21T11:46:15.960Z"
   },
   {
    "duration": 9,
    "start_time": "2023-07-21T11:46:21.220Z"
   },
   {
    "duration": 572,
    "start_time": "2023-07-21T11:47:02.080Z"
   },
   {
    "duration": 58,
    "start_time": "2023-07-21T11:47:19.691Z"
   },
   {
    "duration": 505,
    "start_time": "2023-07-21T11:47:23.742Z"
   },
   {
    "duration": 11,
    "start_time": "2023-07-21T11:47:24.711Z"
   },
   {
    "duration": 6,
    "start_time": "2023-07-21T11:47:39.359Z"
   },
   {
    "duration": 8,
    "start_time": "2023-07-21T11:49:23.107Z"
   },
   {
    "duration": 4,
    "start_time": "2023-07-21T11:49:42.702Z"
   },
   {
    "duration": 5,
    "start_time": "2023-07-21T11:49:55.492Z"
   },
   {
    "duration": 8,
    "start_time": "2023-07-21T11:50:03.215Z"
   },
   {
    "duration": 5,
    "start_time": "2023-07-21T11:50:24.689Z"
   },
   {
    "duration": 5,
    "start_time": "2023-07-21T11:50:30.219Z"
   },
   {
    "duration": 5,
    "start_time": "2023-07-21T11:50:38.150Z"
   },
   {
    "duration": 12,
    "start_time": "2023-07-21T11:50:43.872Z"
   },
   {
    "duration": 24,
    "start_time": "2023-07-21T11:51:15.245Z"
   },
   {
    "duration": 70,
    "start_time": "2023-07-21T11:51:20.852Z"
   },
   {
    "duration": 16,
    "start_time": "2023-07-21T11:51:21.495Z"
   },
   {
    "duration": 15,
    "start_time": "2023-07-21T11:51:22.650Z"
   },
   {
    "duration": 11,
    "start_time": "2023-07-21T11:51:23.488Z"
   },
   {
    "duration": 48,
    "start_time": "2023-07-21T11:51:23.820Z"
   },
   {
    "duration": 4,
    "start_time": "2023-07-21T11:51:24.325Z"
   },
   {
    "duration": 9,
    "start_time": "2023-07-21T11:51:24.656Z"
   },
   {
    "duration": 5,
    "start_time": "2023-07-21T11:51:25.160Z"
   },
   {
    "duration": 6,
    "start_time": "2023-07-21T11:51:25.499Z"
   },
   {
    "duration": 4,
    "start_time": "2023-07-21T11:51:25.827Z"
   },
   {
    "duration": 34,
    "start_time": "2023-07-21T11:51:26.353Z"
   },
   {
    "duration": 9,
    "start_time": "2023-07-21T11:51:26.700Z"
   },
   {
    "duration": 4,
    "start_time": "2023-07-21T11:51:28.376Z"
   },
   {
    "duration": 12,
    "start_time": "2023-07-21T11:51:28.891Z"
   },
   {
    "duration": 19,
    "start_time": "2023-07-21T11:51:29.217Z"
   },
   {
    "duration": 17,
    "start_time": "2023-07-21T11:51:29.382Z"
   },
   {
    "duration": 4,
    "start_time": "2023-07-21T11:51:30.403Z"
   },
   {
    "duration": 80,
    "start_time": "2023-07-21T11:51:30.601Z"
   },
   {
    "duration": 6,
    "start_time": "2023-07-21T11:51:31.184Z"
   },
   {
    "duration": 3,
    "start_time": "2023-07-21T11:51:31.755Z"
   },
   {
    "duration": 9,
    "start_time": "2023-07-21T11:51:31.965Z"
   },
   {
    "duration": 20,
    "start_time": "2023-07-21T11:51:34.598Z"
   },
   {
    "duration": 20,
    "start_time": "2023-07-21T11:54:18.975Z"
   },
   {
    "duration": 34,
    "start_time": "2023-07-21T12:15:15.243Z"
   },
   {
    "duration": 33,
    "start_time": "2023-07-21T12:16:30.512Z"
   },
   {
    "duration": 37,
    "start_time": "2023-07-21T12:16:39.840Z"
   },
   {
    "duration": 9,
    "start_time": "2023-07-21T12:27:04.219Z"
   },
   {
    "duration": 9,
    "start_time": "2023-07-21T12:27:14.843Z"
   },
   {
    "duration": 24,
    "start_time": "2023-07-21T12:27:53.591Z"
   },
   {
    "duration": 32,
    "start_time": "2023-07-21T12:29:29.751Z"
   },
   {
    "duration": 9,
    "start_time": "2023-07-21T12:29:33.205Z"
   },
   {
    "duration": 13,
    "start_time": "2023-07-21T12:29:42.350Z"
   },
   {
    "duration": 13,
    "start_time": "2023-07-21T12:32:48.451Z"
   },
   {
    "duration": 16,
    "start_time": "2023-07-21T12:33:21.066Z"
   },
   {
    "duration": 107,
    "start_time": "2023-07-21T12:41:39.283Z"
   },
   {
    "duration": 172,
    "start_time": "2023-07-21T12:41:49.902Z"
   },
   {
    "duration": 113,
    "start_time": "2023-07-21T12:42:13.907Z"
   },
   {
    "duration": 15,
    "start_time": "2023-07-21T12:42:45.371Z"
   },
   {
    "duration": 36,
    "start_time": "2023-07-21T12:44:58.728Z"
   },
   {
    "duration": 28,
    "start_time": "2023-07-21T12:45:37.505Z"
   },
   {
    "duration": 39,
    "start_time": "2023-07-21T12:46:07.612Z"
   },
   {
    "duration": 30,
    "start_time": "2023-07-21T12:46:15.594Z"
   },
   {
    "duration": 28,
    "start_time": "2023-07-21T12:46:52.277Z"
   },
   {
    "duration": 35,
    "start_time": "2023-07-21T12:47:02.740Z"
   },
   {
    "duration": 35,
    "start_time": "2023-07-21T12:47:13.722Z"
   },
   {
    "duration": 28,
    "start_time": "2023-07-21T12:48:01.145Z"
   },
   {
    "duration": 13,
    "start_time": "2023-07-21T12:49:31.828Z"
   },
   {
    "duration": 13,
    "start_time": "2023-07-21T12:49:35.864Z"
   },
   {
    "duration": 11,
    "start_time": "2023-07-21T12:49:54.589Z"
   },
   {
    "duration": 13,
    "start_time": "2023-07-21T12:50:06.480Z"
   },
   {
    "duration": 29,
    "start_time": "2023-07-21T12:50:44.174Z"
   },
   {
    "duration": 14,
    "start_time": "2023-07-21T12:50:45.026Z"
   },
   {
    "duration": 33,
    "start_time": "2023-07-21T12:51:02.152Z"
   },
   {
    "duration": 13,
    "start_time": "2023-07-21T12:52:38.626Z"
   },
   {
    "duration": 31,
    "start_time": "2023-07-21T12:54:47.438Z"
   },
   {
    "duration": 30,
    "start_time": "2023-07-21T12:54:52.660Z"
   },
   {
    "duration": 32,
    "start_time": "2023-07-21T12:55:05.577Z"
   },
   {
    "duration": 33,
    "start_time": "2023-07-21T12:56:29.735Z"
   },
   {
    "duration": 21,
    "start_time": "2023-07-21T12:56:37.538Z"
   },
   {
    "duration": 21,
    "start_time": "2023-07-21T12:56:45.298Z"
   },
   {
    "duration": 21,
    "start_time": "2023-07-21T12:56:51.364Z"
   },
   {
    "duration": 620,
    "start_time": "2023-07-21T15:07:35.527Z"
   },
   {
    "duration": 27,
    "start_time": "2023-07-21T15:07:38.050Z"
   },
   {
    "duration": 14,
    "start_time": "2023-07-21T15:07:45.617Z"
   },
   {
    "duration": 22,
    "start_time": "2023-07-21T15:07:56.492Z"
   },
   {
    "duration": 33,
    "start_time": "2023-07-21T15:09:06.812Z"
   },
   {
    "duration": 4,
    "start_time": "2023-07-21T15:09:47.737Z"
   },
   {
    "duration": 10,
    "start_time": "2023-07-21T15:10:04.209Z"
   },
   {
    "duration": 14,
    "start_time": "2023-07-21T15:10:07.380Z"
   },
   {
    "duration": 8,
    "start_time": "2023-07-21T15:10:09.722Z"
   },
   {
    "duration": 9,
    "start_time": "2023-07-21T15:10:10.669Z"
   },
   {
    "duration": 55,
    "start_time": "2023-07-21T15:10:18.175Z"
   },
   {
    "duration": 11,
    "start_time": "2023-07-21T15:10:19.624Z"
   },
   {
    "duration": 4,
    "start_time": "2023-07-21T15:10:26.855Z"
   },
   {
    "duration": 19,
    "start_time": "2023-07-21T15:10:33.593Z"
   },
   {
    "duration": 36,
    "start_time": "2023-07-21T15:10:37.555Z"
   },
   {
    "duration": 26,
    "start_time": "2023-07-21T15:10:38.166Z"
   },
   {
    "duration": 7,
    "start_time": "2023-07-21T15:11:06.877Z"
   },
   {
    "duration": 14,
    "start_time": "2023-07-21T15:11:09.020Z"
   },
   {
    "duration": 7,
    "start_time": "2023-07-21T15:11:11.856Z"
   },
   {
    "duration": 16,
    "start_time": "2023-07-21T15:11:15.768Z"
   },
   {
    "duration": 8,
    "start_time": "2023-07-21T15:11:36.284Z"
   },
   {
    "duration": 9,
    "start_time": "2023-07-21T15:11:36.939Z"
   },
   {
    "duration": 12,
    "start_time": "2023-07-21T15:11:46.188Z"
   },
   {
    "duration": 21,
    "start_time": "2023-07-21T15:11:56.865Z"
   },
   {
    "duration": 13,
    "start_time": "2023-07-21T15:12:00.791Z"
   },
   {
    "duration": 51,
    "start_time": "2023-07-21T15:18:10.331Z"
   },
   {
    "duration": 45,
    "start_time": "2023-07-21T15:18:31.714Z"
   },
   {
    "duration": 17,
    "start_time": "2023-07-21T15:18:57.599Z"
   },
   {
    "duration": 33,
    "start_time": "2023-07-21T15:19:28.103Z"
   },
   {
    "duration": 17,
    "start_time": "2023-07-21T15:20:05.001Z"
   },
   {
    "duration": 19,
    "start_time": "2023-07-21T15:21:28.725Z"
   },
   {
    "duration": 26,
    "start_time": "2023-07-21T15:21:30.441Z"
   },
   {
    "duration": 17,
    "start_time": "2023-07-21T15:21:33.149Z"
   },
   {
    "duration": 78,
    "start_time": "2023-07-21T15:32:57.458Z"
   },
   {
    "duration": 21,
    "start_time": "2023-07-21T15:33:09.727Z"
   },
   {
    "duration": 21,
    "start_time": "2023-07-21T15:33:36.496Z"
   },
   {
    "duration": 31,
    "start_time": "2023-07-21T15:33:54.929Z"
   },
   {
    "duration": 44,
    "start_time": "2023-07-21T15:34:04.468Z"
   },
   {
    "duration": 23,
    "start_time": "2023-07-21T15:34:13.533Z"
   },
   {
    "duration": 2430,
    "start_time": "2023-07-21T15:35:13.897Z"
   },
   {
    "duration": 28,
    "start_time": "2023-07-21T15:35:28.487Z"
   },
   {
    "duration": 2211,
    "start_time": "2023-07-21T15:35:38.089Z"
   },
   {
    "duration": 38,
    "start_time": "2023-07-21T15:35:49.864Z"
   },
   {
    "duration": 27,
    "start_time": "2023-07-21T15:35:56.575Z"
   },
   {
    "duration": 152,
    "start_time": "2023-07-21T15:37:26.458Z"
   },
   {
    "duration": 53,
    "start_time": "2023-07-21T15:37:33.258Z"
   },
   {
    "duration": 32,
    "start_time": "2023-07-21T15:37:43.549Z"
   },
   {
    "duration": 27,
    "start_time": "2023-07-21T15:37:54.634Z"
   },
   {
    "duration": 30,
    "start_time": "2023-07-21T15:39:11.119Z"
   },
   {
    "duration": 48,
    "start_time": "2023-07-21T15:39:40.257Z"
   },
   {
    "duration": 41,
    "start_time": "2023-07-21T15:39:53.950Z"
   },
   {
    "duration": 31,
    "start_time": "2023-07-21T15:40:16.509Z"
   },
   {
    "duration": 21,
    "start_time": "2023-07-21T15:40:19.242Z"
   },
   {
    "duration": 22,
    "start_time": "2023-07-21T15:40:49.198Z"
   },
   {
    "duration": 4,
    "start_time": "2023-07-21T15:40:58.712Z"
   },
   {
    "duration": 8,
    "start_time": "2023-07-21T15:40:59.136Z"
   },
   {
    "duration": 21,
    "start_time": "2023-07-21T15:41:00.236Z"
   },
   {
    "duration": 33,
    "start_time": "2023-07-21T15:41:02.002Z"
   },
   {
    "duration": 40,
    "start_time": "2023-07-21T15:41:02.713Z"
   },
   {
    "duration": 14,
    "start_time": "2023-07-21T15:41:02.949Z"
   },
   {
    "duration": 32,
    "start_time": "2023-07-21T15:41:03.585Z"
   },
   {
    "duration": 24,
    "start_time": "2023-07-21T16:03:09.114Z"
   },
   {
    "duration": 28,
    "start_time": "2023-07-21T16:04:27.386Z"
   },
   {
    "duration": 31,
    "start_time": "2023-07-21T16:04:39.345Z"
   },
   {
    "duration": 38,
    "start_time": "2023-07-21T16:04:46.539Z"
   },
   {
    "duration": 26,
    "start_time": "2023-07-21T16:05:05.734Z"
   },
   {
    "duration": 21,
    "start_time": "2023-07-21T16:19:48.940Z"
   },
   {
    "duration": 105,
    "start_time": "2023-07-21T16:20:09.003Z"
   },
   {
    "duration": 18,
    "start_time": "2023-07-21T16:20:09.349Z"
   },
   {
    "duration": 16,
    "start_time": "2023-07-21T16:20:09.687Z"
   },
   {
    "duration": 11,
    "start_time": "2023-07-21T16:20:10.360Z"
   },
   {
    "duration": 33,
    "start_time": "2023-07-21T16:20:10.700Z"
   },
   {
    "duration": 4,
    "start_time": "2023-07-21T16:20:11.225Z"
   },
   {
    "duration": 9,
    "start_time": "2023-07-21T16:20:11.555Z"
   },
   {
    "duration": 6,
    "start_time": "2023-07-21T16:20:12.094Z"
   },
   {
    "duration": 7,
    "start_time": "2023-07-21T16:20:12.442Z"
   },
   {
    "duration": 6,
    "start_time": "2023-07-21T16:20:12.798Z"
   },
   {
    "duration": 34,
    "start_time": "2023-07-21T16:20:13.309Z"
   },
   {
    "duration": 11,
    "start_time": "2023-07-21T16:20:13.686Z"
   },
   {
    "duration": 5,
    "start_time": "2023-07-21T16:20:14.204Z"
   },
   {
    "duration": 12,
    "start_time": "2023-07-21T16:20:14.722Z"
   },
   {
    "duration": 20,
    "start_time": "2023-07-21T16:20:15.087Z"
   },
   {
    "duration": 28,
    "start_time": "2023-07-21T16:20:15.287Z"
   },
   {
    "duration": 5,
    "start_time": "2023-07-21T16:20:15.838Z"
   },
   {
    "duration": 11,
    "start_time": "2023-07-21T16:20:16.021Z"
   },
   {
    "duration": 8,
    "start_time": "2023-07-21T16:20:16.428Z"
   },
   {
    "duration": 4,
    "start_time": "2023-07-21T16:20:16.818Z"
   },
   {
    "duration": 15,
    "start_time": "2023-07-21T16:20:17.000Z"
   },
   {
    "duration": 31,
    "start_time": "2023-07-21T16:20:18.469Z"
   },
   {
    "duration": 31,
    "start_time": "2023-07-21T16:20:22.189Z"
   },
   {
    "duration": 542,
    "start_time": "2023-07-21T16:21:06.582Z"
   },
   {
    "duration": 35,
    "start_time": "2023-07-21T16:21:08.012Z"
   },
   {
    "duration": 29,
    "start_time": "2023-07-21T16:21:08.365Z"
   },
   {
    "duration": 16,
    "start_time": "2023-07-21T16:21:09.097Z"
   },
   {
    "duration": 53,
    "start_time": "2023-07-21T16:21:09.443Z"
   },
   {
    "duration": 4,
    "start_time": "2023-07-21T16:21:09.989Z"
   },
   {
    "duration": 11,
    "start_time": "2023-07-21T16:21:10.351Z"
   },
   {
    "duration": 6,
    "start_time": "2023-07-21T16:21:10.893Z"
   },
   {
    "duration": 7,
    "start_time": "2023-07-21T16:21:11.287Z"
   },
   {
    "duration": 6,
    "start_time": "2023-07-21T16:21:11.651Z"
   },
   {
    "duration": 35,
    "start_time": "2023-07-21T16:21:12.216Z"
   },
   {
    "duration": 14,
    "start_time": "2023-07-21T16:21:12.587Z"
   },
   {
    "duration": 8,
    "start_time": "2023-07-21T16:21:13.182Z"
   },
   {
    "duration": 22,
    "start_time": "2023-07-21T16:21:13.762Z"
   },
   {
    "duration": 25,
    "start_time": "2023-07-21T16:21:14.129Z"
   },
   {
    "duration": 19,
    "start_time": "2023-07-21T16:21:14.330Z"
   },
   {
    "duration": 5,
    "start_time": "2023-07-21T16:21:14.900Z"
   },
   {
    "duration": 16,
    "start_time": "2023-07-21T16:21:15.100Z"
   },
   {
    "duration": 7,
    "start_time": "2023-07-21T16:21:15.446Z"
   },
   {
    "duration": 4,
    "start_time": "2023-07-21T16:21:15.811Z"
   },
   {
    "duration": 12,
    "start_time": "2023-07-21T16:21:16.326Z"
   },
   {
    "duration": 26,
    "start_time": "2023-07-21T16:21:17.589Z"
   },
   {
    "duration": 35,
    "start_time": "2023-07-21T16:21:21.261Z"
   },
   {
    "duration": 35,
    "start_time": "2023-07-21T16:21:21.786Z"
   },
   {
    "duration": 13,
    "start_time": "2023-07-21T16:21:21.952Z"
   },
   {
    "duration": 21,
    "start_time": "2023-07-21T16:21:22.486Z"
   },
   {
    "duration": 24,
    "start_time": "2023-07-21T16:23:13.311Z"
   },
   {
    "duration": 30,
    "start_time": "2023-07-21T16:23:18.175Z"
   },
   {
    "duration": 32,
    "start_time": "2023-07-21T16:25:42.685Z"
   },
   {
    "duration": 31,
    "start_time": "2023-07-21T16:25:50.232Z"
   },
   {
    "duration": 23,
    "start_time": "2023-07-21T16:26:42.113Z"
   },
   {
    "duration": 14,
    "start_time": "2023-07-21T16:34:43.745Z"
   },
   {
    "duration": 84,
    "start_time": "2023-07-21T16:35:03.801Z"
   },
   {
    "duration": 1789,
    "start_time": "2023-07-21T16:36:21.497Z"
   },
   {
    "duration": 78,
    "start_time": "2023-07-21T16:36:31.232Z"
   },
   {
    "duration": 9,
    "start_time": "2023-07-21T16:37:31.720Z"
   },
   {
    "duration": 118,
    "start_time": "2023-07-21T16:45:37.882Z"
   },
   {
    "duration": 80,
    "start_time": "2023-07-21T16:49:19.456Z"
   },
   {
    "duration": 113,
    "start_time": "2023-07-21T16:50:00.141Z"
   },
   {
    "duration": 92,
    "start_time": "2023-07-21T16:50:36.128Z"
   },
   {
    "duration": 95,
    "start_time": "2023-07-21T16:50:42.816Z"
   },
   {
    "duration": 1950,
    "start_time": "2023-07-21T16:51:36.820Z"
   },
   {
    "duration": 80,
    "start_time": "2023-07-21T16:52:16.081Z"
   },
   {
    "duration": 98,
    "start_time": "2023-07-21T16:52:33.066Z"
   },
   {
    "duration": 2032,
    "start_time": "2023-07-21T16:52:40.355Z"
   },
   {
    "duration": 88,
    "start_time": "2023-07-21T16:53:00.627Z"
   },
   {
    "duration": 86,
    "start_time": "2023-07-21T16:54:10.205Z"
   },
   {
    "duration": 104,
    "start_time": "2023-07-21T16:54:21.330Z"
   },
   {
    "duration": 88,
    "start_time": "2023-07-21T16:54:29.406Z"
   },
   {
    "duration": 118,
    "start_time": "2023-07-21T16:55:27.948Z"
   },
   {
    "duration": 109,
    "start_time": "2023-07-21T16:55:31.884Z"
   },
   {
    "duration": 105,
    "start_time": "2023-07-21T16:57:55.945Z"
   },
   {
    "duration": 84,
    "start_time": "2023-07-21T16:59:10.773Z"
   },
   {
    "duration": 103,
    "start_time": "2023-07-21T17:04:07.615Z"
   },
   {
    "duration": 515,
    "start_time": "2023-07-21T17:22:17.589Z"
   },
   {
    "duration": 23,
    "start_time": "2023-07-21T17:22:18.319Z"
   },
   {
    "duration": 19,
    "start_time": "2023-07-21T17:22:18.903Z"
   },
   {
    "duration": 11,
    "start_time": "2023-07-21T17:22:19.594Z"
   },
   {
    "duration": 50,
    "start_time": "2023-07-21T17:22:19.932Z"
   },
   {
    "duration": 4,
    "start_time": "2023-07-21T17:22:20.435Z"
   },
   {
    "duration": 10,
    "start_time": "2023-07-21T17:22:20.785Z"
   },
   {
    "duration": 6,
    "start_time": "2023-07-21T17:22:21.313Z"
   },
   {
    "duration": 8,
    "start_time": "2023-07-21T17:22:21.719Z"
   },
   {
    "duration": 6,
    "start_time": "2023-07-21T17:22:22.241Z"
   },
   {
    "duration": 49,
    "start_time": "2023-07-21T17:22:23.065Z"
   },
   {
    "duration": 15,
    "start_time": "2023-07-21T17:22:23.460Z"
   },
   {
    "duration": 5,
    "start_time": "2023-07-21T17:22:24.288Z"
   },
   {
    "duration": 12,
    "start_time": "2023-07-21T17:22:24.809Z"
   },
   {
    "duration": 24,
    "start_time": "2023-07-21T17:22:25.164Z"
   },
   {
    "duration": 27,
    "start_time": "2023-07-21T17:22:25.353Z"
   },
   {
    "duration": 5,
    "start_time": "2023-07-21T17:22:25.979Z"
   },
   {
    "duration": 13,
    "start_time": "2023-07-21T17:22:26.159Z"
   },
   {
    "duration": 5,
    "start_time": "2023-07-21T17:22:26.520Z"
   },
   {
    "duration": 4,
    "start_time": "2023-07-21T17:22:26.844Z"
   },
   {
    "duration": 9,
    "start_time": "2023-07-21T17:22:27.024Z"
   },
   {
    "duration": 25,
    "start_time": "2023-07-21T17:22:27.580Z"
   },
   {
    "duration": 23,
    "start_time": "2023-07-21T17:22:28.084Z"
   },
   {
    "duration": 29,
    "start_time": "2023-07-21T17:22:28.582Z"
   },
   {
    "duration": 22,
    "start_time": "2023-07-21T17:22:28.760Z"
   },
   {
    "duration": 25,
    "start_time": "2023-07-21T17:22:29.285Z"
   },
   {
    "duration": 88,
    "start_time": "2023-07-21T17:22:30.261Z"
   },
   {
    "duration": 469,
    "start_time": "2023-07-22T11:19:19.122Z"
   },
   {
    "duration": 24,
    "start_time": "2023-07-22T11:19:19.597Z"
   },
   {
    "duration": 14,
    "start_time": "2023-07-22T11:19:19.623Z"
   },
   {
    "duration": 25,
    "start_time": "2023-07-22T11:19:19.638Z"
   },
   {
    "duration": 70,
    "start_time": "2023-07-22T11:19:19.666Z"
   },
   {
    "duration": 5,
    "start_time": "2023-07-22T11:19:19.738Z"
   },
   {
    "duration": 59,
    "start_time": "2023-07-22T11:19:19.745Z"
   },
   {
    "duration": 5,
    "start_time": "2023-07-22T11:19:19.806Z"
   },
   {
    "duration": 11,
    "start_time": "2023-07-22T11:19:19.813Z"
   },
   {
    "duration": 27,
    "start_time": "2023-07-22T11:19:19.827Z"
   },
   {
    "duration": 71,
    "start_time": "2023-07-22T11:19:19.856Z"
   },
   {
    "duration": 14,
    "start_time": "2023-07-22T11:19:19.929Z"
   },
   {
    "duration": 7,
    "start_time": "2023-07-22T11:19:19.945Z"
   },
   {
    "duration": 59,
    "start_time": "2023-07-22T11:19:19.956Z"
   },
   {
    "duration": 71,
    "start_time": "2023-07-22T11:19:20.017Z"
   },
   {
    "duration": 44,
    "start_time": "2023-07-22T11:19:20.100Z"
   },
   {
    "duration": 55,
    "start_time": "2023-07-22T11:19:20.147Z"
   },
   {
    "duration": 38,
    "start_time": "2023-07-22T11:19:20.204Z"
   },
   {
    "duration": 19,
    "start_time": "2023-07-22T11:19:20.244Z"
   },
   {
    "duration": 34,
    "start_time": "2023-07-22T11:19:20.266Z"
   },
   {
    "duration": 25,
    "start_time": "2023-07-22T11:19:20.302Z"
   },
   {
    "duration": 66,
    "start_time": "2023-07-22T11:19:20.329Z"
   },
   {
    "duration": 32,
    "start_time": "2023-07-22T11:19:20.398Z"
   },
   {
    "duration": 63,
    "start_time": "2023-07-22T11:19:20.431Z"
   },
   {
    "duration": 33,
    "start_time": "2023-07-22T11:19:20.498Z"
   },
   {
    "duration": 83,
    "start_time": "2023-07-22T11:19:20.534Z"
   },
   {
    "duration": 94,
    "start_time": "2023-07-22T11:19:20.619Z"
   },
   {
    "duration": 876,
    "start_time": "2023-07-23T05:57:03.513Z"
   },
   {
    "duration": 48,
    "start_time": "2023-07-23T05:57:05.249Z"
   },
   {
    "duration": 91,
    "start_time": "2023-07-23T05:57:46.078Z"
   },
   {
    "duration": 23,
    "start_time": "2023-07-23T05:57:47.273Z"
   },
   {
    "duration": 120,
    "start_time": "2023-07-23T06:34:32.818Z"
   },
   {
    "duration": 96,
    "start_time": "2023-07-23T06:37:41.385Z"
   },
   {
    "duration": 126,
    "start_time": "2023-07-23T06:39:01.341Z"
   },
   {
    "duration": 122,
    "start_time": "2023-07-23T06:39:20.581Z"
   },
   {
    "duration": 112,
    "start_time": "2023-07-23T06:39:25.419Z"
   },
   {
    "duration": 4,
    "start_time": "2023-07-23T06:39:42.501Z"
   },
   {
    "duration": 142,
    "start_time": "2023-07-23T08:51:15.000Z"
   },
   {
    "duration": 43,
    "start_time": "2023-07-23T08:53:10.107Z"
   },
   {
    "duration": 258,
    "start_time": "2023-07-23T08:54:17.415Z"
   },
   {
    "duration": 9,
    "start_time": "2023-07-23T08:55:05.290Z"
   },
   {
    "duration": 70,
    "start_time": "2023-07-23T08:55:20.768Z"
   },
   {
    "duration": 9,
    "start_time": "2023-07-23T08:55:22.215Z"
   },
   {
    "duration": 10,
    "start_time": "2023-07-23T08:55:22.909Z"
   },
   {
    "duration": 8,
    "start_time": "2023-07-23T08:55:23.099Z"
   },
   {
    "duration": 9,
    "start_time": "2023-07-23T08:55:23.783Z"
   },
   {
    "duration": 795,
    "start_time": "2023-07-23T08:55:24.747Z"
   },
   {
    "duration": 68,
    "start_time": "2023-07-23T08:55:44.899Z"
   },
   {
    "duration": 7,
    "start_time": "2023-07-23T08:55:45.245Z"
   },
   {
    "duration": 8,
    "start_time": "2023-07-23T08:55:45.592Z"
   },
   {
    "duration": 10,
    "start_time": "2023-07-23T08:55:46.305Z"
   },
   {
    "duration": 556,
    "start_time": "2023-07-23T08:56:28.471Z"
   },
   {
    "duration": 87,
    "start_time": "2023-07-23T08:57:44.461Z"
   },
   {
    "duration": 24,
    "start_time": "2023-07-23T08:57:49.729Z"
   },
   {
    "duration": 30,
    "start_time": "2023-07-23T08:57:54.854Z"
   },
   {
    "duration": 24,
    "start_time": "2023-07-23T08:57:58.848Z"
   },
   {
    "duration": 45,
    "start_time": "2023-07-23T08:58:02.667Z"
   },
   {
    "duration": 3,
    "start_time": "2023-07-23T08:58:04.410Z"
   },
   {
    "duration": 11,
    "start_time": "2023-07-23T08:58:04.792Z"
   },
   {
    "duration": 8,
    "start_time": "2023-07-23T08:58:05.372Z"
   },
   {
    "duration": 7,
    "start_time": "2023-07-23T08:58:05.733Z"
   },
   {
    "duration": 6,
    "start_time": "2023-07-23T08:58:06.097Z"
   },
   {
    "duration": 51,
    "start_time": "2023-07-23T08:58:06.643Z"
   },
   {
    "duration": 16,
    "start_time": "2023-07-23T08:58:07.008Z"
   },
   {
    "duration": 5,
    "start_time": "2023-07-23T08:58:07.523Z"
   },
   {
    "duration": 18,
    "start_time": "2023-07-23T08:58:08.066Z"
   },
   {
    "duration": 41,
    "start_time": "2023-07-23T08:58:08.418Z"
   },
   {
    "duration": 25,
    "start_time": "2023-07-23T08:58:08.600Z"
   },
   {
    "duration": 4,
    "start_time": "2023-07-23T08:58:09.140Z"
   },
   {
    "duration": 17,
    "start_time": "2023-07-23T08:58:09.322Z"
   },
   {
    "duration": 8,
    "start_time": "2023-07-23T08:58:09.697Z"
   },
   {
    "duration": 9,
    "start_time": "2023-07-23T08:58:10.070Z"
   },
   {
    "duration": 20,
    "start_time": "2023-07-23T08:58:10.255Z"
   },
   {
    "duration": 25,
    "start_time": "2023-07-23T08:58:11.169Z"
   },
   {
    "duration": 20,
    "start_time": "2023-07-23T08:58:55.283Z"
   },
   {
    "duration": 99,
    "start_time": "2023-07-23T09:11:32.368Z"
   },
   {
    "duration": 102,
    "start_time": "2023-07-23T09:14:26.183Z"
   },
   {
    "duration": 52,
    "start_time": "2023-07-23T09:15:19.386Z"
   },
   {
    "duration": 522,
    "start_time": "2023-07-23T09:15:47.191Z"
   },
   {
    "duration": 29,
    "start_time": "2023-07-23T09:15:48.797Z"
   },
   {
    "duration": 27,
    "start_time": "2023-07-23T09:15:49.148Z"
   },
   {
    "duration": 17,
    "start_time": "2023-07-23T09:15:49.782Z"
   },
   {
    "duration": 36,
    "start_time": "2023-07-23T09:15:50.119Z"
   },
   {
    "duration": 4,
    "start_time": "2023-07-23T09:15:50.601Z"
   },
   {
    "duration": 11,
    "start_time": "2023-07-23T09:15:50.971Z"
   },
   {
    "duration": 9,
    "start_time": "2023-07-23T09:15:51.465Z"
   },
   {
    "duration": 42,
    "start_time": "2023-07-23T09:15:51.783Z"
   },
   {
    "duration": 7,
    "start_time": "2023-07-23T09:15:52.120Z"
   },
   {
    "duration": 47,
    "start_time": "2023-07-23T09:15:52.661Z"
   },
   {
    "duration": 17,
    "start_time": "2023-07-23T09:15:52.980Z"
   },
   {
    "duration": 5,
    "start_time": "2023-07-23T09:15:53.500Z"
   },
   {
    "duration": 13,
    "start_time": "2023-07-23T09:15:54.012Z"
   },
   {
    "duration": 26,
    "start_time": "2023-07-23T09:15:54.377Z"
   },
   {
    "duration": 32,
    "start_time": "2023-07-23T09:15:54.556Z"
   },
   {
    "duration": 5,
    "start_time": "2023-07-23T09:15:55.080Z"
   },
   {
    "duration": 15,
    "start_time": "2023-07-23T09:15:55.257Z"
   },
   {
    "duration": 10,
    "start_time": "2023-07-23T09:15:55.588Z"
   },
   {
    "duration": 3,
    "start_time": "2023-07-23T09:15:55.943Z"
   },
   {
    "duration": 9,
    "start_time": "2023-07-23T09:15:56.120Z"
   },
   {
    "duration": 18,
    "start_time": "2023-07-23T09:15:57.204Z"
   },
   {
    "duration": 28,
    "start_time": "2023-07-23T09:16:01.069Z"
   },
   {
    "duration": 36,
    "start_time": "2023-07-23T09:16:54.972Z"
   },
   {
    "duration": 35,
    "start_time": "2023-07-23T09:17:10.167Z"
   },
   {
    "duration": 26,
    "start_time": "2023-07-23T09:17:15.938Z"
   },
   {
    "duration": 20,
    "start_time": "2023-07-23T09:18:40.158Z"
   },
   {
    "duration": 23,
    "start_time": "2023-07-23T09:19:06.508Z"
   },
   {
    "duration": 27,
    "start_time": "2023-07-23T09:19:20.012Z"
   },
   {
    "duration": 18,
    "start_time": "2023-07-23T09:19:25.132Z"
   },
   {
    "duration": 90,
    "start_time": "2023-07-23T09:19:57.230Z"
   },
   {
    "duration": 269,
    "start_time": "2023-07-23T10:21:12.198Z"
   },
   {
    "duration": 180,
    "start_time": "2023-07-23T10:23:03.928Z"
   },
   {
    "duration": 50,
    "start_time": "2023-07-23T10:24:19.943Z"
   },
   {
    "duration": 24,
    "start_time": "2023-07-23T10:24:49.616Z"
   },
   {
    "duration": 31,
    "start_time": "2023-07-23T11:10:49.926Z"
   },
   {
    "duration": 16,
    "start_time": "2023-07-23T11:10:51.504Z"
   },
   {
    "duration": 116,
    "start_time": "2023-07-23T11:13:28.497Z"
   },
   {
    "duration": 145,
    "start_time": "2023-07-23T13:17:05.939Z"
   },
   {
    "duration": 579,
    "start_time": "2023-07-23T13:23:41.478Z"
   },
   {
    "duration": 26,
    "start_time": "2023-07-23T13:23:42.603Z"
   },
   {
    "duration": 25,
    "start_time": "2023-07-23T13:23:43.850Z"
   },
   {
    "duration": 16,
    "start_time": "2023-07-23T13:23:46.449Z"
   },
   {
    "duration": 59,
    "start_time": "2023-07-23T13:23:47.548Z"
   },
   {
    "duration": 10,
    "start_time": "2023-07-23T13:23:49.079Z"
   },
   {
    "duration": 12,
    "start_time": "2023-07-23T13:23:50.049Z"
   },
   {
    "duration": 4,
    "start_time": "2023-07-23T13:23:51.517Z"
   },
   {
    "duration": 8,
    "start_time": "2023-07-23T13:23:52.502Z"
   },
   {
    "duration": 12,
    "start_time": "2023-07-23T13:23:53.476Z"
   },
   {
    "duration": 34,
    "start_time": "2023-07-23T13:23:55.115Z"
   },
   {
    "duration": 17,
    "start_time": "2023-07-23T13:23:56.101Z"
   },
   {
    "duration": 4,
    "start_time": "2023-07-23T13:23:57.501Z"
   },
   {
    "duration": 19,
    "start_time": "2023-07-23T13:23:58.882Z"
   },
   {
    "duration": 19,
    "start_time": "2023-07-23T13:23:59.822Z"
   },
   {
    "duration": 20,
    "start_time": "2023-07-23T13:24:00.307Z"
   },
   {
    "duration": 10,
    "start_time": "2023-07-23T13:24:01.786Z"
   },
   {
    "duration": 28,
    "start_time": "2023-07-23T13:24:02.272Z"
   },
   {
    "duration": 16,
    "start_time": "2023-07-23T13:24:03.178Z"
   },
   {
    "duration": 3,
    "start_time": "2023-07-23T13:24:04.108Z"
   },
   {
    "duration": 26,
    "start_time": "2023-07-23T13:24:04.543Z"
   },
   {
    "duration": 16,
    "start_time": "2023-07-23T13:24:07.404Z"
   },
   {
    "duration": 31,
    "start_time": "2023-07-23T13:24:11.396Z"
   },
   {
    "duration": 47,
    "start_time": "2023-07-23T13:24:13.641Z"
   },
   {
    "duration": 25,
    "start_time": "2023-07-23T13:24:16.843Z"
   },
   {
    "duration": 102,
    "start_time": "2023-07-23T13:24:19.148Z"
   },
   {
    "duration": 128,
    "start_time": "2023-07-23T13:26:47.199Z"
   },
   {
    "duration": 511,
    "start_time": "2023-07-23T13:27:52.742Z"
   },
   {
    "duration": 43,
    "start_time": "2023-07-23T13:27:53.264Z"
   },
   {
    "duration": 14,
    "start_time": "2023-07-23T13:27:53.603Z"
   },
   {
    "duration": 11,
    "start_time": "2023-07-23T13:27:54.399Z"
   },
   {
    "duration": 42,
    "start_time": "2023-07-23T13:27:54.783Z"
   },
   {
    "duration": 5,
    "start_time": "2023-07-23T13:27:55.370Z"
   },
   {
    "duration": 8,
    "start_time": "2023-07-23T13:27:55.724Z"
   },
   {
    "duration": 4,
    "start_time": "2023-07-23T13:28:02.711Z"
   },
   {
    "duration": 8,
    "start_time": "2023-07-23T13:28:03.138Z"
   },
   {
    "duration": 5,
    "start_time": "2023-07-23T13:28:03.523Z"
   },
   {
    "duration": 31,
    "start_time": "2023-07-23T13:28:04.114Z"
   },
   {
    "duration": 11,
    "start_time": "2023-07-23T13:28:04.500Z"
   },
   {
    "duration": 9,
    "start_time": "2023-07-23T13:28:05.078Z"
   },
   {
    "duration": 11,
    "start_time": "2023-07-23T13:28:05.616Z"
   },
   {
    "duration": 20,
    "start_time": "2023-07-23T13:28:06.002Z"
   },
   {
    "duration": 21,
    "start_time": "2023-07-23T13:28:06.202Z"
   },
   {
    "duration": 4,
    "start_time": "2023-07-23T13:28:06.745Z"
   },
   {
    "duration": 11,
    "start_time": "2023-07-23T13:28:06.938Z"
   },
   {
    "duration": 7,
    "start_time": "2023-07-23T13:28:07.312Z"
   },
   {
    "duration": 8,
    "start_time": "2023-07-23T13:28:07.681Z"
   },
   {
    "duration": 22,
    "start_time": "2023-07-23T13:28:07.852Z"
   },
   {
    "duration": 22,
    "start_time": "2023-07-23T13:28:08.986Z"
   },
   {
    "duration": 22,
    "start_time": "2023-07-23T13:28:10.300Z"
   },
   {
    "duration": 35,
    "start_time": "2023-07-23T13:28:11.245Z"
   },
   {
    "duration": 27,
    "start_time": "2023-07-23T13:28:12.543Z"
   },
   {
    "duration": 117,
    "start_time": "2023-07-23T13:28:13.488Z"
   },
   {
    "duration": 718,
    "start_time": "2023-07-24T06:28:48.155Z"
   },
   {
    "duration": 23,
    "start_time": "2023-07-24T06:28:48.875Z"
   },
   {
    "duration": 14,
    "start_time": "2023-07-24T06:28:48.900Z"
   },
   {
    "duration": 19,
    "start_time": "2023-07-24T06:28:48.916Z"
   },
   {
    "duration": 40,
    "start_time": "2023-07-24T06:28:48.937Z"
   },
   {
    "duration": 4,
    "start_time": "2023-07-24T06:28:48.981Z"
   },
   {
    "duration": 12,
    "start_time": "2023-07-24T06:28:48.986Z"
   },
   {
    "duration": 4,
    "start_time": "2023-07-24T06:28:49.000Z"
   },
   {
    "duration": 13,
    "start_time": "2023-07-24T06:28:49.005Z"
   },
   {
    "duration": 8,
    "start_time": "2023-07-24T06:28:49.020Z"
   },
   {
    "duration": 33,
    "start_time": "2023-07-24T06:28:49.052Z"
   },
   {
    "duration": 10,
    "start_time": "2023-07-24T06:28:49.086Z"
   },
   {
    "duration": 6,
    "start_time": "2023-07-24T06:28:49.097Z"
   },
   {
    "duration": 34,
    "start_time": "2023-07-24T06:28:49.104Z"
   },
   {
    "duration": 39,
    "start_time": "2023-07-24T06:28:49.141Z"
   },
   {
    "duration": 30,
    "start_time": "2023-07-24T06:28:49.182Z"
   },
   {
    "duration": 6,
    "start_time": "2023-07-24T06:28:49.214Z"
   },
   {
    "duration": 34,
    "start_time": "2023-07-24T06:28:49.222Z"
   },
   {
    "duration": 22,
    "start_time": "2023-07-24T06:28:49.259Z"
   },
   {
    "duration": 4,
    "start_time": "2023-07-24T06:28:49.284Z"
   },
   {
    "duration": 16,
    "start_time": "2023-07-24T06:28:49.290Z"
   },
   {
    "duration": 33,
    "start_time": "2023-07-24T06:28:49.308Z"
   },
   {
    "duration": 31,
    "start_time": "2023-07-24T06:28:49.343Z"
   },
   {
    "duration": 29,
    "start_time": "2023-07-24T06:28:49.376Z"
   },
   {
    "duration": 18,
    "start_time": "2023-07-24T06:28:49.407Z"
   },
   {
    "duration": 84,
    "start_time": "2023-07-24T06:28:49.426Z"
   }
  ],
  "colab": {
   "provenance": []
  },
  "kernelspec": {
   "display_name": "Python 3 (ipykernel)",
   "language": "python",
   "name": "python3"
  },
  "language_info": {
   "codemirror_mode": {
    "name": "ipython",
    "version": 3
   },
   "file_extension": ".py",
   "mimetype": "text/x-python",
   "name": "python",
   "nbconvert_exporter": "python",
   "pygments_lexer": "ipython3",
   "version": "3.9.5"
  },
  "toc": {
   "base_numbering": 1,
   "nav_menu": {},
   "number_sections": true,
   "sideBar": true,
   "skip_h1_title": true,
   "title_cell": "Содержание",
   "title_sidebar": "Contents",
   "toc_cell": true,
   "toc_position": {},
   "toc_section_display": true,
   "toc_window_display": true
  }
 },
 "nbformat": 4,
 "nbformat_minor": 5
}
