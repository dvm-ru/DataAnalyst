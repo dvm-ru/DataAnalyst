{
 "cells": [
  {
   "cell_type": "markdown",
   "metadata": {
    "deletable": false,
    "editable": false,
    "id": "VUC88oWjTJw2"
   },
   "source": [
    "Сравнение Москвы и Петербурга окружено мифами. Например:\n",
    " * Москва — мегаполис, подчинённый жёсткому ритму рабочей недели;\n",
    " * Петербург — культурная столица, со своими вкусами.\n",
    "\n",
    "На данных Яндекс Музыки вы сравните поведение пользователей двух столиц.\n",
    "\n",
    "**Цель исследования** — проверьте три гипотезы:\n",
    "1. Активность пользователей зависит от дня недели. Причём в Москве и Петербурге это проявляется по-разному.\n",
    "2. В понедельник утром в Москве преобладают одни жанры, а в Петербурге — другие. Так же и вечером пятницы преобладают разные жанры — в зависимости от города.\n",
    "3. Москва и Петербург предпочитают разные жанры музыки. В Москве чаще слушают поп-музыку, в Петербурге — русский рэп.\n",
    "\n",
    "**Ход исследования**\n",
    "\n",
    "Данные о поведении пользователей вы получите из файла `yandex_music_project.csv`. О качестве данных ничего не известно. Поэтому перед проверкой гипотез понадобится обзор данных.\n",
    "\n",
    "Вы проверите данные на ошибки и оцените их влияние на исследование. Затем, на этапе предобработки вы поищете возможность исправить самые критичные ошибки данных.\n",
    "\n",
    "Таким образом, исследование пройдёт в три этапа:\n",
    " 1. Обзор данных.\n",
    " 2. Предобработка данных.\n",
    " 3. Проверка гипотез.\n",
    "\n"
   ]
  },
  {
   "cell_type": "markdown",
   "metadata": {
    "deletable": false,
    "editable": false,
    "id": "Ml1hmfXC_Zcs"
   },
   "source": [
    "## Обзор данных\n",
    "\n",
    "Составьте первое представление о данных Яндекс Музыки.\n",
    "\n",
    "\n"
   ]
  },
  {
   "cell_type": "markdown",
   "metadata": {
    "deletable": false,
    "editable": false,
    "id": "57eAOGIz_Zcs",
    "tags": [
     "start_task"
    ]
   },
   "source": [
    "**Задание 1**\n",
    "\n",
    "Основной инструмент аналитика — `pandas`. Импортируйте эту библиотеку."
   ]
  },
  {
   "cell_type": "markdown",
   "metadata": {
    "deletable": false,
    "editable": false,
    "id": "E0vqbgi9ay0H"
   },
   "source": [
    "# Яндекс Музыка"
   ]
  },
  {
   "cell_type": "code",
   "execution_count": 1,
   "metadata": {
    "deletable": false,
    "id": "AXN7PHPN_Zcs"
   },
   "outputs": [],
   "source": [
    "import pandas as pd\n"
   ]
  },
  {
   "cell_type": "markdown",
   "metadata": {
    "deletable": false,
    "editable": false,
    "id": "SG23P8tt_Zcs",
    "tags": [
     "start_task"
    ]
   },
   "source": [
    "**Задание 2**\n",
    "\n",
    "Прочитайте файл `yandex_music_project.csv` из папки `/datasets` и сохраните его в переменной `df`:"
   ]
  },
  {
   "cell_type": "code",
   "execution_count": 2,
   "metadata": {
    "deletable": false,
    "id": "fFVu7vqh_Zct"
   },
   "outputs": [],
   "source": [
    "df = pd.read_csv('datasets/yandex_music_project.csv')"
   ]
  },
  {
   "cell_type": "markdown",
   "metadata": {
    "deletable": false,
    "editable": false,
    "id": "rDoOMd3uTqnZ",
    "tags": [
     "start_task"
    ]
   },
   "source": [
    "**Задание 3**\n",
    "\n",
    "\n",
    "Выведите на экран первые десять строк таблицы:"
   ]
  },
  {
   "cell_type": "code",
   "execution_count": 3,
   "metadata": {
    "deletable": false,
    "id": "oWTVX3gW_Zct"
   },
   "outputs": [
    {
     "data": {
      "text/html": [
       "<div>\n",
       "<style scoped>\n",
       "    .dataframe tbody tr th:only-of-type {\n",
       "        vertical-align: middle;\n",
       "    }\n",
       "\n",
       "    .dataframe tbody tr th {\n",
       "        vertical-align: top;\n",
       "    }\n",
       "\n",
       "    .dataframe thead th {\n",
       "        text-align: right;\n",
       "    }\n",
       "</style>\n",
       "<table border=\"1\" class=\"dataframe\">\n",
       "  <thead>\n",
       "    <tr style=\"text-align: right;\">\n",
       "      <th></th>\n",
       "      <th>user_id</th>\n",
       "      <th>total_play_seconds</th>\n",
       "      <th>artist</th>\n",
       "      <th>genre</th>\n",
       "      <th>track</th>\n",
       "      <th>city</th>\n",
       "      <th>time</th>\n",
       "      <th>day</th>\n",
       "    </tr>\n",
       "  </thead>\n",
       "  <tbody>\n",
       "    <tr>\n",
       "      <th>0</th>\n",
       "      <td>BF6EA5AF</td>\n",
       "      <td>92.85138808302445</td>\n",
       "      <td>Marina Rei</td>\n",
       "      <td>pop</td>\n",
       "      <td>Musica</td>\n",
       "      <td>Moscow</td>\n",
       "      <td>21:20:49</td>\n",
       "      <td>Monday</td>\n",
       "    </tr>\n",
       "    <tr>\n",
       "      <th>1</th>\n",
       "      <td>FB1E568E</td>\n",
       "      <td>282.981</td>\n",
       "      <td>Stive Morgan</td>\n",
       "      <td>ambient</td>\n",
       "      <td>Love Planet</td>\n",
       "      <td>Moscow</td>\n",
       "      <td>09:17:40</td>\n",
       "      <td>Friday</td>\n",
       "    </tr>\n",
       "    <tr>\n",
       "      <th>2</th>\n",
       "      <td>EF15C7BA</td>\n",
       "      <td>8.966000000000003</td>\n",
       "      <td>unknown</td>\n",
       "      <td>dance</td>\n",
       "      <td>Loving Every Minute</td>\n",
       "      <td>Saint-Petersburg</td>\n",
       "      <td>20:47:49</td>\n",
       "      <td>Monday</td>\n",
       "    </tr>\n",
       "    <tr>\n",
       "      <th>3</th>\n",
       "      <td>82F52E69</td>\n",
       "      <td>193.7763265306123</td>\n",
       "      <td>Rixton</td>\n",
       "      <td>pop</td>\n",
       "      <td>Me And My Broken Heart</td>\n",
       "      <td>Saint-Petersburg</td>\n",
       "      <td>13:09:41</td>\n",
       "      <td>Friday</td>\n",
       "    </tr>\n",
       "    <tr>\n",
       "      <th>4</th>\n",
       "      <td>4166D680</td>\n",
       "      <td>3.0069999999999997</td>\n",
       "      <td>Henry Hall &amp; His Gleneagles Hotel Band</td>\n",
       "      <td>jazz</td>\n",
       "      <td>Home</td>\n",
       "      <td>Saint-Petersburg</td>\n",
       "      <td>13:00:07</td>\n",
       "      <td>Wednesday</td>\n",
       "    </tr>\n",
       "    <tr>\n",
       "      <th>5</th>\n",
       "      <td>F4F5677</td>\n",
       "      <td>0.1</td>\n",
       "      <td>unknown</td>\n",
       "      <td>classicmetal</td>\n",
       "      <td>unknown</td>\n",
       "      <td>Saint-Petersburg</td>\n",
       "      <td>20:28:33</td>\n",
       "      <td>Monday</td>\n",
       "    </tr>\n",
       "    <tr>\n",
       "      <th>6</th>\n",
       "      <td>386FE1ED</td>\n",
       "      <td>211.88</td>\n",
       "      <td>unknown</td>\n",
       "      <td>electronic</td>\n",
       "      <td>Riviera</td>\n",
       "      <td>Saint-Petersburg</td>\n",
       "      <td>14:07:09</td>\n",
       "      <td>Wednesday</td>\n",
       "    </tr>\n",
       "    <tr>\n",
       "      <th>7</th>\n",
       "      <td>A5E0D927</td>\n",
       "      <td>3.161</td>\n",
       "      <td>Andrew Paul Woodworth</td>\n",
       "      <td>pop</td>\n",
       "      <td>The Name of This Next Song Is Called</td>\n",
       "      <td>Saint-Petersburg</td>\n",
       "      <td>08:34:34</td>\n",
       "      <td>Wednesday</td>\n",
       "    </tr>\n",
       "    <tr>\n",
       "      <th>8</th>\n",
       "      <td>4D8D4370</td>\n",
       "      <td>8.836</td>\n",
       "      <td>Pillar Point</td>\n",
       "      <td>indie</td>\n",
       "      <td>Dove</td>\n",
       "      <td>Moscow</td>\n",
       "      <td>14:07:09</td>\n",
       "      <td>Monday</td>\n",
       "    </tr>\n",
       "    <tr>\n",
       "      <th>9</th>\n",
       "      <td>E9E8A0CA</td>\n",
       "      <td>274.39</td>\n",
       "      <td>Pillar Point</td>\n",
       "      <td>indie</td>\n",
       "      <td>Dove</td>\n",
       "      <td>Saint-Petersburg</td>\n",
       "      <td>10:34:34</td>\n",
       "      <td>Monday</td>\n",
       "    </tr>\n",
       "  </tbody>\n",
       "</table>\n",
       "</div>"
      ],
      "text/plain": [
       "    user_id  total_play_seconds                                  artist   \n",
       "0  BF6EA5AF   92.85138808302445                              Marina Rei  \\\n",
       "1  FB1E568E             282.981                            Stive Morgan   \n",
       "2  EF15C7BA   8.966000000000003                                 unknown   \n",
       "3  82F52E69   193.7763265306123                                  Rixton   \n",
       "4  4166D680  3.0069999999999997  Henry Hall & His Gleneagles Hotel Band   \n",
       "5   F4F5677                 0.1                                 unknown   \n",
       "6  386FE1ED              211.88                                 unknown   \n",
       "7  A5E0D927               3.161                   Andrew Paul Woodworth   \n",
       "8  4D8D4370               8.836                            Pillar Point   \n",
       "9  E9E8A0CA              274.39                            Pillar Point   \n",
       "\n",
       "          genre                                 track              city   \n",
       "0           pop                                Musica            Moscow  \\\n",
       "1       ambient                           Love Planet            Moscow   \n",
       "2         dance                   Loving Every Minute  Saint-Petersburg   \n",
       "3           pop                Me And My Broken Heart  Saint-Petersburg   \n",
       "4          jazz                                  Home  Saint-Petersburg   \n",
       "5  classicmetal                               unknown  Saint-Petersburg   \n",
       "6    electronic                               Riviera  Saint-Petersburg   \n",
       "7           pop  The Name of This Next Song Is Called  Saint-Petersburg   \n",
       "8         indie                                  Dove            Moscow   \n",
       "9         indie                                  Dove  Saint-Petersburg   \n",
       "\n",
       "       time        day  \n",
       "0  21:20:49     Monday  \n",
       "1  09:17:40     Friday  \n",
       "2  20:47:49     Monday  \n",
       "3  13:09:41     Friday  \n",
       "4  13:00:07  Wednesday  \n",
       "5  20:28:33     Monday  \n",
       "6  14:07:09  Wednesday  \n",
       "7  08:34:34  Wednesday  \n",
       "8  14:07:09     Monday  \n",
       "9  10:34:34     Monday  "
      ]
     },
     "execution_count": 3,
     "metadata": {},
     "output_type": "execute_result"
    }
   ],
   "source": [
    "df.head(10)"
   ]
  },
  {
   "cell_type": "markdown",
   "metadata": {
    "deletable": false,
    "editable": false,
    "id": "EO73Kwic_Zct",
    "tags": [
     "start_task"
    ]
   },
   "source": [
    "**Задание 4**\n",
    "\n",
    "\n",
    "Одной командой получить общую информацию о таблице c помощью метода `info()`:"
   ]
  },
  {
   "cell_type": "code",
   "execution_count": 4,
   "metadata": {
    "deletable": false,
    "id": "DSf2kIb-_Zct"
   },
   "outputs": [
    {
     "name": "stdout",
     "output_type": "stream",
     "text": [
      "<class 'pandas.core.frame.DataFrame'>\n",
      "RangeIndex: 35 entries, 0 to 34\n",
      "Data columns (total 8 columns):\n",
      " #   Column              Non-Null Count  Dtype \n",
      "---  ------              --------------  ----- \n",
      " 0   user_id             35 non-null     object\n",
      " 1   total_play_seconds  35 non-null     object\n",
      " 2   artist              35 non-null     object\n",
      " 3   genre               35 non-null     object\n",
      " 4   track               35 non-null     object\n",
      " 5   city                35 non-null     object\n",
      " 6   time                35 non-null     object\n",
      " 7   day                 35 non-null     object\n",
      "dtypes: object(8)\n",
      "memory usage: 2.3+ KB\n"
     ]
    }
   ],
   "source": [
    "df.info()"
   ]
  },
  {
   "cell_type": "markdown",
   "metadata": {
    "deletable": false,
    "editable": false,
    "id": "TaQ2Iwbr_Zct"
   },
   "source": [
    "Итак, в таблице семь столбцов. Тип данных во всех столбцах — `object`.\n",
    "\n",
    "Согласно документации к данным:\n",
    "* `userID` — идентификатор пользователя;\n",
    "* `Track` — название трека;  \n",
    "* `artist` — имя исполнителя;\n",
    "* `genre` — название жанра;\n",
    "* `City` — город пользователя;\n",
    "* `time` — время начала прослушивания;\n",
    "* `Day` — день недели.\n",
    "\n",
    "Количество значений в столбцах различается. Значит, в данных есть пропущенные значения."
   ]
  },
  {
   "cell_type": "markdown",
   "metadata": {
    "deletable": false,
    "editable": false,
    "id": "4P0UCWzswgEm",
    "tags": [
     "start_task"
    ]
   },
   "source": [
    "**Задание 5**\n",
    "\n",
    "**Вопрос со свободной формой ответа**\n",
    "\n",
    "В названиях колонок видны три нарушения стиля:\n",
    "1. Строчные буквы сочетаются с прописными.\n",
    "2. Встречаются пробелы."
   ]
  },
  {
   "cell_type": "code",
   "execution_count": 5,
   "metadata": {
    "id": "c137-ZstwgEm"
   },
   "outputs": [],
   "source": [
    "# Напишите ваш ответ здесь комментарием. Не удаляйте символ #. Не меняйте тип этой ячейки на Markdown.\n",
    "# 3. Python — любит змеиный регистр.\n",
    "#    То есть, правильно вместо 'userID' писать так: 'user_id'"
   ]
  },
  {
   "cell_type": "markdown",
   "metadata": {
    "deletable": false,
    "editable": false,
    "id": "MCB6-dXG_Zct"
   },
   "source": [
    "**Выводы**\n",
    "\n",
    "В каждой строке таблицы — данные о прослушанном треке. Часть колонок описывает саму композицию: название, исполнителя и жанр. Остальные данные рассказывают о пользователе: из какого он города, когда он слушал музыку.\n",
    "\n",
    "Предварительно можно утверждать, что данных достаточно для проверки гипотез. Но встречаются пропуски в данных, а в названиях колонок — расхождения с хорошим стилем.\n",
    "\n",
    "Чтобы двигаться дальше, нужно устранить проблемы в данных."
   ]
  },
  {
   "cell_type": "markdown",
   "metadata": {
    "deletable": false,
    "editable": false,
    "id": "SjYF6Ub9_Zct"
   },
   "source": [
    "## Предобработка данных\n",
    "Исправьте стиль в заголовках столбцов, исключите пропуски. Затем проверьте данные на дубликаты."
   ]
  },
  {
   "cell_type": "markdown",
   "metadata": {
    "deletable": false,
    "editable": false,
    "id": "dIaKXr29_Zct",
    "tags": [
     "start_task"
    ]
   },
   "source": [
    "### Стиль заголовков\n",
    "\n",
    "**Задание 6**\n",
    "\n",
    "Выведите на экран названия столбцов:"
   ]
  },
  {
   "cell_type": "code",
   "execution_count": 6,
   "metadata": {
    "deletable": false,
    "id": "oKOTdF_Q_Zct"
   },
   "outputs": [
    {
     "data": {
      "text/plain": [
       "Index(['user_id', 'total_play_seconds', 'artist', 'genre', 'track', 'city',\n",
       "       'time', 'day'],\n",
       "      dtype='object')"
      ]
     },
     "execution_count": 6,
     "metadata": {},
     "output_type": "execute_result"
    }
   ],
   "source": [
    "df.columns"
   ]
  },
  {
   "cell_type": "markdown",
   "metadata": {
    "deletable": false,
    "editable": false,
    "id": "zj5534cv_Zct",
    "tags": [
     "start_task"
    ]
   },
   "source": [
    "**Задание 7**\n",
    "\n",
    "\n",
    "Приведите названия в соответствие с хорошим стилем:\n",
    "* несколько слов в названии запишите в «змеином_регистре»,\n",
    "* все символы сделайте строчными,\n",
    "* устраните пробелы.\n",
    "\n",
    "Для этого переименуйте колонки так:\n",
    "* `'  userID'` → `'user_id'`;\n",
    "* `'Track'` → `'track'`;\n",
    "* `'  City  '` → `'city'`;\n",
    "* `'Day'` → `'day'`."
   ]
  },
  {
   "cell_type": "code",
   "execution_count": 7,
   "metadata": {
    "deletable": false,
    "id": "ISlFqs5y_Zct"
   },
   "outputs": [],
   "source": [
    "df = df.rename(columns={'  userID': 'user_id',\n",
    "                        'Track': 'track',\n",
    "                        '  City  ': 'city',\n",
    "                        'Day': 'day',\n",
    "                       })"
   ]
  },
  {
   "cell_type": "markdown",
   "metadata": {
    "deletable": false,
    "editable": false,
    "id": "1dqbh00J_Zct",
    "tags": [
     "start_task"
    ]
   },
   "source": [
    "**Задание 8**\n",
    "\n",
    "\n",
    "Проверьте результат. Для этого ещё раз выведите на экран названия столбцов:"
   ]
  },
  {
   "cell_type": "code",
   "execution_count": 8,
   "metadata": {
    "deletable": false,
    "id": "d4NOAmTW_Zct"
   },
   "outputs": [
    {
     "data": {
      "text/plain": [
       "Index(['user_id', 'total_play_seconds', 'artist', 'genre', 'track', 'city',\n",
       "       'time', 'day'],\n",
       "      dtype='object')"
      ]
     },
     "execution_count": 8,
     "metadata": {},
     "output_type": "execute_result"
    }
   ],
   "source": [
    "df.columns"
   ]
  },
  {
   "cell_type": "markdown",
   "metadata": {
    "deletable": false,
    "editable": false,
    "id": "5ISfbcfY_Zct",
    "tags": [
     "start_task"
    ]
   },
   "source": [
    "### Пропуски значений\n",
    "\n",
    "**Задание 9**\n",
    "\n",
    "Сначала посчитайте, сколько в таблице пропущенных значений. Для этого достаточно двух методов `pandas`:"
   ]
  },
  {
   "cell_type": "code",
   "execution_count": 9,
   "metadata": {
    "deletable": false,
    "id": "RskX29qr_Zct"
   },
   "outputs": [
    {
     "data": {
      "text/plain": [
       "user_id               0\n",
       "total_play_seconds    0\n",
       "artist                0\n",
       "genre                 0\n",
       "track                 0\n",
       "city                  0\n",
       "time                  0\n",
       "day                   0\n",
       "dtype: int64"
      ]
     },
     "execution_count": 9,
     "metadata": {},
     "output_type": "execute_result"
    }
   ],
   "source": [
    "df.isna().sum()"
   ]
  },
  {
   "cell_type": "markdown",
   "metadata": {
    "deletable": false,
    "editable": false,
    "id": "qubhgnlO_Zct"
   },
   "source": [
    "Не все пропущенные значения влияют на исследование. Так, в `track` и `artist` пропуски не важны для вашей работы. Достаточно заменить их явными обозначениями.\n",
    "\n",
    "Но пропуски в `genre` могут помешать сравнить музыкальные вкусы в Москве и Санкт-Петербурге. На практике было бы правильно установить причину пропусков и восстановить данные. Такой возможности нет в учебном проекте. Поэтому придётся:\n",
    "* заполнить и эти пропуски явными обозначениями;\n",
    "* оценить, насколько они повредят расчётам."
   ]
  },
  {
   "cell_type": "markdown",
   "metadata": {
    "deletable": false,
    "editable": false,
    "id": "fSv2laPA_Zct",
    "tags": [
     "start_task"
    ]
   },
   "source": [
    "**Задание 10**\n",
    "\n",
    "Замените пропущенные значения в столбцах `track`, `artist` и `genre` на строку `'unknown'`. Для этого создайте список `columns_to_replace`, переберите его элементы циклом `for` и для каждого столбца выполните замену пропущенных значений:"
   ]
  },
  {
   "cell_type": "code",
   "execution_count": 10,
   "metadata": {
    "deletable": false,
    "id": "KplB5qWs_Zct"
   },
   "outputs": [],
   "source": [
    "# перебор названий столбцов в цикле и замена пропущенных значений на 'unknown'\n",
    "columns_to_replace = ['track', 'artist', 'genre']\n",
    "\n",
    "# заполните отсутствующие значения столбцов из списка columns_to_replace значением 'unknown' в цикле\n",
    "for col in columns_to_replace:\n",
    "    df[col] = df[col].fillna('unknown')"
   ]
  },
  {
   "cell_type": "markdown",
   "metadata": {
    "deletable": false,
    "editable": false,
    "id": "Ilsm-MZo_Zct",
    "tags": [
     "start_task"
    ]
   },
   "source": [
    "**Задание 11**\n",
    "\n",
    "Убедитесь, что в таблице не осталось пропусков. Для этого ещё раз посчитайте пропущенные значения."
   ]
  },
  {
   "cell_type": "code",
   "execution_count": 11,
   "metadata": {
    "deletable": false,
    "id": "Tq4nYRX4_Zct"
   },
   "outputs": [
    {
     "data": {
      "text/plain": [
       "user_id               0\n",
       "total_play_seconds    0\n",
       "artist                0\n",
       "genre                 0\n",
       "track                 0\n",
       "city                  0\n",
       "time                  0\n",
       "day                   0\n",
       "dtype: int64"
      ]
     },
     "execution_count": 11,
     "metadata": {},
     "output_type": "execute_result"
    }
   ],
   "source": [
    "df.isna().sum()"
   ]
  },
  {
   "cell_type": "markdown",
   "metadata": {
    "deletable": false,
    "editable": false,
    "id": "BWKRtBJ3_Zct",
    "tags": [
     "start_task"
    ]
   },
   "source": [
    "### Дубликаты\n",
    "\n",
    "**Задание 12**\n",
    "\n",
    "Посчитайте явные дубликаты в таблице одной командой:"
   ]
  },
  {
   "cell_type": "code",
   "execution_count": 12,
   "metadata": {
    "deletable": false,
    "id": "36eES_S0_Zct"
   },
   "outputs": [
    {
     "data": {
      "text/plain": [
       "0"
      ]
     },
     "execution_count": 12,
     "metadata": {},
     "output_type": "execute_result"
    }
   ],
   "source": [
    "df.duplicated().sum()"
   ]
  },
  {
   "cell_type": "markdown",
   "metadata": {
    "deletable": false,
    "editable": false,
    "id": "Ot25h6XR_Zct",
    "tags": [
     "start_task"
    ]
   },
   "source": [
    "**Задание 13**\n",
    "\n",
    "Вызовите специальный метод `pandas`, чтобы удалить явные дубликаты:"
   ]
  },
  {
   "cell_type": "code",
   "execution_count": 13,
   "metadata": {
    "deletable": false,
    "id": "exFHq6tt_Zct"
   },
   "outputs": [],
   "source": [
    "df = df.drop_duplicates()"
   ]
  },
  {
   "cell_type": "markdown",
   "metadata": {
    "deletable": false,
    "editable": false,
    "id": "Im2YwBEG_Zct",
    "tags": [
     "start_task"
    ]
   },
   "source": [
    "**Задание 14**\n",
    "\n",
    "Ещё раз посчитайте явные дубликаты в таблице — убедитесь, что полностью от них избавились:"
   ]
  },
  {
   "cell_type": "code",
   "execution_count": 14,
   "metadata": {
    "deletable": false,
    "id": "-8PuNWQ0_Zct"
   },
   "outputs": [
    {
     "data": {
      "text/plain": [
       "0"
      ]
     },
     "execution_count": 14,
     "metadata": {},
     "output_type": "execute_result"
    }
   ],
   "source": [
    "# проверка на отсутствие дубликатов\n",
    "df.duplicated().sum()"
   ]
  },
  {
   "cell_type": "markdown",
   "metadata": {
    "deletable": false,
    "editable": false,
    "id": "QlFBsxAr_Zct"
   },
   "source": [
    "Теперь избавьтесь от неявных дубликатов в колонке `genre`. Например, название одного и того же жанра может быть записано немного по-разному. Такие ошибки тоже повлияют на результат исследования."
   ]
  },
  {
   "cell_type": "markdown",
   "metadata": {
    "deletable": false,
    "editable": false,
    "id": "eSjWwsOh_Zct",
    "tags": [
     "start_task"
    ]
   },
   "source": [
    "**Задание 15**\n",
    "\n",
    "Выведите на экран список уникальных названий жанров, отсортированный в алфавитном порядке. Для этого:\n",
    "* извлеките нужный столбец датафрейма;\n",
    "* примените к нему метод сортировки;\n",
    "* для отсортированного столбца вызовите метод, который вернёт уникальные значения из столбца."
   ]
  },
  {
   "cell_type": "code",
   "execution_count": 15,
   "metadata": {
    "deletable": false,
    "id": "JIUcqzZN_Zct"
   },
   "outputs": [
    {
     "data": {
      "text/plain": [
       "array(['David Civera', 'alternative', 'ambient', 'classical',\n",
       "       'classicmetal', 'dance', 'electronic', 'extrememetal', 'hiphop',\n",
       "       'indie', 'instrumental', 'jazz', 'latin', 'new', 'pop', 'spoken'],\n",
       "      dtype=object)"
      ]
     },
     "execution_count": 15,
     "metadata": {},
     "output_type": "execute_result"
    }
   ],
   "source": [
    "# Просмотр уникальных названий жанров\n",
    "df_sort = df.sort_values(by='genre')\n",
    "df_sort['genre'].unique()"
   ]
  },
  {
   "cell_type": "markdown",
   "metadata": {
    "deletable": false,
    "editable": false,
    "id": "qej-Qmuo_Zct",
    "tags": [
     "start_task"
    ]
   },
   "source": [
    "**Задание 16**\n",
    "\n",
    "Просмотрите список и найдите неявные дубликаты названия `hiphop`. Это могут быть названия с ошибками или альтернативные названия того же жанра.\n",
    "\n",
    "Вы увидите следующие неявные дубликаты:\n",
    "* *hip*,\n",
    "* *hop*,\n",
    "* *hip-hop*.\n",
    "\n",
    "Чтобы очистить от них таблицу используйте метод `replace()` с двумя аргументами: списком строк-дубликатов (включающий *hip*, *hop* и *hip-hop*) и строкой с правильным значением. Вам нужно исправить колонку `genre` в таблице `df`: заменить каждое значение из списка дубликатов на верное. Вместо `hip`, `hop` и `hip-hop` в таблице должно быть значение `hiphop`:"
   ]
  },
  {
   "cell_type": "code",
   "execution_count": 16,
   "metadata": {
    "deletable": false,
    "id": "ErNDkmns_Zct"
   },
   "outputs": [
    {
     "data": {
      "text/html": [
       "<div>\n",
       "<style scoped>\n",
       "    .dataframe tbody tr th:only-of-type {\n",
       "        vertical-align: middle;\n",
       "    }\n",
       "\n",
       "    .dataframe tbody tr th {\n",
       "        vertical-align: top;\n",
       "    }\n",
       "\n",
       "    .dataframe thead th {\n",
       "        text-align: right;\n",
       "    }\n",
       "</style>\n",
       "<table border=\"1\" class=\"dataframe\">\n",
       "  <thead>\n",
       "    <tr style=\"text-align: right;\">\n",
       "      <th></th>\n",
       "      <th>user_id</th>\n",
       "      <th>total_play_seconds</th>\n",
       "      <th>artist</th>\n",
       "      <th>genre</th>\n",
       "      <th>track</th>\n",
       "      <th>city</th>\n",
       "      <th>time</th>\n",
       "      <th>day</th>\n",
       "    </tr>\n",
       "  </thead>\n",
       "  <tbody>\n",
       "    <tr>\n",
       "      <th>0</th>\n",
       "      <td>BF6EA5AF</td>\n",
       "      <td>92.85138808302445</td>\n",
       "      <td>Marina Rei</td>\n",
       "      <td>pop</td>\n",
       "      <td>Musica</td>\n",
       "      <td>Moscow</td>\n",
       "      <td>21:20:49</td>\n",
       "      <td>Monday</td>\n",
       "    </tr>\n",
       "    <tr>\n",
       "      <th>1</th>\n",
       "      <td>FB1E568E</td>\n",
       "      <td>282.981</td>\n",
       "      <td>Stive Morgan</td>\n",
       "      <td>ambient</td>\n",
       "      <td>Love Planet</td>\n",
       "      <td>Moscow</td>\n",
       "      <td>09:17:40</td>\n",
       "      <td>Friday</td>\n",
       "    </tr>\n",
       "    <tr>\n",
       "      <th>2</th>\n",
       "      <td>EF15C7BA</td>\n",
       "      <td>8.966000000000003</td>\n",
       "      <td>unknown</td>\n",
       "      <td>dance</td>\n",
       "      <td>Loving Every Minute</td>\n",
       "      <td>Saint-Petersburg</td>\n",
       "      <td>20:47:49</td>\n",
       "      <td>Monday</td>\n",
       "    </tr>\n",
       "    <tr>\n",
       "      <th>3</th>\n",
       "      <td>82F52E69</td>\n",
       "      <td>193.7763265306123</td>\n",
       "      <td>Rixton</td>\n",
       "      <td>pop</td>\n",
       "      <td>Me And My Broken Heart</td>\n",
       "      <td>Saint-Petersburg</td>\n",
       "      <td>13:09:41</td>\n",
       "      <td>Friday</td>\n",
       "    </tr>\n",
       "    <tr>\n",
       "      <th>4</th>\n",
       "      <td>4166D680</td>\n",
       "      <td>3.0069999999999997</td>\n",
       "      <td>Henry Hall &amp; His Gleneagles Hotel Band</td>\n",
       "      <td>jazz</td>\n",
       "      <td>Home</td>\n",
       "      <td>Saint-Petersburg</td>\n",
       "      <td>13:00:07</td>\n",
       "      <td>Wednesday</td>\n",
       "    </tr>\n",
       "    <tr>\n",
       "      <th>5</th>\n",
       "      <td>F4F5677</td>\n",
       "      <td>0.1</td>\n",
       "      <td>unknown</td>\n",
       "      <td>classicmetal</td>\n",
       "      <td>unknown</td>\n",
       "      <td>Saint-Petersburg</td>\n",
       "      <td>20:28:33</td>\n",
       "      <td>Monday</td>\n",
       "    </tr>\n",
       "    <tr>\n",
       "      <th>6</th>\n",
       "      <td>386FE1ED</td>\n",
       "      <td>211.88</td>\n",
       "      <td>unknown</td>\n",
       "      <td>electronic</td>\n",
       "      <td>Riviera</td>\n",
       "      <td>Saint-Petersburg</td>\n",
       "      <td>14:07:09</td>\n",
       "      <td>Wednesday</td>\n",
       "    </tr>\n",
       "    <tr>\n",
       "      <th>7</th>\n",
       "      <td>A5E0D927</td>\n",
       "      <td>3.161</td>\n",
       "      <td>Andrew Paul Woodworth</td>\n",
       "      <td>pop</td>\n",
       "      <td>The Name of This Next Song Is Called</td>\n",
       "      <td>Saint-Petersburg</td>\n",
       "      <td>08:34:34</td>\n",
       "      <td>Wednesday</td>\n",
       "    </tr>\n",
       "    <tr>\n",
       "      <th>8</th>\n",
       "      <td>4D8D4370</td>\n",
       "      <td>8.836</td>\n",
       "      <td>Pillar Point</td>\n",
       "      <td>indie</td>\n",
       "      <td>Dove</td>\n",
       "      <td>Moscow</td>\n",
       "      <td>14:07:09</td>\n",
       "      <td>Monday</td>\n",
       "    </tr>\n",
       "    <tr>\n",
       "      <th>9</th>\n",
       "      <td>E9E8A0CA</td>\n",
       "      <td>274.39</td>\n",
       "      <td>Pillar Point</td>\n",
       "      <td>indie</td>\n",
       "      <td>Dove</td>\n",
       "      <td>Saint-Petersburg</td>\n",
       "      <td>10:34:34</td>\n",
       "      <td>Monday</td>\n",
       "    </tr>\n",
       "    <tr>\n",
       "      <th>10</th>\n",
       "      <td>CADC0B1A</td>\n",
       "      <td>274.39</td>\n",
       "      <td>Rixton</td>\n",
       "      <td>David Civera</td>\n",
       "      <td>Morning Dew</td>\n",
       "      <td>Saint-Petersburg</td>\n",
       "      <td>13:00:07</td>\n",
       "      <td>Friday</td>\n",
       "    </tr>\n",
       "    <tr>\n",
       "      <th>11</th>\n",
       "      <td>D3DD8D00</td>\n",
       "      <td>8.836</td>\n",
       "      <td>Steve Campbell</td>\n",
       "      <td>jazz</td>\n",
       "      <td>Morning Dew</td>\n",
       "      <td>Saint-Petersburg</td>\n",
       "      <td>08:34:34</td>\n",
       "      <td>Wednesday</td>\n",
       "    </tr>\n",
       "    <tr>\n",
       "      <th>12</th>\n",
       "      <td>596A4517</td>\n",
       "      <td>0.0</td>\n",
       "      <td>David Civera</td>\n",
       "      <td>pop</td>\n",
       "      <td>Bye Bye</td>\n",
       "      <td>Saint-Petersburg</td>\n",
       "      <td>08:34:34</td>\n",
       "      <td>Monday</td>\n",
       "    </tr>\n",
       "    <tr>\n",
       "      <th>13</th>\n",
       "      <td>2E50EDF9</td>\n",
       "      <td>245.04</td>\n",
       "      <td>Lumipa Beats</td>\n",
       "      <td>hiphop</td>\n",
       "      <td>Cludo</td>\n",
       "      <td>Saint-Petersburg</td>\n",
       "      <td>13:00:07</td>\n",
       "      <td>Friday</td>\n",
       "    </tr>\n",
       "    <tr>\n",
       "      <th>14</th>\n",
       "      <td>1D1186AA</td>\n",
       "      <td>Friday</td>\n",
       "      <td>Lumipa Beats</td>\n",
       "      <td>hiphop</td>\n",
       "      <td>Cludo</td>\n",
       "      <td>Moscow</td>\n",
       "      <td>13:00:07</td>\n",
       "      <td>Monday</td>\n",
       "    </tr>\n",
       "    <tr>\n",
       "      <th>15</th>\n",
       "      <td>79D2876C</td>\n",
       "      <td>2.0</td>\n",
       "      <td>Henning Wehland</td>\n",
       "      <td>pop</td>\n",
       "      <td>Räuber und Gendarm</td>\n",
       "      <td>Saint-Petersburg</td>\n",
       "      <td>08:00:34</td>\n",
       "      <td>Friday</td>\n",
       "    </tr>\n",
       "    <tr>\n",
       "      <th>16</th>\n",
       "      <td>96DA13A1</td>\n",
       "      <td>0.0</td>\n",
       "      <td>Пётр Каледин</td>\n",
       "      <td>spoken</td>\n",
       "      <td>Пойти и не вернуться. Глава 1</td>\n",
       "      <td>Saint-Petersburg</td>\n",
       "      <td>08:34:00</td>\n",
       "      <td>Monday</td>\n",
       "    </tr>\n",
       "    <tr>\n",
       "      <th>17</th>\n",
       "      <td>4023830D</td>\n",
       "      <td>46.885</td>\n",
       "      <td>ChinKong</td>\n",
       "      <td>dance</td>\n",
       "      <td>Live Life</td>\n",
       "      <td>Saint-Petersburg</td>\n",
       "      <td>15:00:07</td>\n",
       "      <td>Friday</td>\n",
       "    </tr>\n",
       "    <tr>\n",
       "      <th>18</th>\n",
       "      <td>AEAEF451</td>\n",
       "      <td>15.0</td>\n",
       "      <td>Albatraoz</td>\n",
       "      <td>pop</td>\n",
       "      <td>General Zod</td>\n",
       "      <td>Saint-Petersburg</td>\n",
       "      <td>11:40:34</td>\n",
       "      <td>Monday</td>\n",
       "    </tr>\n",
       "    <tr>\n",
       "      <th>19</th>\n",
       "      <td>285648EF</td>\n",
       "      <td>0.1</td>\n",
       "      <td>Pugs Atomz</td>\n",
       "      <td>dance</td>\n",
       "      <td>No Love</td>\n",
       "      <td>Saint-Petersburg</td>\n",
       "      <td>14:07:15</td>\n",
       "      <td>Friday</td>\n",
       "    </tr>\n",
       "    <tr>\n",
       "      <th>20</th>\n",
       "      <td>34811AC9</td>\n",
       "      <td>7.0</td>\n",
       "      <td>Zak Moore</td>\n",
       "      <td>dance</td>\n",
       "      <td>Feel Good</td>\n",
       "      <td>Moscow</td>\n",
       "      <td>06:34:34</td>\n",
       "      <td>Friday</td>\n",
       "    </tr>\n",
       "    <tr>\n",
       "      <th>21</th>\n",
       "      <td>892E9835</td>\n",
       "      <td>219.19086299999998</td>\n",
       "      <td>Kendra Springer</td>\n",
       "      <td>new</td>\n",
       "      <td>Sonora</td>\n",
       "      <td>Moscow</td>\n",
       "      <td>21:21:21</td>\n",
       "      <td>Monday</td>\n",
       "    </tr>\n",
       "    <tr>\n",
       "      <th>22</th>\n",
       "      <td>46EB28CD</td>\n",
       "      <td>254.862</td>\n",
       "      <td>Nathalie Cardone</td>\n",
       "      <td>latin</td>\n",
       "      <td>Hasta Siempre</td>\n",
       "      <td>Moscow</td>\n",
       "      <td>12:34:34</td>\n",
       "      <td>Wednesday</td>\n",
       "    </tr>\n",
       "    <tr>\n",
       "      <th>23</th>\n",
       "      <td>919EFA26</td>\n",
       "      <td>272.039167</td>\n",
       "      <td>Snowday</td>\n",
       "      <td>dance</td>\n",
       "      <td>Patterns</td>\n",
       "      <td>Moscow</td>\n",
       "      <td>17:34:34</td>\n",
       "      <td>Monday</td>\n",
       "    </tr>\n",
       "    <tr>\n",
       "      <th>24</th>\n",
       "      <td>A76F54E1</td>\n",
       "      <td>72.38968</td>\n",
       "      <td>Swords</td>\n",
       "      <td>indie</td>\n",
       "      <td>I Didn't Understand</td>\n",
       "      <td>Moscow</td>\n",
       "      <td>06:34:34</td>\n",
       "      <td>Wednesday</td>\n",
       "    </tr>\n",
       "    <tr>\n",
       "      <th>25</th>\n",
       "      <td>94E73621</td>\n",
       "      <td>8.109446121281469</td>\n",
       "      <td>Montezuma's Revenge</td>\n",
       "      <td>extrememetal</td>\n",
       "      <td>My God Is a Bad Cop</td>\n",
       "      <td>Moscow</td>\n",
       "      <td>15:00:07</td>\n",
       "      <td>Friday</td>\n",
       "    </tr>\n",
       "    <tr>\n",
       "      <th>26</th>\n",
       "      <td>13C442BF</td>\n",
       "      <td>217.0</td>\n",
       "      <td>unknown</td>\n",
       "      <td>dance</td>\n",
       "      <td>Lightspeed</td>\n",
       "      <td>Moscow</td>\n",
       "      <td>14:07:15</td>\n",
       "      <td>Monday</td>\n",
       "    </tr>\n",
       "    <tr>\n",
       "      <th>27</th>\n",
       "      <td>A6D6DBE7</td>\n",
       "      <td>208.822833</td>\n",
       "      <td>Музыка для изучения</td>\n",
       "      <td>instrumental</td>\n",
       "      <td>Инструментальная музыка</td>\n",
       "      <td>Moscow</td>\n",
       "      <td>20:58:07</td>\n",
       "      <td>Friday</td>\n",
       "    </tr>\n",
       "    <tr>\n",
       "      <th>28</th>\n",
       "      <td>9C97ECE2</td>\n",
       "      <td>214.256327</td>\n",
       "      <td>A-Life</td>\n",
       "      <td>dance</td>\n",
       "      <td>Don't Hurt Me</td>\n",
       "      <td>Moscow</td>\n",
       "      <td>14:07:09</td>\n",
       "      <td>Wednesday</td>\n",
       "    </tr>\n",
       "    <tr>\n",
       "      <th>29</th>\n",
       "      <td>DD08E7D1</td>\n",
       "      <td>27.164889000000002</td>\n",
       "      <td>Peter Holzmann</td>\n",
       "      <td>classical</td>\n",
       "      <td>The Seasons Op. 37A  (August  The Harvest): VI...</td>\n",
       "      <td>Moscow</td>\n",
       "      <td>20:58:07</td>\n",
       "      <td>Wednesday</td>\n",
       "    </tr>\n",
       "    <tr>\n",
       "      <th>30</th>\n",
       "      <td>22642B7C</td>\n",
       "      <td>28.873</td>\n",
       "      <td>Heathers</td>\n",
       "      <td>alternative</td>\n",
       "      <td>Forget Me Knots</td>\n",
       "      <td>Moscow</td>\n",
       "      <td>20:47:49</td>\n",
       "      <td>Friday</td>\n",
       "    </tr>\n",
       "    <tr>\n",
       "      <th>31</th>\n",
       "      <td>90004D45</td>\n",
       "      <td>3.253</td>\n",
       "      <td>IRISHA</td>\n",
       "      <td>dance</td>\n",
       "      <td>You Lose</td>\n",
       "      <td>Moscow</td>\n",
       "      <td>13:00:07</td>\n",
       "      <td>Monday</td>\n",
       "    </tr>\n",
       "    <tr>\n",
       "      <th>32</th>\n",
       "      <td>8808CC9B</td>\n",
       "      <td>3.253</td>\n",
       "      <td>IRISHA</td>\n",
       "      <td>dance</td>\n",
       "      <td>You Lose</td>\n",
       "      <td>Saint-Petersburg</td>\n",
       "      <td>20:58:07</td>\n",
       "      <td>Monday</td>\n",
       "    </tr>\n",
       "    <tr>\n",
       "      <th>33</th>\n",
       "      <td>8DA2ADAC</td>\n",
       "      <td>161.0</td>\n",
       "      <td>Tigerlily</td>\n",
       "      <td>dance</td>\n",
       "      <td>KICK BOOM</td>\n",
       "      <td>Moscow</td>\n",
       "      <td>20:58:07</td>\n",
       "      <td>Friday</td>\n",
       "    </tr>\n",
       "    <tr>\n",
       "      <th>34</th>\n",
       "      <td>65608E7C</td>\n",
       "      <td>0.1</td>\n",
       "      <td>Orinoco Haven</td>\n",
       "      <td>pop</td>\n",
       "      <td>Don't Dream It's Over</td>\n",
       "      <td>Moscow</td>\n",
       "      <td>08:34:34</td>\n",
       "      <td>Monday</td>\n",
       "    </tr>\n",
       "  </tbody>\n",
       "</table>\n",
       "</div>"
      ],
      "text/plain": [
       "     user_id  total_play_seconds                                  artist   \n",
       "0   BF6EA5AF   92.85138808302445                              Marina Rei  \\\n",
       "1   FB1E568E             282.981                            Stive Morgan   \n",
       "2   EF15C7BA   8.966000000000003                                 unknown   \n",
       "3   82F52E69   193.7763265306123                                  Rixton   \n",
       "4   4166D680  3.0069999999999997  Henry Hall & His Gleneagles Hotel Band   \n",
       "5    F4F5677                 0.1                                 unknown   \n",
       "6   386FE1ED              211.88                                 unknown   \n",
       "7   A5E0D927               3.161                   Andrew Paul Woodworth   \n",
       "8   4D8D4370               8.836                            Pillar Point   \n",
       "9   E9E8A0CA              274.39                            Pillar Point   \n",
       "10  CADC0B1A              274.39                                  Rixton   \n",
       "11  D3DD8D00               8.836                          Steve Campbell   \n",
       "12  596A4517                 0.0                            David Civera   \n",
       "13  2E50EDF9              245.04                            Lumipa Beats   \n",
       "14  1D1186AA              Friday                            Lumipa Beats   \n",
       "15  79D2876C                 2.0                         Henning Wehland   \n",
       "16  96DA13A1                 0.0                            Пётр Каледин   \n",
       "17  4023830D              46.885                                ChinKong   \n",
       "18  AEAEF451                15.0                               Albatraoz   \n",
       "19  285648EF                 0.1                              Pugs Atomz   \n",
       "20  34811AC9                 7.0                               Zak Moore   \n",
       "21  892E9835  219.19086299999998                         Kendra Springer   \n",
       "22  46EB28CD             254.862                        Nathalie Cardone   \n",
       "23  919EFA26          272.039167                                 Snowday   \n",
       "24  A76F54E1            72.38968                                  Swords   \n",
       "25  94E73621   8.109446121281469                     Montezuma's Revenge   \n",
       "26  13C442BF               217.0                                 unknown   \n",
       "27  A6D6DBE7          208.822833                     Музыка для изучения   \n",
       "28  9C97ECE2          214.256327                                  A-Life   \n",
       "29  DD08E7D1  27.164889000000002                          Peter Holzmann   \n",
       "30  22642B7C              28.873                                Heathers   \n",
       "31  90004D45               3.253                                  IRISHA   \n",
       "32  8808CC9B               3.253                                  IRISHA   \n",
       "33  8DA2ADAC               161.0                               Tigerlily   \n",
       "34  65608E7C                 0.1                           Orinoco Haven   \n",
       "\n",
       "           genre                                              track   \n",
       "0            pop                                             Musica  \\\n",
       "1        ambient                                        Love Planet   \n",
       "2          dance                                Loving Every Minute   \n",
       "3            pop                             Me And My Broken Heart   \n",
       "4           jazz                                               Home   \n",
       "5   classicmetal                                            unknown   \n",
       "6     electronic                                            Riviera   \n",
       "7            pop               The Name of This Next Song Is Called   \n",
       "8          indie                                               Dove   \n",
       "9          indie                                               Dove   \n",
       "10  David Civera                                        Morning Dew   \n",
       "11          jazz                                        Morning Dew   \n",
       "12           pop                                            Bye Bye   \n",
       "13        hiphop                                              Cludo   \n",
       "14        hiphop                                              Cludo   \n",
       "15           pop                                 Räuber und Gendarm   \n",
       "16        spoken                      Пойти и не вернуться. Глава 1   \n",
       "17         dance                                          Live Life   \n",
       "18           pop                                        General Zod   \n",
       "19         dance                                            No Love   \n",
       "20         dance                                          Feel Good   \n",
       "21           new                                             Sonora   \n",
       "22         latin                                      Hasta Siempre   \n",
       "23         dance                                           Patterns   \n",
       "24         indie                                I Didn't Understand   \n",
       "25  extrememetal                                My God Is a Bad Cop   \n",
       "26         dance                                         Lightspeed   \n",
       "27  instrumental                            Инструментальная музыка   \n",
       "28         dance                                      Don't Hurt Me   \n",
       "29     classical  The Seasons Op. 37A  (August  The Harvest): VI...   \n",
       "30   alternative                                    Forget Me Knots   \n",
       "31         dance                                           You Lose   \n",
       "32         dance                                           You Lose   \n",
       "33         dance                                          KICK BOOM   \n",
       "34           pop                              Don't Dream It's Over   \n",
       "\n",
       "                city      time        day  \n",
       "0             Moscow  21:20:49     Monday  \n",
       "1             Moscow  09:17:40     Friday  \n",
       "2   Saint-Petersburg  20:47:49     Monday  \n",
       "3   Saint-Petersburg  13:09:41     Friday  \n",
       "4   Saint-Petersburg  13:00:07  Wednesday  \n",
       "5   Saint-Petersburg  20:28:33     Monday  \n",
       "6   Saint-Petersburg  14:07:09  Wednesday  \n",
       "7   Saint-Petersburg  08:34:34  Wednesday  \n",
       "8             Moscow  14:07:09     Monday  \n",
       "9   Saint-Petersburg  10:34:34     Monday  \n",
       "10  Saint-Petersburg  13:00:07     Friday  \n",
       "11  Saint-Petersburg  08:34:34  Wednesday  \n",
       "12  Saint-Petersburg  08:34:34     Monday  \n",
       "13  Saint-Petersburg  13:00:07     Friday  \n",
       "14            Moscow  13:00:07     Monday  \n",
       "15  Saint-Petersburg  08:00:34     Friday  \n",
       "16  Saint-Petersburg  08:34:00     Monday  \n",
       "17  Saint-Petersburg  15:00:07     Friday  \n",
       "18  Saint-Petersburg  11:40:34     Monday  \n",
       "19  Saint-Petersburg  14:07:15     Friday  \n",
       "20            Moscow  06:34:34     Friday  \n",
       "21            Moscow  21:21:21     Monday  \n",
       "22            Moscow  12:34:34  Wednesday  \n",
       "23            Moscow  17:34:34     Monday  \n",
       "24            Moscow  06:34:34  Wednesday  \n",
       "25            Moscow  15:00:07     Friday  \n",
       "26            Moscow  14:07:15     Monday  \n",
       "27            Moscow  20:58:07     Friday  \n",
       "28            Moscow  14:07:09  Wednesday  \n",
       "29            Moscow  20:58:07  Wednesday  \n",
       "30            Moscow  20:47:49     Friday  \n",
       "31            Moscow  13:00:07     Monday  \n",
       "32  Saint-Petersburg  20:58:07     Monday  \n",
       "33            Moscow  20:58:07     Friday  \n",
       "34            Moscow  08:34:34     Monday  "
      ]
     },
     "execution_count": 16,
     "metadata": {},
     "output_type": "execute_result"
    }
   ],
   "source": [
    "# Устранение неявных дубликатов\n",
    "duplicates = ['hip', 'hop', 'hip-hop'] # список неправильных имён\n",
    "name = 'hiphop' # правильное имя\n",
    "df['genre'] = df['genre'].replace(duplicates, name) # замена всех значений из duplicates на name\n",
    "df # датафрейм изменился, неявные дубликаты устранены "
   ]
  },
  {
   "cell_type": "markdown",
   "metadata": {
    "deletable": false,
    "editable": false,
    "id": "zQKF16_RG15m",
    "tags": [
     "start_task"
    ]
   },
   "source": [
    "**Задание 17**\n",
    "\n",
    "Проверьте, что заменили неправильные названия:\n",
    "\n",
    "*   *hip*,\n",
    "*   *hop*,\n",
    "*   *hip-hop*.\n",
    "\n",
    "Выведите отсортированный список уникальных значений столбца `genre`:"
   ]
  },
  {
   "cell_type": "code",
   "execution_count": 17,
   "metadata": {
    "deletable": false,
    "id": "wvixALnFG15m"
   },
   "outputs": [
    {
     "data": {
      "text/plain": [
       "array(['David Civera', 'alternative', 'ambient', 'classical',\n",
       "       'classicmetal', 'dance', 'electronic', 'extrememetal', 'hiphop',\n",
       "       'indie', 'instrumental', 'jazz', 'latin', 'new', 'pop', 'spoken'],\n",
       "      dtype=object)"
      ]
     },
     "execution_count": 17,
     "metadata": {},
     "output_type": "execute_result"
    }
   ],
   "source": [
    "# Проверка на неявные дубликаты\n",
    "df_sort = df.sort_values(by='genre')\n",
    "df_sort['genre'].unique()"
   ]
  },
  {
   "cell_type": "markdown",
   "metadata": {
    "deletable": false,
    "editable": false,
    "id": "jz6a9-7HQUDd"
   },
   "source": [
    "**Выводы**\n",
    "\n",
    "Предобработка обнаружила три проблемы в данных:\n",
    "\n",
    "- нарушения в стиле заголовков,\n",
    "- пропущенные значения,\n",
    "- дубликаты — явные и неявные.\n",
    "\n",
    "Вы исправили заголовки, чтобы упростить работу с таблицей. Без дубликатов исследование станет более точным.\n",
    "\n",
    "Пропущенные значения вы заменили на `'unknown'`. Ещё предстоит увидеть, не повредят ли исследованию пропуски в колонке `genre`.\n",
    "\n",
    "Теперь можно перейти к проверке гипотез."
   ]
  },
  {
   "cell_type": "markdown",
   "metadata": {
    "deletable": false,
    "editable": false,
    "id": "WttZHXH0SqKk"
   },
   "source": [
    "## Проверка гипотез"
   ]
  },
  {
   "cell_type": "markdown",
   "metadata": {
    "deletable": false,
    "editable": false,
    "id": "Im936VVi_Zcu"
   },
   "source": [
    "### Сравнение поведения пользователей двух столиц"
   ]
  },
  {
   "cell_type": "markdown",
   "metadata": {
    "deletable": false,
    "editable": false,
    "id": "nwt_MuaL_Zcu"
   },
   "source": [
    "Первая гипотеза утверждает, что пользователи по-разному слушают музыку в Москве и Санкт-Петербурге. Проверьте это предположение по данным о трёх днях недели — понедельнике, среде и пятнице. Для этого:\n",
    "\n",
    "* Разделите пользователей Москвы и Санкт-Петербурга.\n",
    "* Сравните, сколько треков послушала каждая группа пользователей в понедельник, среду и пятницу.\n"
   ]
  },
  {
   "cell_type": "markdown",
   "metadata": {
    "deletable": false,
    "editable": false,
    "id": "8Dw_YMmT_Zcu",
    "tags": [
     "start_task"
    ]
   },
   "source": [
    "**Задание 18**\n",
    "\n",
    "Для тренировки сначала выполните каждый из расчётов по отдельности.\n",
    "\n",
    "Оцените активность пользователей в каждом городе. Сгруппируйте данные по городу и посчитайте прослушивания в каждой группе.\n",
    "\n"
   ]
  },
  {
   "cell_type": "code",
   "execution_count": 18,
   "metadata": {
    "deletable": false,
    "id": "0_Qs96oh_Zcu"
   },
   "outputs": [
    {
     "data": {
      "text/plain": [
       "city\n",
       "Moscow              18\n",
       "Saint-Petersburg    17\n",
       "Name: user_id, dtype: int64"
      ]
     },
     "execution_count": 18,
     "metadata": {},
     "output_type": "execute_result"
    }
   ],
   "source": [
    "# Подсчёт прослушиваний в каждом городе\n",
    "df.groupby('city')['user_id'].count()"
   ]
  },
  {
   "cell_type": "markdown",
   "metadata": {
    "deletable": false,
    "editable": false,
    "id": "dzli3w8o_Zcu",
    "tags": [
     "start_task"
    ]
   },
   "source": [
    "В Москве прослушиваний больше, чем в Петербурге. Из этого не следует, что московские пользователи чаще слушают музыку. Просто самих пользователей в Москве больше.\n",
    "\n",
    "**Задание 19**\n",
    "\n",
    "Теперь сгруппируйте данные по дню недели и посчитайте прослушивания в понедельник, среду и пятницу. Учтите, что в данных есть информация о прослушиваниях только за эти дни.\n"
   ]
  },
  {
   "cell_type": "code",
   "execution_count": 19,
   "metadata": {
    "deletable": false,
    "id": "uZMKjiJz_Zcu"
   },
   "outputs": [
    {
     "data": {
      "text/plain": [
       "day\n",
       "Friday       12\n",
       "Monday       15\n",
       "Wednesday     8\n",
       "Name: user_id, dtype: int64"
      ]
     },
     "execution_count": 19,
     "metadata": {},
     "output_type": "execute_result"
    }
   ],
   "source": [
    "# Подсчёт прослушиваний в каждый из трёх дней\n",
    "df.groupby('day')['user_id'].count()"
   ]
  },
  {
   "cell_type": "markdown",
   "metadata": {
    "deletable": false,
    "editable": false,
    "id": "cC2tNrlL_Zcu"
   },
   "source": [
    "В среднем пользователи из двух городов менее активны по средам. Но картина может измениться, если рассмотреть каждый город в отдельности."
   ]
  },
  {
   "cell_type": "markdown",
   "metadata": {
    "deletable": false,
    "editable": false,
    "id": "POzs8bGa_Zcu",
    "tags": [
     "start_task"
    ]
   },
   "source": [
    "**Задание 20**\n",
    "\n",
    "\n",
    "Вы видели, как работает группировка по городу и по дням недели. Теперь напишите функцию, которая объединит два эти расчёта.\n",
    "\n",
    "Создайте функцию `number_tracks()`, которая посчитает прослушивания для заданного дня и города. Ей понадобятся два параметра:\n",
    "* день недели,\n",
    "* название города.\n",
    "\n",
    "В функции сохраните в переменную строки исходной таблицы, у которых значение:\n",
    "  * в колонке `day` равно параметру `day`,\n",
    "  * в колонке `city` равно параметру `city`.\n",
    "\n",
    "Для этого примените последовательную фильтрацию с логической индексацией (или сложные логические выражения в одну строку, если вы уже знакомы с ними).\n",
    "\n",
    "Затем посчитайте значения в столбце `user_id` получившейся таблицы. Результат сохраните в новую переменную. Верните эту переменную из функции."
   ]
  },
  {
   "cell_type": "code",
   "execution_count": 20,
   "metadata": {
    "deletable": false,
    "id": "Nz3GdQB1_Zcu"
   },
   "outputs": [
    {
     "data": {
      "text/plain": [
       "4"
      ]
     },
     "execution_count": 20,
     "metadata": {},
     "output_type": "execute_result"
    }
   ],
   "source": [
    "# <создание функции number_tracks()>\n",
    "# Объявляется функция с двумя параметрами: day, city.\n",
    "# В переменной track_list сохраняются те строки таблицы df, для которых\n",
    "# значение в столбце 'day' равно параметру day и одновременно значение\n",
    "# в столбце 'city' равно параметру city (используйте последовательную фильтрацию\n",
    "# с помощью логической индексации или сложные логические выражения в одну строку, если вы уже знакомы с ними).\n",
    "# В переменной track_list_count сохраняется число значений столбца 'user_id',\n",
    "# рассчитанное методом count() для таблицы track_list.\n",
    "# Функция возвращает число - значение track_list_count.\n",
    "def number_tracks(day, city):\n",
    "    filtered_df = df[df['city'] == city]\n",
    "    filtered_df = filtered_df[filtered_df['day'] == day]\n",
    "    track_list = filtered_df['user_id'].count()\n",
    "    return track_list\n",
    "    \n",
    "# Функция для подсчёта прослушиваний для конкретного города и дня.\n",
    "# С помощью последовательной фильтрации с логической индексацией она\n",
    "# сначала получит из исходной таблицы строки с нужным днём,\n",
    "# затем из результата отфильтрует строки с нужным городом,\n",
    "# методом count() посчитает количество значений в колонке user_id.\n",
    "# Это количество функция вернёт в качестве результата\n",
    "track_list_count = number_tracks('Wednesday', 'Moscow')\n",
    "track_list_count"
   ]
  },
  {
   "cell_type": "markdown",
   "metadata": {
    "deletable": false,
    "editable": false,
    "id": "ytf7xFrFJQ2r",
    "tags": [
     "start_task"
    ]
   },
   "source": [
    "**Задание 21**\n",
    "\n",
    "Вызовите `number_tracks()` шесть раз, меняя значение параметров — так, чтобы получить данные для каждого города в каждый из трёх дней."
   ]
  },
  {
   "cell_type": "code",
   "execution_count": 21,
   "metadata": {
    "deletable": false,
    "id": "rJcRATNQ_Zcu"
   },
   "outputs": [
    {
     "data": {
      "text/plain": [
       "8"
      ]
     },
     "execution_count": 21,
     "metadata": {},
     "output_type": "execute_result"
    }
   ],
   "source": [
    "# количество прослушиваний в Москве по понедельникам\n",
    "track_list_count = number_tracks('Monday', 'Moscow')\n",
    "track_list_count"
   ]
  },
  {
   "cell_type": "code",
   "execution_count": 22,
   "metadata": {
    "deletable": false,
    "id": "hq_ncZ5T_Zcu"
   },
   "outputs": [
    {
     "data": {
      "text/plain": [
       "7"
      ]
     },
     "execution_count": 22,
     "metadata": {},
     "output_type": "execute_result"
    }
   ],
   "source": [
    "# количество прослушиваний в Санкт-Петербурге по понедельникам\n",
    "track_list_count = number_tracks('Monday', 'Saint-Petersburg')\n",
    "track_list_count"
   ]
  },
  {
   "cell_type": "code",
   "execution_count": 23,
   "metadata": {
    "deletable": false,
    "id": "_NTy2VPU_Zcu"
   },
   "outputs": [
    {
     "data": {
      "text/plain": [
       "4"
      ]
     },
     "execution_count": 23,
     "metadata": {},
     "output_type": "execute_result"
    }
   ],
   "source": [
    "# количество прослушиваний в Москве по средам\n",
    "track_list_count = number_tracks('Wednesday', 'Moscow')\n",
    "track_list_count"
   ]
  },
  {
   "cell_type": "code",
   "execution_count": 24,
   "metadata": {
    "deletable": false,
    "id": "j2y3TAwo_Zcu"
   },
   "outputs": [
    {
     "data": {
      "text/plain": [
       "4"
      ]
     },
     "execution_count": 24,
     "metadata": {},
     "output_type": "execute_result"
    }
   ],
   "source": [
    "# количество прослушиваний в Санкт-Петербурге по средам\n",
    "track_list_count = number_tracks('Wednesday', 'Saint-Petersburg')\n",
    "track_list_count"
   ]
  },
  {
   "cell_type": "code",
   "execution_count": 25,
   "metadata": {
    "deletable": false,
    "id": "vYDw5u_K_Zcu"
   },
   "outputs": [
    {
     "data": {
      "text/plain": [
       "6"
      ]
     },
     "execution_count": 25,
     "metadata": {},
     "output_type": "execute_result"
    }
   ],
   "source": [
    "# количество прослушиваний в Москве по пятницам\n",
    "track_list_count = number_tracks('Friday', 'Moscow')\n",
    "track_list_count"
   ]
  },
  {
   "cell_type": "code",
   "execution_count": 26,
   "metadata": {
    "deletable": false,
    "id": "8_yzFtW3_Zcu"
   },
   "outputs": [
    {
     "data": {
      "text/plain": [
       "6"
      ]
     },
     "execution_count": 26,
     "metadata": {},
     "output_type": "execute_result"
    }
   ],
   "source": [
    "# количество прослушиваний в Санкт-Петербурге по пятницам\n",
    "track_list_count = number_tracks('Friday', 'Saint-Petersburg')\n",
    "track_list_count"
   ]
  },
  {
   "cell_type": "markdown",
   "metadata": {
    "deletable": false,
    "editable": false,
    "id": "7QXffbO-_Zcu",
    "tags": [
     "start_task"
    ]
   },
   "source": [
    "**Задание 22**\n",
    "\n",
    "С помощью конструктора `pd.DataFrame` создайте таблицу, где\n",
    "* названия колонок — `['city', 'monday', 'wednesday', 'friday']`;\n",
    "* данные — результаты, которые вы получили с помощью `number_tracks`."
   ]
  },
  {
   "cell_type": "code",
   "execution_count": 27,
   "metadata": {
    "deletable": false,
    "id": "APAcLpOr_Zcu"
   },
   "outputs": [
    {
     "data": {
      "text/html": [
       "<div>\n",
       "<style scoped>\n",
       "    .dataframe tbody tr th:only-of-type {\n",
       "        vertical-align: middle;\n",
       "    }\n",
       "\n",
       "    .dataframe tbody tr th {\n",
       "        vertical-align: top;\n",
       "    }\n",
       "\n",
       "    .dataframe thead th {\n",
       "        text-align: right;\n",
       "    }\n",
       "</style>\n",
       "<table border=\"1\" class=\"dataframe\">\n",
       "  <thead>\n",
       "    <tr style=\"text-align: right;\">\n",
       "      <th></th>\n",
       "      <th>city</th>\n",
       "      <th>monday</th>\n",
       "      <th>wednesday</th>\n",
       "      <th>friday</th>\n",
       "    </tr>\n",
       "  </thead>\n",
       "  <tbody>\n",
       "    <tr>\n",
       "      <th>0</th>\n",
       "      <td>Москва</td>\n",
       "      <td>8</td>\n",
       "      <td>4</td>\n",
       "      <td>6</td>\n",
       "    </tr>\n",
       "    <tr>\n",
       "      <th>1</th>\n",
       "      <td>Санкт-Петербург</td>\n",
       "      <td>7</td>\n",
       "      <td>4</td>\n",
       "      <td>6</td>\n",
       "    </tr>\n",
       "  </tbody>\n",
       "</table>\n",
       "</div>"
      ],
      "text/plain": [
       "              city  monday  wednesday  friday\n",
       "0           Москва       8          4       6\n",
       "1  Санкт-Петербург       7          4       6"
      ]
     },
     "execution_count": 27,
     "metadata": {},
     "output_type": "execute_result"
    }
   ],
   "source": [
    "# Таблица с результатами\n",
    "header = ['city', 'monday', 'wednesday', 'friday']\n",
    "numbers_track = [\n",
    "    ['Москва', number_tracks('Monday', 'Moscow'), number_tracks('Wednesday', 'Moscow'), number_tracks('Friday', 'Moscow')],\n",
    "    ['Санкт-Петербург', number_tracks('Monday', 'Saint-Petersburg'), number_tracks('Wednesday', 'Saint-Petersburg'), number_tracks('Friday', 'Saint-Petersburg')],\n",
    "]\n",
    "\n",
    "info = pd.DataFrame(data=numbers_track, columns=header)\n",
    "info "
   ]
  },
  {
   "cell_type": "markdown",
   "metadata": {
    "deletable": false,
    "editable": false,
    "id": "-EgPIHYu_Zcu"
   },
   "source": [
    "**Выводы**\n",
    "\n",
    "Данные показывают разницу поведения пользователей:\n",
    "\n",
    "- В Москве пик прослушиваний приходится на понедельник и пятницу, а в среду заметен спад.\n",
    "- В Петербурге, наоборот, больше слушают музыку по средам. Активность в понедельник и пятницу здесь почти в равной мере уступает среде.\n",
    "\n",
    "Значит, данные говорят в пользу первой гипотезы."
   ]
  },
  {
   "cell_type": "markdown",
   "metadata": {
    "deletable": false,
    "editable": false,
    "id": "atZAxtq4_Zcu"
   },
   "source": [
    "### Музыка в начале и в конце недели"
   ]
  },
  {
   "cell_type": "markdown",
   "metadata": {
    "deletable": false,
    "editable": false,
    "id": "eXrQqXFH_Zcu"
   },
   "source": [
    "Согласно второй гипотезе, утром в понедельник в Москве преобладают одни жанры, а в Петербурге — другие. Так же и вечером пятницы преобладают разные жанры — в зависимости от города."
   ]
  },
  {
   "cell_type": "markdown",
   "metadata": {
    "deletable": false,
    "editable": false,
    "id": "S8UcW6Hw_Zcu",
    "tags": [
     "start_task"
    ]
   },
   "source": [
    "**Задание 23**\n",
    "\n",
    "Сохраните таблицы с данными в две переменные:\n",
    "* по Москве — в `moscow_general`;\n",
    "* по Санкт-Петербургу — в `spb_general`."
   ]
  },
  {
   "cell_type": "code",
   "execution_count": 28,
   "metadata": {
    "deletable": false,
    "id": "qeaFfM_P_Zcu"
   },
   "outputs": [],
   "source": [
    "# получение таблицы moscow_general из тех строк таблицы df,\n",
    "# для которых значение в столбце 'city' равно 'Moscow'\n",
    "moscow_general = df[df['city'] == 'Moscow']\n"
   ]
  },
  {
   "cell_type": "code",
   "execution_count": 29,
   "metadata": {
    "deletable": false,
    "id": "ORaVRKto_Zcu"
   },
   "outputs": [],
   "source": [
    "# получение таблицы spb_general из тех строк таблицы df,\n",
    "# для которых значение в столбце 'city' равно 'Saint-Petersburg'\n",
    "spb_general = df[df['city'] == 'Saint-Petersburg']"
   ]
  },
  {
   "cell_type": "markdown",
   "metadata": {
    "deletable": false,
    "id": "MEJV-CX2_Zcu",
    "tags": [
     "start_task"
    ]
   },
   "source": [
    "**Задание 24**\n",
    "\n",
    "Создайте функцию `genre_weekday()` с четырьмя параметрами:\n",
    "* таблица (датафрейм) с данными,\n",
    "* день недели,\n",
    "* начальная временная метка в формате 'hh:mm',\n",
    "* последняя временная метка в формате 'hh:mm'.\n",
    "\n",
    "Функция должна вернуть информацию о топ-10 жанров тех треков, которые прослушивали в указанный день, в промежутке между двумя отметками времени."
   ]
  },
  {
   "cell_type": "code",
   "execution_count": 30,
   "metadata": {
    "deletable": false,
    "id": "laJT9BYl_Zcu"
   },
   "outputs": [],
   "source": [
    "# Объявление функции genre_weekday() с параметрами df, day, time1, time2,\n",
    "# которая возвращает информацию о самых популярных жанрах в указанный день в\n",
    "# заданное время:\n",
    "# 1) в переменную genre_df сохраняются те строки переданного датафрейма df, для\n",
    "#    которых одновременно:\n",
    "#    - значение в столбце day равно значению аргумента day\n",
    "#    - значение в столбце time больше значения аргумента time1\n",
    "#    - значение в столбце time меньше значения аргумента time2\n",
    "#    Используйте последовательную фильтрацию с помощью логической индексации.\n",
    "# 2) сгруппировать датафрейм genre_df по столбцу genre, взять один из его\n",
    "#    столбцов и посчитать методом count() количество записей для каждого из\n",
    "#    присутствующих жанров, получившийся Series записать в переменную\n",
    "#    genre_df_grouped\n",
    "# 3) отсортировать genre_df_grouped по убыванию встречаемости и сохранить\n",
    "#    в переменную genre_df_sorted\n",
    "# 4) вернуть Series из 10 первых значений genre_df_sorted, это будут топ-10\n",
    "#    популярных жанров (в указанный день, в заданное время)\n",
    "\n",
    "def genre_weekday(df, day, time1, time2):\n",
    "    # последовательная фильтрация\n",
    "    # оставляем в genre_df только те строки df, у которых день равен day\n",
    "    genre_df = df[df['day'] == day]\n",
    "    # оставляем в genre_df только те строки genre_df, у которых время меньше time2\n",
    "    genre_df = genre_df[genre_df['time'] < time2]\n",
    "    # оставляем в genre_df только те строки genre_df, у которых время больше time1\n",
    "    genre_df = genre_df[genre_df['time'] > time1]\n",
    "    # сгруппируем отфильтрованный датафрейм по столбцу с названиями жанров, \n",
    "    #возьмём столбец genre и посчитаем кол-во строк для каждого жанра методом count()\n",
    "    genre_df_grouped = genre_df.groupby('genre')['genre'].count()\n",
    "    # отсортируем результат по убыванию (чтобы в начале Series оказались самые популярные жанры)\n",
    "    genre_df_sorted = genre_df_grouped.sort_values(ascending=False)\n",
    "    # вернём Series с 10 самыми популярными жанрами в указанный отрезок времени заданного дня\n",
    "    return genre_df_sorted[:10]"
   ]
  },
  {
   "cell_type": "markdown",
   "metadata": {
    "deletable": false,
    "editable": false,
    "id": "la2s2_PF_Zcu",
    "tags": [
     "start_task"
    ]
   },
   "source": [
    "**Задание 25**\n",
    "\n",
    "\n",
    "Cравните результаты функции `genre_weekday()` для Москвы и Санкт-Петербурга в понедельник утром (с 7:00 до 11:00) и в пятницу вечером (с 17:00 до 23:00):"
   ]
  },
  {
   "cell_type": "code",
   "execution_count": 31,
   "metadata": {
    "deletable": false,
    "id": "yz7itPUQ_Zcu"
   },
   "outputs": [
    {
     "data": {
      "text/plain": [
       "genre\n",
       "pop    1\n",
       "Name: genre, dtype: int64"
      ]
     },
     "execution_count": 31,
     "metadata": {},
     "output_type": "execute_result"
    }
   ],
   "source": [
    "# вызов функции для утра понедельника в Москве (вместо df — таблица moscow_general)\n",
    "# объекты, хранящие время, являются строками и сравниваются как строки\n",
    "# пример вызова: genre_weekday(moscow_general, 'Monday', '07:00', '11:00')\n",
    "genre_weekday(moscow_general, 'Monday', '07:00', '11:00') "
   ]
  },
  {
   "cell_type": "code",
   "execution_count": 32,
   "metadata": {
    "deletable": false,
    "id": "kwUcHPdy_Zcu"
   },
   "outputs": [
    {
     "data": {
      "text/plain": [
       "genre\n",
       "indie     1\n",
       "pop       1\n",
       "spoken    1\n",
       "Name: genre, dtype: int64"
      ]
     },
     "execution_count": 32,
     "metadata": {},
     "output_type": "execute_result"
    }
   ],
   "source": [
    "# вызов функции для утра понедельника в Петербурге (вместо df — таблица spb_general)\n",
    "genre_weekday(spb_general, 'Monday', '07:00', '11:00')"
   ]
  },
  {
   "cell_type": "code",
   "execution_count": 33,
   "metadata": {
    "deletable": false,
    "id": "EzXVRE1o_Zcu"
   },
   "outputs": [
    {
     "data": {
      "text/plain": [
       "genre\n",
       "alternative     1\n",
       "dance           1\n",
       "instrumental    1\n",
       "Name: genre, dtype: int64"
      ]
     },
     "execution_count": 33,
     "metadata": {},
     "output_type": "execute_result"
    }
   ],
   "source": [
    "# вызов функции для вечера пятницы в Москве\n",
    "genre_weekday(moscow_general, 'Friday', '17:00', '23:00')"
   ]
  },
  {
   "cell_type": "code",
   "execution_count": 34,
   "metadata": {
    "deletable": false,
    "id": "JZaEKu5v_Zcu"
   },
   "outputs": [
    {
     "data": {
      "text/plain": [
       "Series([], Name: genre, dtype: int64)"
      ]
     },
     "execution_count": 34,
     "metadata": {},
     "output_type": "execute_result"
    }
   ],
   "source": [
    "# вызов функции для вечера пятницы в Петербурге\n",
    "genre_weekday(spb_general, 'Friday', '17:00', '23:00')"
   ]
  },
  {
   "cell_type": "markdown",
   "metadata": {
    "deletable": false,
    "editable": false,
    "id": "wrCe4MNX_Zcu"
   },
   "source": [
    "**Выводы**\n",
    "\n",
    "Если сравнить топ-10 жанров в понедельник утром, можно сделать такие выводы:\n",
    "\n",
    "1. В Москве и Петербурге слушают похожую музыку. Единственное различие — в московский рейтинг вошёл жанр “world”, а в петербургский — джаз и классика.\n",
    "\n",
    "2. В Москве пропущенных значений оказалось так много, что значение `'unknown'` заняло десятое место среди самых популярных жанров. Значит, пропущенные значения занимают существенную долю в данных и угрожают достоверности исследования.\n",
    "\n",
    "Вечер пятницы не меняет эту картину. Некоторые жанры поднимаются немного выше, другие спускаются, но в целом топ-10 остаётся тем же самым.\n",
    "\n",
    "Таким образом, вторая гипотеза подтвердилась лишь частично:\n",
    "* Пользователи слушают похожую музыку в начале недели и в конце.\n",
    "* Разница между Москвой и Петербургом не слишком выражена. В Москве чаще слушают русскую популярную музыку, в Петербурге — джаз.\n",
    "\n",
    "Однако пропуски в данных ставят под сомнение этот результат. В Москве их так много, что рейтинг топ-10 мог бы выглядеть иначе, если бы не утерянные  данные о жанрах."
   ]
  },
  {
   "cell_type": "markdown",
   "metadata": {
    "deletable": false,
    "editable": false,
    "id": "JolODAqr_Zcu"
   },
   "source": [
    "### Жанровые предпочтения в Москве и Петербурге\n",
    "\n",
    "Гипотеза: Петербург — столица рэпа, музыку этого жанра там слушают чаще, чем в Москве.  А Москва — город контрастов, в котором, тем не менее, преобладает поп-музыка."
   ]
  },
  {
   "cell_type": "markdown",
   "metadata": {
    "deletable": false,
    "editable": false,
    "id": "DlegSvaT_Zcu",
    "tags": [
     "start_task"
    ]
   },
   "source": [
    "**Задание 26**\n",
    "\n",
    "Сгруппируйте таблицу `moscow_general` по жанру и посчитайте прослушивания треков каждого жанра методом `count()`. Затем отсортируйте результат в порядке убывания и сохраните его в таблице `moscow_genres`."
   ]
  },
  {
   "cell_type": "code",
   "execution_count": 35,
   "metadata": {
    "deletable": false,
    "id": "r19lIPke_Zcu"
   },
   "outputs": [],
   "source": [
    "# одной строкой: группировка таблицы moscow_general по столбцу 'genre',\n",
    "# подсчёт числа значений 'genre' в этой группировке методом count(),\n",
    "# сортировка получившегося Series в порядке убывания и сохранение в moscow_genres\n",
    "moscow_genres = moscow_general.groupby('genre')['genre'].count().sort_values(ascending=False)"
   ]
  },
  {
   "cell_type": "markdown",
   "metadata": {
    "deletable": false,
    "editable": false,
    "id": "6kMuomxTiIr8",
    "tags": [
     "start_task"
    ]
   },
   "source": [
    "**Задание 27**\n",
    "\n",
    "Выведите на экран первые десять строк `moscow_genres`:"
   ]
  },
  {
   "cell_type": "code",
   "execution_count": 36,
   "metadata": {
    "deletable": false,
    "id": "WhCSooF8_Zcv"
   },
   "outputs": [
    {
     "data": {
      "text/plain": [
       "genre\n",
       "dance           6\n",
       "indie           2\n",
       "pop             2\n",
       "alternative     1\n",
       "ambient         1\n",
       "classical       1\n",
       "extrememetal    1\n",
       "hiphop          1\n",
       "instrumental    1\n",
       "latin           1\n",
       "Name: genre, dtype: int64"
      ]
     },
     "execution_count": 36,
     "metadata": {},
     "output_type": "execute_result"
    }
   ],
   "source": [
    "# просмотр первых 10 строк moscow_genres\n",
    "moscow_genres.head(10)"
   ]
  },
  {
   "cell_type": "markdown",
   "metadata": {
    "deletable": false,
    "editable": false,
    "id": "cnPG2vnN_Zcv",
    "tags": [
     "start_task"
    ]
   },
   "source": [
    "**Задание 28**\n",
    "\n",
    "\n",
    "Теперь повторите то же и для Петербурга.\n",
    "\n",
    "Сгруппируйте таблицу `spb_general` по жанру. Посчитайте прослушивания треков каждого жанра. Результат отсортируйте в порядке убывания и сохраните в таблице `spb_genres`:\n"
   ]
  },
  {
   "cell_type": "code",
   "execution_count": 37,
   "metadata": {
    "deletable": false,
    "id": "gluLIpE7_Zcv"
   },
   "outputs": [],
   "source": [
    "# одной строкой: группировка таблицы spb_general по столбцу 'genre',\n",
    "# подсчёт числа значений 'genre' в этой группировке методом count(),\n",
    "# сортировка получившегося Series в порядке убывания и сохранение в spb_genres\n",
    "spb_genres = spb_general.groupby('genre')['genre'].count().sort_values(ascending=False)"
   ]
  },
  {
   "cell_type": "markdown",
   "metadata": {
    "deletable": false,
    "editable": false,
    "id": "5Doha_ODgyQ8",
    "tags": [
     "start_task"
    ]
   },
   "source": [
    "**Задание 29**\n",
    "\n",
    "Выведите на экран первые десять строк `spb_genres`:"
   ]
  },
  {
   "cell_type": "code",
   "execution_count": 38,
   "metadata": {
    "deletable": false,
    "id": "uaGJHjVU_Zcv"
   },
   "outputs": [
    {
     "data": {
      "text/plain": [
       "genre\n",
       "pop             5\n",
       "dance           4\n",
       "jazz            2\n",
       "David Civera    1\n",
       "classicmetal    1\n",
       "electronic      1\n",
       "hiphop          1\n",
       "indie           1\n",
       "spoken          1\n",
       "Name: genre, dtype: int64"
      ]
     },
     "execution_count": 38,
     "metadata": {},
     "output_type": "execute_result"
    }
   ],
   "source": [
    "# просмотр первых 10 строк spb_genres\n",
    "spb_genres.head(10)"
   ]
  },
  {
   "cell_type": "markdown",
   "metadata": {
    "deletable": false,
    "editable": false,
    "id": "RY51YJYu_Zcv"
   },
   "source": [
    "**Выводы**"
   ]
  },
  {
   "cell_type": "markdown",
   "metadata": {
    "deletable": false,
    "editable": false,
    "id": "nVhnJEm__Zcv"
   },
   "source": [
    "Гипотеза частично подтвердилась:\n",
    "* Поп-музыка — самый популярный жанр в Москве, как и предполагала гипотеза. Более того, в топ-10 жанров встречается близкий жанр — русская популярная музыка.\n",
    "* Вопреки ожиданиям, рэп одинаково популярен в Москве и Петербурге.\n"
   ]
  },
  {
   "cell_type": "markdown",
   "metadata": {
    "deletable": false,
    "editable": false,
    "id": "ykKQ0N65_Zcv"
   },
   "source": [
    "## Итоги исследования"
   ]
  },
  {
   "cell_type": "markdown",
   "metadata": {
    "deletable": false,
    "editable": false,
    "id": "tjUwbHb3_Zcv"
   },
   "source": [
    "Вы проверили три гипотезы и установили:\n",
    "\n",
    "1. День недели по-разному влияет на активность пользователей в Москве и Петербурге.\n",
    "\n",
    "Первая гипотеза полностью подтвердилась.\n",
    "\n",
    "2. Музыкальные предпочтения не сильно меняются в течение недели — будь то Москва или Петербург. Небольшие различия заметны в начале недели, по понедельникам:\n",
    "* в Москве слушают музыку жанра “world”,\n",
    "* в Петербурге — джаз и классику.\n",
    "\n",
    "Таким образом, вторая гипотеза подтвердилась лишь отчасти. Этот результат мог оказаться иным, если бы не пропуски в данных.\n",
    "\n",
    "3. Во вкусах пользователей Москвы и Петербурга больше общего, чем различий. Вопреки ожиданиям, предпочтения жанров в Петербурге напоминают московские.\n",
    "\n",
    "Третья гипотеза не подтвердилась. Если различия в предпочтениях и существуют, на основной массе пользователей они незаметны.\n",
    "\n",
    "**На практике исследования содержат проверки статистических гипотез.**\n",
    "Из данных одного сервиса не всегда можно сделать вывод о всех жителях города.\n",
    "Проверки статистических гипотез покажут, насколько они достоверны, исходя из имеющихся данных.\n",
    "С методами проверок гипотез вы ещё познакомитесь в следующих темах."
   ]
  }
 ],
 "metadata": {
  "ExecuteTimeLog": [
   {
    "duration": 458,
    "start_time": "2023-07-07T10:03:00.902Z"
   },
   {
    "duration": 119,
    "start_time": "2023-07-07T10:03:30.060Z"
   },
   {
    "duration": 283,
    "start_time": "2023-07-07T10:03:37.527Z"
   },
   {
    "duration": 20,
    "start_time": "2023-07-07T10:03:50.870Z"
   },
   {
    "duration": 34,
    "start_time": "2023-07-07T10:04:06.079Z"
   },
   {
    "duration": 69,
    "start_time": "2023-07-07T10:08:56.336Z"
   },
   {
    "duration": 4,
    "start_time": "2023-07-07T10:08:59.746Z"
   },
   {
    "duration": 14,
    "start_time": "2023-07-07T10:11:06.121Z"
   },
   {
    "duration": 5,
    "start_time": "2023-07-07T10:11:20.653Z"
   },
   {
    "duration": 18,
    "start_time": "2023-07-07T10:11:47.868Z"
   },
   {
    "duration": 5,
    "start_time": "2023-07-07T10:11:50.597Z"
   },
   {
    "duration": 11,
    "start_time": "2023-07-07T10:11:59.679Z"
   },
   {
    "duration": 5,
    "start_time": "2023-07-07T10:12:02.189Z"
   },
   {
    "duration": 5,
    "start_time": "2023-07-07T10:12:13.423Z"
   },
   {
    "duration": 31,
    "start_time": "2023-07-07T10:12:27.096Z"
   },
   {
    "duration": 4,
    "start_time": "2023-07-07T10:12:33.692Z"
   },
   {
    "duration": 470,
    "start_time": "2023-07-07T10:13:24.978Z"
   },
   {
    "duration": 207,
    "start_time": "2023-07-07T10:13:27.268Z"
   },
   {
    "duration": 20,
    "start_time": "2023-07-07T10:13:29.260Z"
   },
   {
    "duration": 33,
    "start_time": "2023-07-07T10:13:32.730Z"
   },
   {
    "duration": 3,
    "start_time": "2023-07-07T10:13:36.115Z"
   },
   {
    "duration": 5,
    "start_time": "2023-07-07T10:13:39.369Z"
   },
   {
    "duration": 14,
    "start_time": "2023-07-07T10:13:44.527Z"
   },
   {
    "duration": 5,
    "start_time": "2023-07-07T10:13:47.146Z"
   },
   {
    "duration": 29,
    "start_time": "2023-07-07T10:14:07.320Z"
   },
   {
    "duration": 54,
    "start_time": "2023-07-07T10:14:18.522Z"
   },
   {
    "duration": 8,
    "start_time": "2023-07-07T10:14:20.450Z"
   },
   {
    "duration": 440,
    "start_time": "2023-07-07T10:14:46.967Z"
   },
   {
    "duration": 202,
    "start_time": "2023-07-07T10:14:48.122Z"
   },
   {
    "duration": 27,
    "start_time": "2023-07-07T10:14:49.153Z"
   },
   {
    "duration": 34,
    "start_time": "2023-07-07T10:14:50.626Z"
   },
   {
    "duration": 4,
    "start_time": "2023-07-07T10:14:53.027Z"
   },
   {
    "duration": 5,
    "start_time": "2023-07-07T10:14:57.450Z"
   },
   {
    "duration": 14,
    "start_time": "2023-07-07T10:15:02.124Z"
   },
   {
    "duration": 5,
    "start_time": "2023-07-07T10:15:13.737Z"
   },
   {
    "duration": 34,
    "start_time": "2023-07-07T10:15:57.521Z"
   },
   {
    "duration": 28,
    "start_time": "2023-07-07T10:16:27.596Z"
   },
   {
    "duration": 32,
    "start_time": "2023-07-07T10:18:07.644Z"
   },
   {
    "duration": 27,
    "start_time": "2023-07-07T10:18:20.893Z"
   },
   {
    "duration": 91,
    "start_time": "2023-07-07T10:19:16.658Z"
   },
   {
    "duration": 10,
    "start_time": "2023-07-07T10:19:29.786Z"
   },
   {
    "duration": 10,
    "start_time": "2023-07-07T10:19:32.825Z"
   },
   {
    "duration": 108,
    "start_time": "2023-07-07T10:19:45.095Z"
   },
   {
    "duration": 104,
    "start_time": "2023-07-07T10:20:01.482Z"
   },
   {
    "duration": 83,
    "start_time": "2023-07-07T10:20:10.869Z"
   },
   {
    "duration": 9,
    "start_time": "2023-07-07T10:20:35.284Z"
   },
   {
    "duration": 9,
    "start_time": "2023-07-07T10:21:02.014Z"
   },
   {
    "duration": 30,
    "start_time": "2023-07-07T10:22:34.627Z"
   },
   {
    "duration": 13,
    "start_time": "2023-07-07T10:24:06.497Z"
   },
   {
    "duration": 73,
    "start_time": "2023-07-07T10:24:41.678Z"
   },
   {
    "duration": 68,
    "start_time": "2023-07-07T10:24:56.904Z"
   },
   {
    "duration": 9,
    "start_time": "2023-07-07T10:25:10.383Z"
   },
   {
    "duration": 17,
    "start_time": "2023-07-07T10:27:04.504Z"
   },
   {
    "duration": 13,
    "start_time": "2023-07-07T10:28:56.650Z"
   },
   {
    "duration": 15,
    "start_time": "2023-07-07T10:29:09.427Z"
   },
   {
    "duration": 59,
    "start_time": "2023-07-07T10:29:41.148Z"
   },
   {
    "duration": 69,
    "start_time": "2023-07-07T11:58:39.469Z"
   },
   {
    "duration": 9,
    "start_time": "2023-07-07T11:58:46.013Z"
   },
   {
    "duration": 483,
    "start_time": "2023-07-07T11:59:07.480Z"
   },
   {
    "duration": 274,
    "start_time": "2023-07-07T11:59:10.104Z"
   },
   {
    "duration": 29,
    "start_time": "2023-07-07T11:59:12.836Z"
   },
   {
    "duration": 40,
    "start_time": "2023-07-07T11:59:16.557Z"
   },
   {
    "duration": 3,
    "start_time": "2023-07-07T11:59:20.074Z"
   },
   {
    "duration": 6,
    "start_time": "2023-07-07T11:59:22.675Z"
   },
   {
    "duration": 13,
    "start_time": "2023-07-07T11:59:26.226Z"
   },
   {
    "duration": 21,
    "start_time": "2023-07-07T11:59:34.954Z"
   },
   {
    "duration": 5,
    "start_time": "2023-07-07T11:59:38.936Z"
   },
   {
    "duration": 20,
    "start_time": "2023-07-07T12:00:05.637Z"
   },
   {
    "duration": 5,
    "start_time": "2023-07-07T12:00:08.207Z"
   },
   {
    "duration": 462,
    "start_time": "2023-07-07T12:02:00.007Z"
   },
   {
    "duration": 204,
    "start_time": "2023-07-07T12:02:02.515Z"
   },
   {
    "duration": 23,
    "start_time": "2023-07-07T12:02:03.984Z"
   },
   {
    "duration": 33,
    "start_time": "2023-07-07T12:02:06.058Z"
   },
   {
    "duration": 4,
    "start_time": "2023-07-07T12:02:07.876Z"
   },
   {
    "duration": 6,
    "start_time": "2023-07-07T12:02:09.890Z"
   },
   {
    "duration": 14,
    "start_time": "2023-07-07T12:02:12.172Z"
   },
   {
    "duration": 5,
    "start_time": "2023-07-07T12:02:13.401Z"
   },
   {
    "duration": 28,
    "start_time": "2023-07-07T12:02:14.504Z"
   },
   {
    "duration": 37,
    "start_time": "2023-07-07T12:02:16.076Z"
   },
   {
    "duration": 26,
    "start_time": "2023-07-07T12:02:17.196Z"
   },
   {
    "duration": 120,
    "start_time": "2023-07-07T12:02:19.806Z"
   },
   {
    "duration": 154,
    "start_time": "2023-07-07T12:02:21.364Z"
   },
   {
    "duration": 78,
    "start_time": "2023-07-07T12:02:23.536Z"
   },
   {
    "duration": 9,
    "start_time": "2023-07-07T12:02:27.048Z"
   },
   {
    "duration": 25,
    "start_time": "2023-07-07T12:02:28.210Z"
   },
   {
    "duration": 63,
    "start_time": "2023-07-07T12:02:29.457Z"
   },
   {
    "duration": 89,
    "start_time": "2023-07-07T12:03:18.898Z"
   },
   {
    "duration": 41,
    "start_time": "2023-07-07T12:08:58.640Z"
   },
   {
    "duration": 40,
    "start_time": "2023-07-07T12:11:07.100Z"
   },
   {
    "duration": 18,
    "start_time": "2023-07-07T12:13:41.156Z"
   },
   {
    "duration": 18,
    "start_time": "2023-07-07T12:14:33.385Z"
   },
   {
    "duration": 119,
    "start_time": "2023-07-07T12:23:40.426Z"
   },
   {
    "duration": 38,
    "start_time": "2023-07-07T12:24:14.448Z"
   },
   {
    "duration": 29,
    "start_time": "2023-07-07T12:24:25.062Z"
   },
   {
    "duration": 30,
    "start_time": "2023-07-07T12:24:33.483Z"
   },
   {
    "duration": 38,
    "start_time": "2023-07-07T12:27:55.497Z"
   },
   {
    "duration": 37,
    "start_time": "2023-07-07T12:28:27.132Z"
   },
   {
    "duration": 26,
    "start_time": "2023-07-07T12:28:40.264Z"
   },
   {
    "duration": 24,
    "start_time": "2023-07-07T12:31:07.450Z"
   },
   {
    "duration": 28,
    "start_time": "2023-07-07T12:31:13.596Z"
   },
   {
    "duration": 22,
    "start_time": "2023-07-07T12:31:18.536Z"
   },
   {
    "duration": 28,
    "start_time": "2023-07-07T12:31:22.956Z"
   },
   {
    "duration": 19,
    "start_time": "2023-07-07T12:31:31.574Z"
   },
   {
    "duration": 26,
    "start_time": "2023-07-07T12:31:32.240Z"
   },
   {
    "duration": 25,
    "start_time": "2023-07-07T12:31:32.752Z"
   },
   {
    "duration": 10,
    "start_time": "2023-07-07T12:34:12.733Z"
   },
   {
    "duration": 12,
    "start_time": "2023-07-07T12:35:46.585Z"
   },
   {
    "duration": 13,
    "start_time": "2023-07-07T12:39:55.629Z"
   },
   {
    "duration": 15,
    "start_time": "2023-07-07T12:42:38.996Z"
   },
   {
    "duration": 83,
    "start_time": "2023-07-07T12:42:58.577Z"
   },
   {
    "duration": 400,
    "start_time": "2023-07-07T12:43:12.542Z"
   },
   {
    "duration": 230,
    "start_time": "2023-07-07T12:43:13.811Z"
   },
   {
    "duration": 20,
    "start_time": "2023-07-07T12:43:14.728Z"
   },
   {
    "duration": 43,
    "start_time": "2023-07-07T12:43:15.689Z"
   },
   {
    "duration": 3,
    "start_time": "2023-07-07T12:43:17.106Z"
   },
   {
    "duration": 7,
    "start_time": "2023-07-07T12:43:18.871Z"
   },
   {
    "duration": 15,
    "start_time": "2023-07-07T12:43:19.775Z"
   },
   {
    "duration": 8,
    "start_time": "2023-07-07T12:43:20.670Z"
   },
   {
    "duration": 31,
    "start_time": "2023-07-07T12:43:21.523Z"
   },
   {
    "duration": 29,
    "start_time": "2023-07-07T12:43:22.847Z"
   },
   {
    "duration": 34,
    "start_time": "2023-07-07T12:43:23.743Z"
   },
   {
    "duration": 79,
    "start_time": "2023-07-07T12:43:24.658Z"
   },
   {
    "duration": 88,
    "start_time": "2023-07-07T12:43:25.565Z"
   },
   {
    "duration": 95,
    "start_time": "2023-07-07T12:43:26.476Z"
   },
   {
    "duration": 83,
    "start_time": "2023-07-07T12:43:27.827Z"
   },
   {
    "duration": 23,
    "start_time": "2023-07-07T12:43:28.789Z"
   },
   {
    "duration": 76,
    "start_time": "2023-07-07T12:43:29.746Z"
   },
   {
    "duration": 19,
    "start_time": "2023-07-07T12:43:32.553Z"
   },
   {
    "duration": 19,
    "start_time": "2023-07-07T12:43:33.498Z"
   },
   {
    "duration": 31,
    "start_time": "2023-07-07T12:43:34.818Z"
   },
   {
    "duration": 31,
    "start_time": "2023-07-07T12:43:35.755Z"
   },
   {
    "duration": 19,
    "start_time": "2023-07-07T12:43:36.184Z"
   },
   {
    "duration": 37,
    "start_time": "2023-07-07T12:43:36.615Z"
   },
   {
    "duration": 19,
    "start_time": "2023-07-07T12:43:37.073Z"
   },
   {
    "duration": 36,
    "start_time": "2023-07-07T12:43:37.511Z"
   },
   {
    "duration": 25,
    "start_time": "2023-07-07T12:43:37.927Z"
   },
   {
    "duration": 12,
    "start_time": "2023-07-07T12:43:38.856Z"
   },
   {
    "duration": 18,
    "start_time": "2023-07-07T12:47:40.313Z"
   },
   {
    "duration": 29,
    "start_time": "2023-07-07T12:48:07.942Z"
   },
   {
    "duration": 38,
    "start_time": "2023-07-07T12:48:39.792Z"
   },
   {
    "duration": 428,
    "start_time": "2023-07-07T12:49:46.128Z"
   },
   {
    "duration": 200,
    "start_time": "2023-07-07T12:49:46.944Z"
   },
   {
    "duration": 20,
    "start_time": "2023-07-07T12:49:47.778Z"
   },
   {
    "duration": 31,
    "start_time": "2023-07-07T12:49:48.648Z"
   },
   {
    "duration": 2,
    "start_time": "2023-07-07T12:49:49.886Z"
   },
   {
    "duration": 7,
    "start_time": "2023-07-07T12:49:51.356Z"
   },
   {
    "duration": 15,
    "start_time": "2023-07-07T12:49:52.058Z"
   },
   {
    "duration": 5,
    "start_time": "2023-07-07T12:49:52.748Z"
   },
   {
    "duration": 26,
    "start_time": "2023-07-07T12:49:53.560Z"
   },
   {
    "duration": 23,
    "start_time": "2023-07-07T12:49:54.766Z"
   },
   {
    "duration": 27,
    "start_time": "2023-07-07T12:49:55.571Z"
   },
   {
    "duration": 83,
    "start_time": "2023-07-07T12:49:56.330Z"
   },
   {
    "duration": 89,
    "start_time": "2023-07-07T12:49:57.169Z"
   },
   {
    "duration": 84,
    "start_time": "2023-07-07T12:49:57.960Z"
   },
   {
    "duration": 51,
    "start_time": "2023-07-07T12:49:59.191Z"
   },
   {
    "duration": 29,
    "start_time": "2023-07-07T12:50:00.905Z"
   },
   {
    "duration": 111,
    "start_time": "2023-07-07T12:50:00.937Z"
   },
   {
    "duration": 14,
    "start_time": "2023-07-07T12:50:03.339Z"
   },
   {
    "duration": 13,
    "start_time": "2023-07-07T12:50:04.351Z"
   },
   {
    "duration": 26,
    "start_time": "2023-07-07T12:50:05.310Z"
   },
   {
    "duration": 28,
    "start_time": "2023-07-07T12:50:05.737Z"
   },
   {
    "duration": 24,
    "start_time": "2023-07-07T12:50:05.943Z"
   },
   {
    "duration": 23,
    "start_time": "2023-07-07T12:50:06.164Z"
   },
   {
    "duration": 24,
    "start_time": "2023-07-07T12:50:06.388Z"
   },
   {
    "duration": 32,
    "start_time": "2023-07-07T12:50:06.885Z"
   },
   {
    "duration": 25,
    "start_time": "2023-07-07T12:50:07.372Z"
   },
   {
    "duration": 53,
    "start_time": "2023-07-07T12:50:09.404Z"
   },
   {
    "duration": 108,
    "start_time": "2023-07-07T12:50:52.123Z"
   },
   {
    "duration": 15,
    "start_time": "2023-07-07T12:52:04.851Z"
   },
   {
    "duration": 16,
    "start_time": "2023-07-07T12:52:27.224Z"
   },
   {
    "duration": 7,
    "start_time": "2023-07-07T12:59:31.558Z"
   },
   {
    "duration": 6,
    "start_time": "2023-07-07T12:59:34.788Z"
   },
   {
    "duration": 87,
    "start_time": "2023-07-07T13:01:13.502Z"
   },
   {
    "duration": 21,
    "start_time": "2023-07-07T13:01:47.688Z"
   },
   {
    "duration": 5,
    "start_time": "2023-07-07T13:03:14.858Z"
   },
   {
    "duration": 20,
    "start_time": "2023-07-07T13:03:42.311Z"
   },
   {
    "duration": 1868,
    "start_time": "2023-07-07T13:04:23.814Z"
   },
   {
    "duration": 13,
    "start_time": "2023-07-07T13:05:42.031Z"
   },
   {
    "duration": 14,
    "start_time": "2023-07-07T13:06:00.712Z"
   },
   {
    "duration": 7,
    "start_time": "2023-07-07T13:06:12.698Z"
   },
   {
    "duration": 21,
    "start_time": "2023-07-07T13:09:21.150Z"
   },
   {
    "duration": 29,
    "start_time": "2023-07-07T13:09:45.821Z"
   },
   {
    "duration": 13,
    "start_time": "2023-07-07T13:09:48.122Z"
   },
   {
    "duration": 33,
    "start_time": "2023-07-07T13:09:50.756Z"
   }
  ],
  "colab": {
   "collapsed_sections": [
    "E0vqbgi9ay0H",
    "VUC88oWjTJw2"
   ],
   "provenance": []
  },
  "kernelspec": {
   "display_name": "Python 3 (ipykernel)",
   "language": "python",
   "name": "python3"
  },
  "language_info": {
   "codemirror_mode": {
    "name": "ipython",
    "version": 3
   },
   "file_extension": ".py",
   "mimetype": "text/x-python",
   "name": "python",
   "nbconvert_exporter": "python",
   "pygments_lexer": "ipython3",
   "version": "3.11.2"
  },
  "toc": {
   "base_numbering": 1,
   "nav_menu": {
    "height": "215px",
    "width": "403px"
   },
   "number_sections": true,
   "sideBar": true,
   "skip_h1_title": true,
   "title_cell": "Table of Contents",
   "title_sidebar": "Contents",
   "toc_cell": false,
   "toc_position": {
    "height": "calc(100% - 180px)",
    "left": "10px",
    "top": "150px",
    "width": "285.825px"
   },
   "toc_section_display": true,
   "toc_window_display": false
  }
 },
 "nbformat": 4,
 "nbformat_minor": 1
}
